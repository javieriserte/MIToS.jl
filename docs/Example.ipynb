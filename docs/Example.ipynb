{
 "cells": [
  {
   "cell_type": "code",
   "execution_count": 2,
   "metadata": {
    "collapsed": false
   },
   "outputs": [
    {
     "data": {
      "text/html": [
       "<script src=\"https://s3.eu-central-1.amazonaws.com/cdn.bio.sh/msa/latest/msa.min.gz.js\"></script>\n",
       "  \n",
       "<script type=\"text/javascript\">\n",
       "\n",
       "// we provide a couple of included file parser\n",
       "// you can also use the property 'importURL'\n",
       "msa.io.fasta.read(\"https://raw.githubusercontent.com/diegozea/MIToS.jl/master/test/data/Gaoetal2011.fasta\", function(err, seqs){\n",
       "\n",
       "  var opts = {\n",
       "    el: document.getElementById(\"yourDiv\"),\n",
       "    // you can dynamically hide or display visualization elements\n",
       "    vis: {\n",
       "      conserv: false,\n",
       "      overviewbox: false,\n",
       "      seqlogo:true\n",
       "    },\n",
       "    seqs: seqs,\n",
       "    // smaller menu for JSBin\n",
       "    menu: \"small\",\n",
       "    bootstrapMenu: false // IJulia\n",
       "  };\n",
       "\n",
       "  // init msa\n",
       "  var m = new msa(opts).render();\n",
       "});\n",
       "\n",
       "</script>\n",
       "\n",
       "<div id=\"yourDiv\">Run this IJulia cell with Internet connection to see the MSA.</div>\n"
      ]
     },
     "metadata": {},
     "output_type": "display_data"
    }
   ],
   "source": [
    "display(\"text/html\", string(\"\"\"\n",
    "<script src=\"https://s3.eu-central-1.amazonaws.com/cdn.bio.sh/msa/latest/msa.min.gz.js\"></script>\n",
    "  \n",
    "<script type=\"text/javascript\">\n",
    "\n",
    "// we provide a couple of included file parser\n",
    "// you can also use the property 'importURL'\n",
    "msa.io.fasta.read(\"https://raw.githubusercontent.com/diegozea/MIToS.jl/master/test/data/Gaoetal2011.fasta\", function(err, seqs){\n",
    "\n",
    "  var opts = {\n",
    "    el: document.getElementById(\"yourDiv\"),\n",
    "    // you can dynamically hide or display visualization elements\n",
    "    vis: {\n",
    "      conserv: false,\n",
    "      overviewbox: false,\n",
    "      seqlogo:true\n",
    "    },\n",
    "    seqs: seqs,\n",
    "    // smaller menu for JSBin\n",
    "    menu: \"small\",\n",
    "    bootstrapMenu: false // IJulia\n",
    "  };\n",
    "\n",
    "  // init msa\n",
    "  var m = new msa(opts).render();\n",
    "});\n",
    "\n",
    "</script>\n",
    "\n",
    "<div id=\"yourDiv\">Run this IJulia cell with Internet connection to see the MSA.</div>\n",
    "\"\"\"))"
   ]
  },
  {
   "cell_type": "code",
   "execution_count": null,
   "metadata": {
    "collapsed": true
   },
   "outputs": [],
   "source": []
  }
 ],
 "metadata": {
  "kernelspec": {
   "display_name": "Julia 0.4.1",
   "language": "julia",
   "name": "julia-0.4"
  },
  "language_info": {
   "file_extension": ".jl",
   "mimetype": "application/julia",
   "name": "julia",
   "version": "0.4.1"
  }
 },
 "nbformat": 4,
 "nbformat_minor": 0
}
