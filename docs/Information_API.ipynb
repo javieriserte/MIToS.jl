{
 "cells": [
  {
   "cell_type": "markdown",
   "metadata": {},
   "source": [
    "# Information API\n",
    "\n",
    "- [Types](#Types)\n",
    "    - [Pseudocounts](#Pseudocounts)\n",
    "    - [Contingency tables](#Contingency-tables)\n",
    "    - [Information-measures](#Information-measures)\n",
    "    - [Imported from MIToS.MSA](#Imported-from-MIToS.MSA)\n",
    "- [Constants](#Constants)\n",
    "- [Methods](#Methods)\n",
    "    - [Working with Contingency tables](#Working-with-Contingency-tables)\n",
    "    - [Estimate](#Estimate)\n",
    "    - [Measures](#Measures)\n",
    "    - [Imported from Base](#Imported-from-Base)"
   ]
  },
  {
   "cell_type": "code",
   "execution_count": 1,
   "metadata": {
    "collapsed": false
   },
   "outputs": [
    {
     "name": "stderr",
     "output_type": "stream",
     "text": [
      "INFO: Recompiling stale cache file /home/diego/.julia/lib/v0.4/MIToS.ji for module MIToS.\n"
     ]
    }
   ],
   "source": [
    "using MIToS.Information"
   ]
  },
  {
   "cell_type": "code",
   "execution_count": 2,
   "metadata": {
    "collapsed": false
   },
   "outputs": [
    {
     "data": {
      "text/latex": [
       "The \\texttt{Information} module of MIToS defines types and functions useful to calculate information measures (e.g. \\emph{Mutual Information} (MI) and \\emph{Entropy}) over a Multiple Sequence Alignment (MSA). This module was designed to count \\texttt{Residue}s (defined in the \\texttt{MSA} module) in special contingency tables (as fast as possible) and to derive probabilities from this counts. Also, includes methods for applying corrections to that tables, e.g. pseudocounts and pseudo frequencies. Finally, \\texttt{Information} allows to use this probabilities and counts to estimate information measures and other frequency based values.\n",
       "\\textbf{Features}\n",
       "\\begin{itemize}\n",
       "\\item Estimate multi dimensional frequencies and probabilities tables from sequences, MSAs, etc...\n",
       "\\item Correction for small number of observations\n",
       "\\item Correction for data redundancy on a MSA\n",
       "\\item Estimate information measures\n",
       "\\item Calculate corrected mutual information between residues\n",
       "\\end{itemize}\n",
       "\\begin{verbatim}\n",
       "\n",
       "using MIToS.Information\n",
       "\\end{verbatim}\n"
      ],
      "text/markdown": [
       "The `Information` module of MIToS defines types and functions useful to calculate information measures (e.g. *Mutual Information* (MI) and *Entropy*) over a Multiple Sequence Alignment (MSA). This module was designed to count `Residue`s (defined in the `MSA` module) in special contingency tables (as fast as possible) and to derive probabilities from this counts. Also, includes methods for applying corrections to that tables, e.g. pseudocounts and pseudo frequencies. Finally, `Information` allows to use this probabilities and counts to estimate information measures and other frequency based values.\n",
       "\n",
       "**Features**\n",
       "\n",
       "  * Estimate multi dimensional frequencies and probabilities tables from sequences, MSAs, etc...\n",
       "  * Correction for small number of observations\n",
       "  * Correction for data redundancy on a MSA\n",
       "  * Estimate information measures\n",
       "  * Calculate corrected mutual information between residues\n",
       "\n",
       "```julia\n",
       "\n",
       "using MIToS.Information\n",
       "```\n"
      ],
      "text/plain": [
       "The `Information` module of MIToS defines types and functions useful to calculate information measures (e.g. *Mutual Information* (MI) and *Entropy*) over a Multiple Sequence Alignment (MSA). This module was designed to count `Residue`s (defined in the `MSA` module) in special contingency tables (as fast as possible) and to derive probabilities from this counts. Also, includes methods for applying corrections to that tables, e.g. pseudocounts and pseudo frequencies. Finally, `Information` allows to use this probabilities and counts to estimate information measures and other frequency based values.\n",
       "\n",
       "**Features**\n",
       "\n",
       "  * Estimate multi dimensional frequencies and probabilities tables from sequences, MSAs, etc...\n",
       "  * Correction for small number of observations\n",
       "  * Correction for data redundancy on a MSA\n",
       "  * Estimate information measures\n",
       "  * Calculate corrected mutual information between residues\n",
       "\n",
       "```julia\n",
       "\n",
       "using MIToS.Information\n",
       "```\n"
      ]
     },
     "execution_count": 2,
     "metadata": {},
     "output_type": "execute_result"
    }
   ],
   "source": [
    "?MIToS.Information"
   ]
  },
  {
   "cell_type": "markdown",
   "metadata": {},
   "source": [
    "<div class=\"panel panel-info\">\n",
    "    <div class=\"panel-heading\">\n",
    "        <strong>Julia help mode</strong>\n",
    "    </div>\n",
    "    <div class=\"panel-body\">\n",
    "        <p>If you type <code>?</code> at the beginning of the Julia REPL line, you will enter in the Julia help mode. In this mode, Julia prints the help or <strong>documentation</strong> of the entered element. This is a nice way of getting information about MIToS functions, types, etc. from Julia.</p>\n",
    "    </div>\n",
    "</div>"
   ]
  },
  {
   "cell_type": "markdown",
   "metadata": {},
   "source": [
    "<a href=\"#\"><i class=\"fa fa-arrow-up\"></i></a>\n",
    "\n",
    "## Types"
   ]
  },
  {
   "cell_type": "code",
   "execution_count": 3,
   "metadata": {
    "collapsed": false
   },
   "outputs": [
    {
     "data": {
      "text/latex": [
       "\\texttt{SequenceWeights} is an alias for \\texttt{Union{ClusteringResult, AbstractVector}}.\n",
       "This is the type of the keyword argment \\texttt{weight} of \\texttt{count}, \\texttt{probabilities} and derived functions. The type should define \\texttt{getweight} to be useful in those functions.\n"
      ],
      "text/markdown": [
       "`SequenceWeights` is an alias for `Union{ClusteringResult, AbstractVector}`.\n",
       "\n",
       "This is the type of the keyword argment `weight` of `count`, `probabilities` and derived functions. The type should define `getweight` to be useful in those functions.\n"
      ],
      "text/plain": [
       "`SequenceWeights` is an alias for `Union{ClusteringResult, AbstractVector}`.\n",
       "\n",
       "This is the type of the keyword argment `weight` of `count`, `probabilities` and derived functions. The type should define `getweight` to be useful in those functions.\n"
      ]
     },
     "execution_count": 3,
     "metadata": {},
     "output_type": "execute_result"
    }
   ],
   "source": [
    "?MIToS.Information.SequenceWeights"
   ]
  },
  {
   "cell_type": "markdown",
   "metadata": {},
   "source": [
    "<a href=\"#\"><i class=\"fa fa-arrow-up\"></i></a>\n",
    "\n",
    "### Pseudocounts"
   ]
  },
  {
   "cell_type": "code",
   "execution_count": 4,
   "metadata": {
    "collapsed": false
   },
   "outputs": [
    {
     "name": "stderr",
     "output_type": "stream",
     "text": [
      "WARNING: both DataArrays and StatsBase export \"autocor\"; uses of it in module DataFrames must be qualified\n",
      "WARNING: both DataArrays and StatsBase export \"inverse_rle\"; uses of it in module DataFrames must be qualified\n",
      "WARNING: both DataArrays and StatsBase export \"rle\"; uses of it in module DataFrames must be qualified\n"
     ]
    },
    {
     "data": {
      "text/latex": [
       "\\textbf{Summary:}\n",
       "\\begin{verbatim}\n",
       "abstract MIToS.Information.Pseudocount{T<:Real} <: Any\n",
       "\\end{verbatim}\n",
       "\\textbf{Subtypes:}\n",
       "\\begin{verbatim}\n",
       "MIToS.Information.AdditiveSmoothing{T<:Real}\n",
       "\\end{verbatim}\n"
      ],
      "text/markdown": [
       "**Summary:**\n",
       "\n",
       "```julia\n",
       "abstract MIToS.Information.Pseudocount{T<:Real} <: Any\n",
       "```\n",
       "\n",
       "**Subtypes:**\n",
       "\n",
       "```julia\n",
       "MIToS.Information.AdditiveSmoothing{T<:Real}\n",
       "```\n"
      ],
      "text/plain": [
       "**Summary:**\n",
       "\n",
       "```julia\n",
       "abstract MIToS.Information.Pseudocount{T<:Real} <: Any\n",
       "```\n",
       "\n",
       "**Subtypes:**\n",
       "\n",
       "```julia\n",
       "MIToS.Information.AdditiveSmoothing{T<:Real}\n",
       "```\n"
      ]
     },
     "execution_count": 4,
     "metadata": {},
     "output_type": "execute_result"
    }
   ],
   "source": [
    "Docs.typesummary( MIToS.Information.Pseudocount )"
   ]
  },
  {
   "cell_type": "code",
   "execution_count": 5,
   "metadata": {
    "collapsed": false
   },
   "outputs": [
    {
     "data": {
      "text/latex": [
       "\\textbf{Additive Smoothing} or fixed pseudocount  \\texttt{λ}  for \\texttt{ResidueCount} (in order to estimate probabilities when the number of samples is low).\n",
       "Common values of \\texttt{λ} are:\n",
       "\\begin{itemize}\n",
       "\\item \\texttt{0} :  No cell frequency prior, gives you the maximum likelihood estimator.\n",
       "\\item \\texttt{0.05} is the optimum value for \\texttt{λ} found in Buslje et. al. 2009, similar results was obtained for \\texttt{λ} in the range [0.025, 0.075].\n",
       "\\item \\texttt{1 / p} : Perks prior (Perks, 1947) where \\texttt{p} the number of parameters (i.e. residues, pairs of residues) to estimate. If \\texttt{p} is the number of residues (\\texttt{20} without counting gaps), this gives you \\texttt{0.05}.\n",
       "\\item \\texttt{sqrt(n) / p} : Minimax prior (Trybula, 1958) where \\texttt{n} is the number of samples and \\texttt{p} the number of parameters to estimate.  If the number of samples \\texttt{n} is 400 (minimum number of sequence clusters for achieve good performance in Buslje et. al. 2009) for estimating 400 parameters (pairs of residues without counting gaps) this gives you \\texttt{0.05}.\n",
       "\\item \\texttt{0.5} : Jeffreys prior (Jeffreys, 1946).\n",
       "\\item \\texttt{1} : Bayes-Laplace uniform prior, aka. Laplace smoothing.\n",
       "\\end{itemize}\n"
      ],
      "text/markdown": [
       "**Additive Smoothing** or fixed pseudocount  `λ`  for `ResidueCount` (in order to estimate probabilities when the number of samples is low).\n",
       "\n",
       "Common values of `λ` are:\n",
       "\n",
       "  * `0` :  No cell frequency prior, gives you the maximum likelihood estimator.\n",
       "  * `0.05` is the optimum value for `λ` found in Buslje et. al. 2009, similar results was obtained for `λ` in the range [0.025, 0.075].\n",
       "  * `1 / p` : Perks prior (Perks, 1947) where `p` the number of parameters (i.e. residues, pairs of residues) to estimate. If `p` is the number of residues (`20` without counting gaps), this gives you `0.05`.\n",
       "  * `sqrt(n) / p` : Minimax prior (Trybula, 1958) where `n` is the number of samples and `p` the number of parameters to estimate.  If the number of samples `n` is 400 (minimum number of sequence clusters for achieve good performance in Buslje et. al. 2009) for estimating 400 parameters (pairs of residues without counting gaps) this gives you `0.05`.\n",
       "  * `0.5` : Jeffreys prior (Jeffreys, 1946).\n",
       "  * `1` : Bayes-Laplace uniform prior, aka. Laplace smoothing.\n"
      ],
      "text/plain": [
       "**Additive Smoothing** or fixed pseudocount  `λ`  for `ResidueCount` (in order to estimate probabilities when the number of samples is low).\n",
       "\n",
       "Common values of `λ` are:\n",
       "\n",
       "  * `0` :  No cell frequency prior, gives you the maximum likelihood estimator.\n",
       "  * `0.05` is the optimum value for `λ` found in Buslje et. al. 2009, similar results was obtained for `λ` in the range [0.025, 0.075].\n",
       "  * `1 / p` : Perks prior (Perks, 1947) where `p` the number of parameters (i.e. residues, pairs of residues) to estimate. If `p` is the number of residues (`20` without counting gaps), this gives you `0.05`.\n",
       "  * `sqrt(n) / p` : Minimax prior (Trybula, 1958) where `n` is the number of samples and `p` the number of parameters to estimate.  If the number of samples `n` is 400 (minimum number of sequence clusters for achieve good performance in Buslje et. al. 2009) for estimating 400 parameters (pairs of residues without counting gaps) this gives you `0.05`.\n",
       "  * `0.5` : Jeffreys prior (Jeffreys, 1946).\n",
       "  * `1` : Bayes-Laplace uniform prior, aka. Laplace smoothing.\n"
      ]
     },
     "execution_count": 5,
     "metadata": {},
     "output_type": "execute_result"
    }
   ],
   "source": [
    "?MIToS.Information.AdditiveSmoothing"
   ]
  },
  {
   "cell_type": "markdown",
   "metadata": {},
   "source": [
    "<a href=\"#\"><i class=\"fa fa-arrow-up\"></i></a>\n",
    "\n",
    "### Contingency tables"
   ]
  },
  {
   "cell_type": "code",
   "execution_count": 6,
   "metadata": {
    "collapsed": false
   },
   "outputs": [
    {
     "data": {
      "text/latex": [
       "\\textbf{Summary:}\n",
       "\\begin{verbatim}\n",
       "abstract MIToS.Information.ResidueContingencyTables{T,N,UseGap} <: AbstractArray{T,N}\n",
       "\\end{verbatim}\n",
       "\\textbf{Subtypes:}\n",
       "\\begin{verbatim}\n",
       "MIToS.Information.ResidueCount{T,N,UseGap}\n",
       "MIToS.Information.ResidueProbability{T,N,UseGap}\n",
       "\\end{verbatim}\n"
      ],
      "text/markdown": [
       "**Summary:**\n",
       "\n",
       "```julia\n",
       "abstract MIToS.Information.ResidueContingencyTables{T,N,UseGap} <: AbstractArray{T,N}\n",
       "```\n",
       "\n",
       "**Subtypes:**\n",
       "\n",
       "```julia\n",
       "MIToS.Information.ResidueCount{T,N,UseGap}\n",
       "MIToS.Information.ResidueProbability{T,N,UseGap}\n",
       "```\n"
      ],
      "text/plain": [
       "**Summary:**\n",
       "\n",
       "```julia\n",
       "abstract MIToS.Information.ResidueContingencyTables{T,N,UseGap} <: AbstractArray{T,N}\n",
       "```\n",
       "\n",
       "**Subtypes:**\n",
       "\n",
       "```julia\n",
       "MIToS.Information.ResidueCount{T,N,UseGap}\n",
       "MIToS.Information.ResidueProbability{T,N,UseGap}\n",
       "```\n"
      ]
     },
     "execution_count": 6,
     "metadata": {},
     "output_type": "execute_result"
    }
   ],
   "source": [
    "Docs.typesummary( MIToS.Information.ResidueContingencyTables )"
   ]
  },
  {
   "cell_type": "code",
   "execution_count": 7,
   "metadata": {
    "collapsed": false
   },
   "outputs": [
    {
     "data": {
      "text/latex": [
       "\\texttt{ResidueCount{T, N, UseGap}} is used for counting residues in columns (or sequences) of an MSA. \\texttt{N} is the dimensionality and should be an \\texttt{Int}, i.e. 2 if 2 columns are used for counting pairs. \\texttt{UseGap} is a \\texttt{Bool}, \\texttt{true} means that \\textbf{ResidueCount} counts gaps in the position 21.\n",
       "\\begin{itemize}\n",
       "\\item The field marginal is used for pre allocation of marginal sums.\n",
       "\\item The field total is used for storing the table sum.\n",
       "\\end{itemize}\n"
      ],
      "text/markdown": [
       "`ResidueCount{T, N, UseGap}` is used for counting residues in columns (or sequences) of an MSA. `N` is the dimensionality and should be an `Int`, i.e. 2 if 2 columns are used for counting pairs. `UseGap` is a `Bool`, `true` means that **ResidueCount** counts gaps in the position 21.\n",
       "\n",
       "  * The field marginal is used for pre allocation of marginal sums.\n",
       "  * The field total is used for storing the table sum.\n"
      ],
      "text/plain": [
       "`ResidueCount{T, N, UseGap}` is used for counting residues in columns (or sequences) of an MSA. `N` is the dimensionality and should be an `Int`, i.e. 2 if 2 columns are used for counting pairs. `UseGap` is a `Bool`, `true` means that **ResidueCount** counts gaps in the position 21.\n",
       "\n",
       "  * The field marginal is used for pre allocation of marginal sums.\n",
       "  * The field total is used for storing the table sum.\n"
      ]
     },
     "execution_count": 7,
     "metadata": {},
     "output_type": "execute_result"
    }
   ],
   "source": [
    "?MIToS.Information.ResidueCount"
   ]
  },
  {
   "cell_type": "code",
   "execution_count": 8,
   "metadata": {
    "collapsed": false
   },
   "outputs": [
    {
     "data": {
      "text/latex": [
       "\\texttt{ResidueProbability{T, N, UseGap}} is used to store residue probabilities. \\texttt{N} is the dimensionality and should be an \\texttt{Int}, e.g. 2 to store probabilities of residue pairs. \\texttt{UseGap} is a \\texttt{Bool}, \\texttt{true} means that gap probabilities are stored in the position 21 of each dimension.\n",
       "\\begin{itemize}\n",
       "\\item The field marginal is used for pre allocation of marginal sums.\n",
       "\\end{itemize}\n"
      ],
      "text/markdown": [
       "`ResidueProbability{T, N, UseGap}` is used to store residue probabilities. `N` is the dimensionality and should be an `Int`, e.g. 2 to store probabilities of residue pairs. `UseGap` is a `Bool`, `true` means that gap probabilities are stored in the position 21 of each dimension.\n",
       "\n",
       "  * The field marginal is used for pre allocation of marginal sums.\n"
      ],
      "text/plain": [
       "`ResidueProbability{T, N, UseGap}` is used to store residue probabilities. `N` is the dimensionality and should be an `Int`, e.g. 2 to store probabilities of residue pairs. `UseGap` is a `Bool`, `true` means that gap probabilities are stored in the position 21 of each dimension.\n",
       "\n",
       "  * The field marginal is used for pre allocation of marginal sums.\n"
      ]
     },
     "execution_count": 8,
     "metadata": {},
     "output_type": "execute_result"
    }
   ],
   "source": [
    "?MIToS.Information.ResidueProbability"
   ]
  },
  {
   "cell_type": "markdown",
   "metadata": {},
   "source": [
    "<a href=\"#\"><i class=\"fa fa-arrow-up\"></i></a>\n",
    "\n",
    "### Information measures"
   ]
  },
  {
   "cell_type": "code",
   "execution_count": 9,
   "metadata": {
    "collapsed": false
   },
   "outputs": [
    {
     "data": {
      "text/latex": [
       "\\textbf{Summary:}\n",
       "\\begin{verbatim}\n",
       "abstract MIToS.Information.AbstractMeasure{T} <: Any\n",
       "\\end{verbatim}\n",
       "\\textbf{Subtypes:}\n",
       "\\begin{verbatim}\n",
       "MIToS.Information.SymmetricMeasure{T}\n",
       "\\end{verbatim}\n"
      ],
      "text/markdown": [
       "**Summary:**\n",
       "\n",
       "```julia\n",
       "abstract MIToS.Information.AbstractMeasure{T} <: Any\n",
       "```\n",
       "\n",
       "**Subtypes:**\n",
       "\n",
       "```julia\n",
       "MIToS.Information.SymmetricMeasure{T}\n",
       "```\n"
      ],
      "text/plain": [
       "**Summary:**\n",
       "\n",
       "```julia\n",
       "abstract MIToS.Information.AbstractMeasure{T} <: Any\n",
       "```\n",
       "\n",
       "**Subtypes:**\n",
       "\n",
       "```julia\n",
       "MIToS.Information.SymmetricMeasure{T}\n",
       "```\n"
      ]
     },
     "execution_count": 9,
     "metadata": {},
     "output_type": "execute_result"
    }
   ],
   "source": [
    "Docs.typesummary( MIToS.Information.AbstractMeasure )"
   ]
  },
  {
   "cell_type": "code",
   "execution_count": 10,
   "metadata": {
    "collapsed": false
   },
   "outputs": [
    {
     "data": {
      "text/latex": [
       "\\textbf{Summary:}\n",
       "\\begin{verbatim}\n",
       "abstract MIToS.Information.SymmetricMeasure{T} <: MIToS.Information.AbstractMeasure{T}\n",
       "\\end{verbatim}\n",
       "\\textbf{Subtypes:}\n",
       "\\begin{verbatim}\n",
       "MIToS.Information.Entropy{T}\n",
       "MIToS.Information.GapIntersectionPercentage{T}\n",
       "MIToS.Information.GapUnionPercentage{T}\n",
       "MIToS.Information.MutualInformationOverEntropy{T}\n",
       "MIToS.Information.MutualInformation{T}\n",
       "\\end{verbatim}\n"
      ],
      "text/markdown": [
       "**Summary:**\n",
       "\n",
       "```julia\n",
       "abstract MIToS.Information.SymmetricMeasure{T} <: MIToS.Information.AbstractMeasure{T}\n",
       "```\n",
       "\n",
       "**Subtypes:**\n",
       "\n",
       "```julia\n",
       "MIToS.Information.Entropy{T}\n",
       "MIToS.Information.GapIntersectionPercentage{T}\n",
       "MIToS.Information.GapUnionPercentage{T}\n",
       "MIToS.Information.MutualInformationOverEntropy{T}\n",
       "MIToS.Information.MutualInformation{T}\n",
       "```\n"
      ],
      "text/plain": [
       "**Summary:**\n",
       "\n",
       "```julia\n",
       "abstract MIToS.Information.SymmetricMeasure{T} <: MIToS.Information.AbstractMeasure{T}\n",
       "```\n",
       "\n",
       "**Subtypes:**\n",
       "\n",
       "```julia\n",
       "MIToS.Information.Entropy{T}\n",
       "MIToS.Information.GapIntersectionPercentage{T}\n",
       "MIToS.Information.GapUnionPercentage{T}\n",
       "MIToS.Information.MutualInformationOverEntropy{T}\n",
       "MIToS.Information.MutualInformation{T}\n",
       "```\n"
      ]
     },
     "execution_count": 10,
     "metadata": {},
     "output_type": "execute_result"
    }
   ],
   "source": [
    "Docs.typesummary( MIToS.Information.SymmetricMeasure )"
   ]
  },
  {
   "cell_type": "code",
   "execution_count": 11,
   "metadata": {
    "collapsed": false
   },
   "outputs": [
    {
     "data": {
      "text/latex": [
       "Shannon entropy (H)\n"
      ],
      "text/markdown": [
       "Shannon entropy (H)\n"
      ],
      "text/plain": [
       "Shannon entropy (H)\n"
      ]
     },
     "execution_count": 11,
     "metadata": {},
     "output_type": "execute_result"
    }
   ],
   "source": [
    "?MIToS.Information.Entropy"
   ]
  },
  {
   "cell_type": "code",
   "execution_count": 12,
   "metadata": {
    "collapsed": false
   },
   "outputs": [
    {
     "data": {
      "text/latex": [
       "Mutual Information (MI)\n"
      ],
      "text/markdown": [
       "Mutual Information (MI)\n"
      ],
      "text/plain": [
       "Mutual Information (MI)\n"
      ]
     },
     "execution_count": 12,
     "metadata": {},
     "output_type": "execute_result"
    }
   ],
   "source": [
    "?MIToS.Information.MutualInformation"
   ]
  },
  {
   "cell_type": "code",
   "execution_count": 13,
   "metadata": {
    "collapsed": false
   },
   "outputs": [
    {
     "data": {
      "text/latex": [
       "Normalized Mutual Information (nMI) by Entropy.\n",
       "\\texttt{nMI(X, Y) = MI(X, Y) / H(X, Y)}\n"
      ],
      "text/markdown": [
       "Normalized Mutual Information (nMI) by Entropy.\n",
       "\n",
       "`nMI(X, Y) = MI(X, Y) / H(X, Y)`\n"
      ],
      "text/plain": [
       "Normalized Mutual Information (nMI) by Entropy.\n",
       "\n",
       "`nMI(X, Y) = MI(X, Y) / H(X, Y)`\n"
      ]
     },
     "execution_count": 13,
     "metadata": {},
     "output_type": "execute_result"
    }
   ],
   "source": [
    "?MIToS.Information.MutualInformationOverEntropy"
   ]
  },
  {
   "cell_type": "code",
   "execution_count": 14,
   "metadata": {
    "collapsed": false
   },
   "outputs": [
    {
     "data": {
      "text/latex": [
       "\\texttt{GapUnionPercentage}\n"
      ],
      "text/markdown": [
       "`GapUnionPercentage`\n"
      ],
      "text/plain": [
       "`GapUnionPercentage`\n"
      ]
     },
     "execution_count": 14,
     "metadata": {},
     "output_type": "execute_result"
    }
   ],
   "source": [
    "?MIToS.Information.GapUnionPercentage"
   ]
  },
  {
   "cell_type": "code",
   "execution_count": 15,
   "metadata": {
    "collapsed": false
   },
   "outputs": [
    {
     "data": {
      "text/latex": [
       "\\texttt{GapIntersectionPercentage}\n"
      ],
      "text/markdown": [
       "`GapIntersectionPercentage`\n"
      ],
      "text/plain": [
       "`GapIntersectionPercentage`\n"
      ]
     },
     "execution_count": 15,
     "metadata": {},
     "output_type": "execute_result"
    }
   ],
   "source": [
    "?MIToS.Information.GapIntersectionPercentage"
   ]
  },
  {
   "cell_type": "markdown",
   "metadata": {},
   "source": [
    "<a href=\"#\"><i class=\"fa fa-arrow-up\"></i></a>\n",
    "\n",
    "### Imported from MIToS.MSA"
   ]
  },
  {
   "cell_type": "code",
   "execution_count": 16,
   "metadata": {
    "collapsed": false
   },
   "outputs": [
    {
     "data": {
      "text/latex": [
       "No documentation found.\n",
       "\\textbf{Summary:}\n",
       "\\begin{verbatim}\n",
       "immutable MIToS.MSA.Raw <: MIToS.Utils.Format\n",
       "\\end{verbatim}\n"
      ],
      "text/markdown": [
       "No documentation found.\n",
       "\n",
       "**Summary:**\n",
       "\n",
       "```julia\n",
       "immutable MIToS.MSA.Raw <: MIToS.Utils.Format\n",
       "```\n"
      ],
      "text/plain": [
       "No documentation found.\n",
       "\n",
       "**Summary:**\n",
       "\n",
       "```julia\n",
       "immutable MIToS.MSA.Raw <: MIToS.Utils.Format\n",
       "```\n"
      ]
     },
     "execution_count": 16,
     "metadata": {},
     "output_type": "execute_result"
    }
   ],
   "source": [
    "?MIToS.Information.Raw"
   ]
  },
  {
   "cell_type": "code",
   "execution_count": 17,
   "metadata": {
    "collapsed": false
   },
   "outputs": [
    {
     "data": {
      "text/latex": [
       "No documentation found.\n",
       "\\textbf{Summary:}\n",
       "\\begin{verbatim}\n",
       "immutable MIToS.MSA.Stockholm <: MIToS.Utils.Format\n",
       "\\end{verbatim}\n"
      ],
      "text/markdown": [
       "No documentation found.\n",
       "\n",
       "**Summary:**\n",
       "\n",
       "```julia\n",
       "immutable MIToS.MSA.Stockholm <: MIToS.Utils.Format\n",
       "```\n"
      ],
      "text/plain": [
       "No documentation found.\n",
       "\n",
       "**Summary:**\n",
       "\n",
       "```julia\n",
       "immutable MIToS.MSA.Stockholm <: MIToS.Utils.Format\n",
       "```\n"
      ]
     },
     "execution_count": 17,
     "metadata": {},
     "output_type": "execute_result"
    }
   ],
   "source": [
    "?MIToS.Information.Stockholm"
   ]
  },
  {
   "cell_type": "code",
   "execution_count": 18,
   "metadata": {
    "collapsed": false
   },
   "outputs": [
    {
     "data": {
      "text/latex": [
       "No documentation found.\n",
       "\\textbf{Summary:}\n",
       "\\begin{verbatim}\n",
       "immutable MIToS.MSA.FASTA <: MIToS.Utils.Format\n",
       "\\end{verbatim}\n"
      ],
      "text/markdown": [
       "No documentation found.\n",
       "\n",
       "**Summary:**\n",
       "\n",
       "```julia\n",
       "immutable MIToS.MSA.FASTA <: MIToS.Utils.Format\n",
       "```\n"
      ],
      "text/plain": [
       "No documentation found.\n",
       "\n",
       "**Summary:**\n",
       "\n",
       "```julia\n",
       "immutable MIToS.MSA.FASTA <: MIToS.Utils.Format\n",
       "```\n"
      ]
     },
     "execution_count": 18,
     "metadata": {},
     "output_type": "execute_result"
    }
   ],
   "source": [
    "?MIToS.Information.FASTA"
   ]
  },
  {
   "cell_type": "markdown",
   "metadata": {},
   "source": [
    "<a href=\"#\"><i class=\"fa fa-arrow-up\"></i></a>\n",
    "\n",
    "## Constants"
   ]
  },
  {
   "cell_type": "code",
   "execution_count": 19,
   "metadata": {
    "collapsed": false
   },
   "outputs": [
    {
     "data": {
      "text/latex": [
       "BLOSUM62 probabilities \\emph{P(aa)} for each residue. SUM:  0.9987\n"
      ],
      "text/markdown": [
       "BLOSUM62 probabilities *P(aa)* for each residue. SUM:  0.9987\n"
      ],
      "text/plain": [
       "BLOSUM62 probabilities *P(aa)* for each residue. SUM:  0.9987\n"
      ]
     },
     "execution_count": 19,
     "metadata": {},
     "output_type": "execute_result"
    }
   ],
   "source": [
    "?MIToS.Information.BLOSUM62_Pi"
   ]
  },
  {
   "cell_type": "code",
   "execution_count": 20,
   "metadata": {
    "collapsed": false
   },
   "outputs": [
    {
     "data": {
      "text/latex": [
       "Normalization is done row based. The firts row contains the \\emph{P(aa|A)} and so one...\n",
       "`     A      R      N      D      C      Q      E      G      H      I      L      K      M      F      P      S      T      W      Y      V`\n"
      ],
      "text/markdown": [
       "Normalization is done row based. The firts row contains the *P(aa|A)* and so one...\n",
       "\n",
       "`     A      R      N      D      C      Q      E      G      H      I      L      K      M      F      P      S      T      W      Y      V`\n"
      ],
      "text/plain": [
       "Normalization is done row based. The firts row contains the *P(aa|A)* and so one...\n",
       "\n",
       "`     A      R      N      D      C      Q      E      G      H      I      L      K      M      F      P      S      T      W      Y      V`\n"
      ]
     },
     "execution_count": 20,
     "metadata": {},
     "output_type": "execute_result"
    }
   ],
   "source": [
    "?MIToS.Information.BLOSUM62_Pij"
   ]
  },
  {
   "cell_type": "markdown",
   "metadata": {},
   "source": [
    "<a href=\"#\"><i class=\"fa fa-arrow-up\"></i></a>\n",
    "\n",
    "## Methods"
   ]
  },
  {
   "cell_type": "code",
   "execution_count": 21,
   "metadata": {
    "collapsed": false
   },
   "outputs": [
    {
     "data": {
      "text/latex": [
       "APC (Dunn et. al. 2008)\n"
      ],
      "text/markdown": [
       "APC (Dunn et. al. 2008)\n"
      ],
      "text/plain": [
       "APC (Dunn et. al. 2008)\n"
      ]
     },
     "execution_count": 21,
     "metadata": {},
     "output_type": "execute_result"
    }
   ],
   "source": [
    "?MIToS.Information.APC!"
   ]
  },
  {
   "cell_type": "markdown",
   "metadata": {},
   "source": [
    "<a href=\"#\"><i class=\"fa fa-arrow-up\"></i></a>\n",
    "\n",
    "### Working with Contingency tables"
   ]
  },
  {
   "cell_type": "code",
   "execution_count": 22,
   "metadata": {
    "collapsed": false
   },
   "outputs": [
    {
     "data": {
      "text/latex": [
       "\\texttt{probabilities(T, α, β, res1, res2, [weight])} use BLOSUM62 based pseudofrequencies. α is the weight of the evidence, and β the weight of the pseudofrequencies.\n",
       "\\begin{verbatim}\n",
       "probabilities(res::AbstractVector{Residue}...; usegap=false, weight=NoClustering())\n",
       "probabilities(pseudocount::Pseudocount, res::AbstractVector{Residue}...; usegap=false, weight=NoClustering())\n",
       "\\end{verbatim}\n",
       "\\texttt{probabilities} creates a new ResidueProbability with the probabilities of residues, pairs of residues, etc. in the sequences/columns.\n"
      ],
      "text/markdown": [
       "`probabilities(T, α, β, res1, res2, [weight])` use BLOSUM62 based pseudofrequencies. α is the weight of the evidence, and β the weight of the pseudofrequencies.\n",
       "\n",
       "```\n",
       "probabilities(res::AbstractVector{Residue}...; usegap=false, weight=NoClustering())\n",
       "probabilities(pseudocount::Pseudocount, res::AbstractVector{Residue}...; usegap=false, weight=NoClustering())\n",
       "```\n",
       "\n",
       "`probabilities` creates a new ResidueProbability with the probabilities of residues, pairs of residues, etc. in the sequences/columns.\n"
      ],
      "text/plain": [
       "`probabilities(T, α, β, res1, res2, [weight])` use BLOSUM62 based pseudofrequencies. α is the weight of the evidence, and β the weight of the pseudofrequencies.\n",
       "\n",
       "```\n",
       "probabilities(res::AbstractVector{Residue}...; usegap=false, weight=NoClustering())\n",
       "probabilities(pseudocount::Pseudocount, res::AbstractVector{Residue}...; usegap=false, weight=NoClustering())\n",
       "```\n",
       "\n",
       "`probabilities` creates a new ResidueProbability with the probabilities of residues, pairs of residues, etc. in the sequences/columns.\n"
      ]
     },
     "execution_count": 22,
     "metadata": {},
     "output_type": "execute_result"
    }
   ],
   "source": [
    "?MIToS.Information.probabilities"
   ]
  },
  {
   "cell_type": "code",
   "execution_count": 23,
   "metadata": {
    "collapsed": false
   },
   "outputs": [
    {
     "data": {
      "text/latex": [
       "\\begin{verbatim}\n",
       "count(p, itr) -> Integer\n",
       "\\end{verbatim}\n",
       "Count the number of elements in \\texttt{itr} for which predicate \\texttt{p} returns \\texttt{true}.\n",
       "\\begin{verbatim}\n",
       "count(res::AbstractVector{Residue}...; usegap=false, weight=NoClustering())\n",
       "count(pseudocount::Pseudocount, res::AbstractVector{Residue}...; usegap=false, weight=NoClustering())\n",
       "\\end{verbatim}\n",
       "\\texttt{count} creates a new ResidueCount counting the number of residues, pairs of residues, etc. in the sequences/columns.\n"
      ],
      "text/markdown": [
       "```\n",
       "count(p, itr) -> Integer\n",
       "```\n",
       "\n",
       "Count the number of elements in `itr` for which predicate `p` returns `true`.\n",
       "\n",
       "```\n",
       "count(res::AbstractVector{Residue}...; usegap=false, weight=NoClustering())\n",
       "count(pseudocount::Pseudocount, res::AbstractVector{Residue}...; usegap=false, weight=NoClustering())\n",
       "```\n",
       "\n",
       "`count` creates a new ResidueCount counting the number of residues, pairs of residues, etc. in the sequences/columns.\n"
      ],
      "text/plain": [
       "```\n",
       "count(p, itr) -> Integer\n",
       "```\n",
       "\n",
       "Count the number of elements in `itr` for which predicate `p` returns `true`.\n",
       "\n",
       "```\n",
       "count(res::AbstractVector{Residue}...; usegap=false, weight=NoClustering())\n",
       "count(pseudocount::Pseudocount, res::AbstractVector{Residue}...; usegap=false, weight=NoClustering())\n",
       "```\n",
       "\n",
       "`count` creates a new ResidueCount counting the number of residues, pairs of residues, etc. in the sequences/columns.\n"
      ]
     },
     "execution_count": 23,
     "metadata": {},
     "output_type": "execute_result"
    }
   ],
   "source": [
    "?MIToS.Information.count"
   ]
  },
  {
   "cell_type": "code",
   "execution_count": 24,
   "metadata": {
    "collapsed": false
   },
   "outputs": [
    {
     "data": {
      "text/latex": [
       "\\texttt{count!} adds counts from vector of residues to a \\texttt{ResidueCount} object. It can take a SequenceWeights object as second argument.\n",
       "\\begin{verbatim}\n",
       "\n",
       "julia> using MIToS.Information\n",
       "\n",
       "julia> using MIToS.MSA\n",
       "\n",
       "julia> seq = Residue[ i for i in 1:20];\n",
       "\n",
       "julia> Ni = count(seq)\n",
       "20-element MIToS.Information.ResidueCount{Float64,1,false}:\n",
       " 1.0\n",
       " 1.0\n",
       " 1.0\n",
       " 1.0\n",
       " 1.0\n",
       " 1.0\n",
       " 1.0\n",
       " 1.0\n",
       " 1.0\n",
       " 1.0\n",
       " 1.0\n",
       " 1.0\n",
       " 1.0\n",
       " 1.0\n",
       " 1.0\n",
       " 1.0\n",
       " 1.0\n",
       " 1.0\n",
       " 1.0\n",
       " 1.0\n",
       "\n",
       "julia> count!(Ni, seq)\n",
       "20-element MIToS.Information.ResidueCount{Float64,1,false}:\n",
       " 2.0\n",
       " 2.0\n",
       " 2.0\n",
       " 2.0\n",
       " 2.0\n",
       " 2.0\n",
       " 2.0\n",
       " 2.0\n",
       " 2.0\n",
       " 2.0\n",
       " 2.0\n",
       " 2.0\n",
       " 2.0\n",
       " 2.0\n",
       " 2.0\n",
       " 2.0\n",
       " 2.0\n",
       " 2.0\n",
       " 2.0\n",
       " 2.0\n",
       "\n",
       "\\end{verbatim}\n"
      ],
      "text/markdown": [
       "`count!` adds counts from vector of residues to a `ResidueCount` object. It can take a SequenceWeights object as second argument.\n",
       "\n",
       "```julia\n",
       "\n",
       "julia> using MIToS.Information\n",
       "\n",
       "julia> using MIToS.MSA\n",
       "\n",
       "julia> seq = Residue[ i for i in 1:20];\n",
       "\n",
       "julia> Ni = count(seq)\n",
       "20-element MIToS.Information.ResidueCount{Float64,1,false}:\n",
       " 1.0\n",
       " 1.0\n",
       " 1.0\n",
       " 1.0\n",
       " 1.0\n",
       " 1.0\n",
       " 1.0\n",
       " 1.0\n",
       " 1.0\n",
       " 1.0\n",
       " 1.0\n",
       " 1.0\n",
       " 1.0\n",
       " 1.0\n",
       " 1.0\n",
       " 1.0\n",
       " 1.0\n",
       " 1.0\n",
       " 1.0\n",
       " 1.0\n",
       "\n",
       "julia> count!(Ni, seq)\n",
       "20-element MIToS.Information.ResidueCount{Float64,1,false}:\n",
       " 2.0\n",
       " 2.0\n",
       " 2.0\n",
       " 2.0\n",
       " 2.0\n",
       " 2.0\n",
       " 2.0\n",
       " 2.0\n",
       " 2.0\n",
       " 2.0\n",
       " 2.0\n",
       " 2.0\n",
       " 2.0\n",
       " 2.0\n",
       " 2.0\n",
       " 2.0\n",
       " 2.0\n",
       " 2.0\n",
       " 2.0\n",
       " 2.0\n",
       "\n",
       "```\n"
      ],
      "text/plain": [
       "`count!` adds counts from vector of residues to a `ResidueCount` object. It can take a SequenceWeights object as second argument.\n",
       "\n",
       "```julia\n",
       "\n",
       "julia> using MIToS.Information\n",
       "\n",
       "julia> using MIToS.MSA\n",
       "\n",
       "julia> seq = Residue[ i for i in 1:20];\n",
       "\n",
       "julia> Ni = count(seq)\n",
       "20-element MIToS.Information.ResidueCount{Float64,1,false}:\n",
       " 1.0\n",
       " 1.0\n",
       " 1.0\n",
       " 1.0\n",
       " 1.0\n",
       " 1.0\n",
       " 1.0\n",
       " 1.0\n",
       " 1.0\n",
       " 1.0\n",
       " 1.0\n",
       " 1.0\n",
       " 1.0\n",
       " 1.0\n",
       " 1.0\n",
       " 1.0\n",
       " 1.0\n",
       " 1.0\n",
       " 1.0\n",
       " 1.0\n",
       "\n",
       "julia> count!(Ni, seq)\n",
       "20-element MIToS.Information.ResidueCount{Float64,1,false}:\n",
       " 2.0\n",
       " 2.0\n",
       " 2.0\n",
       " 2.0\n",
       " 2.0\n",
       " 2.0\n",
       " 2.0\n",
       " 2.0\n",
       " 2.0\n",
       " 2.0\n",
       " 2.0\n",
       " 2.0\n",
       " 2.0\n",
       " 2.0\n",
       " 2.0\n",
       " 2.0\n",
       " 2.0\n",
       " 2.0\n",
       " 2.0\n",
       " 2.0\n",
       "\n",
       "```\n"
      ]
     },
     "execution_count": 24,
     "metadata": {},
     "output_type": "execute_result"
    }
   ],
   "source": [
    "?MIToS.Information.count!"
   ]
  },
  {
   "cell_type": "code",
   "execution_count": 25,
   "metadata": {
    "collapsed": false
   },
   "outputs": [
    {
     "data": {
      "text/latex": [
       "\\texttt{normalize!(p::ResidueProbability; updated::Bool=false)}\n",
       "This function makes the sum of the probabilities to be one. The sum is calculated using the \\texttt{probabilities} field by default (It is assumed that the marginal are not updated). The marginals are updated in the normalization.\n",
       "If the marginals are updated, you can use \\texttt{updated=true} for a faster normalization.\n"
      ],
      "text/markdown": [
       "`normalize!(p::ResidueProbability; updated::Bool=false)`\n",
       "\n",
       "This function makes the sum of the probabilities to be one. The sum is calculated using the `probabilities` field by default (It is assumed that the marginal are not updated). The marginals are updated in the normalization.\n",
       "\n",
       "If the marginals are updated, you can use `updated=true` for a faster normalization.\n"
      ],
      "text/plain": [
       "`normalize!(p::ResidueProbability; updated::Bool=false)`\n",
       "\n",
       "This function makes the sum of the probabilities to be one. The sum is calculated using the `probabilities` field by default (It is assumed that the marginal are not updated). The marginals are updated in the normalization.\n",
       "\n",
       "If the marginals are updated, you can use `updated=true` for a faster normalization.\n"
      ]
     },
     "execution_count": 25,
     "metadata": {},
     "output_type": "execute_result"
    }
   ],
   "source": [
    "?MIToS.Information.normalize!"
   ]
  },
  {
   "cell_type": "code",
   "execution_count": 26,
   "metadata": {
    "collapsed": false
   },
   "outputs": [
    {
     "data": {
      "text/latex": [
       "No documentation found.\n",
       "\\texttt{MIToS.Information.nresidues} is a generic \\texttt{Function}.\n",
       "\\begin{verbatim}\n",
       "# 2 methods for generic function \"nresidues\":\n",
       "nresidues{T,N}(n::MIToS.Information.ResidueContingencyTables{T,N,true}) at /home/diego/.julia/v0.4/MIToS/src/Information/Probabilities.jl:74\n",
       "nresidues{T,N}(n::MIToS.Information.ResidueContingencyTables{T,N,false}) at /home/diego/.julia/v0.4/MIToS/src/Information/Probabilities.jl:75\n",
       "\\end{verbatim}\n"
      ],
      "text/markdown": [
       "No documentation found.\n",
       "\n",
       "`MIToS.Information.nresidues` is a generic `Function`.\n",
       "\n",
       "```julia\n",
       "# 2 methods for generic function \"nresidues\":\n",
       "nresidues{T,N}(n::MIToS.Information.ResidueContingencyTables{T,N,true}) at /home/diego/.julia/v0.4/MIToS/src/Information/Probabilities.jl:74\n",
       "nresidues{T,N}(n::MIToS.Information.ResidueContingencyTables{T,N,false}) at /home/diego/.julia/v0.4/MIToS/src/Information/Probabilities.jl:75\n",
       "```\n"
      ],
      "text/plain": [
       "No documentation found.\n",
       "\n",
       "`MIToS.Information.nresidues` is a generic `Function`.\n",
       "\n",
       "```julia\n",
       "# 2 methods for generic function \"nresidues\":\n",
       "nresidues{T,N}(n::MIToS.Information.ResidueContingencyTables{T,N,true}) at /home/diego/.julia/v0.4/MIToS/src/Information/Probabilities.jl:74\n",
       "nresidues{T,N}(n::MIToS.Information.ResidueContingencyTables{T,N,false}) at /home/diego/.julia/v0.4/MIToS/src/Information/Probabilities.jl:75\n",
       "```\n"
      ]
     },
     "execution_count": 26,
     "metadata": {},
     "output_type": "execute_result"
    }
   ],
   "source": [
    "?MIToS.Information.nresidues"
   ]
  },
  {
   "cell_type": "code",
   "execution_count": 27,
   "metadata": {
    "collapsed": false
   },
   "outputs": [
    {
     "data": {
      "text/latex": [
       "Updates the marginals values (and total value for \\texttt{ResidueCount}) of a \\texttt{ResidueContingencyTables}\n"
      ],
      "text/markdown": [
       "Updates the marginals values (and total value for `ResidueCount`) of a `ResidueContingencyTables`\n"
      ],
      "text/plain": [
       "Updates the marginals values (and total value for `ResidueCount`) of a `ResidueContingencyTables`\n"
      ]
     },
     "execution_count": 27,
     "metadata": {},
     "output_type": "execute_result"
    }
   ],
   "source": [
    "?MIToS.Information.update!"
   ]
  },
  {
   "cell_type": "code",
   "execution_count": 28,
   "metadata": {
    "collapsed": false
   },
   "outputs": [
    {
     "data": {
      "text/latex": [
       "\\texttt{apply_pseudocount!{T, N, UseGap}(n::ResidueCount{T, N, UseGap}, pse::AdditiveSmoothing{T})}\n",
       "Uses an instance of \\texttt{AdditiveSmoothing} to efficiently fill with a constant value each element of the table.\n"
      ],
      "text/markdown": [
       "`apply_pseudocount!{T, N, UseGap}(n::ResidueCount{T, N, UseGap}, pse::AdditiveSmoothing{T})`\n",
       "\n",
       "Uses an instance of `AdditiveSmoothing` to efficiently fill with a constant value each element of the table.\n"
      ],
      "text/plain": [
       "`apply_pseudocount!{T, N, UseGap}(n::ResidueCount{T, N, UseGap}, pse::AdditiveSmoothing{T})`\n",
       "\n",
       "Uses an instance of `AdditiveSmoothing` to efficiently fill with a constant value each element of the table.\n"
      ]
     },
     "execution_count": 28,
     "metadata": {},
     "output_type": "execute_result"
    }
   ],
   "source": [
    "?MIToS.Information.apply_pseudocount!"
   ]
  },
  {
   "cell_type": "code",
   "execution_count": 29,
   "metadata": {
    "collapsed": false
   },
   "outputs": [
    {
     "data": {
      "text/latex": [
       "\\texttt{blosum_pseudofrequencies!(Gab::ResidueProbability{T, 2,false}, Pab::ResidueProbability{T, 2,false})}\n",
       "This function uses the conditional probability matrix \\texttt{BLOSUM62_Pij} to fill a preallocated \\texttt{Gab} with pseudo frequencies. \\texttt{blosum_pseudofrequencies!} also needs the real frequencies/probabilities \\texttt{Pab}. This observed probabilities are then used to estimate the pseudo frequencies.\n",
       "\\texttt{Gab = Σcd  Pcd ⋅ BLOSUM62( a | c ) ⋅ BLOSUM62( b | d )}\n"
      ],
      "text/markdown": [
       "`blosum_pseudofrequencies!(Gab::ResidueProbability{T, 2,false}, Pab::ResidueProbability{T, 2,false})`\n",
       "\n",
       "This function uses the conditional probability matrix `BLOSUM62_Pij` to fill a preallocated `Gab` with pseudo frequencies. `blosum_pseudofrequencies!` also needs the real frequencies/probabilities `Pab`. This observed probabilities are then used to estimate the pseudo frequencies.\n",
       "\n",
       "`Gab = Σcd  Pcd ⋅ BLOSUM62( a | c ) ⋅ BLOSUM62( b | d )`\n"
      ],
      "text/plain": [
       "`blosum_pseudofrequencies!(Gab::ResidueProbability{T, 2,false}, Pab::ResidueProbability{T, 2,false})`\n",
       "\n",
       "This function uses the conditional probability matrix `BLOSUM62_Pij` to fill a preallocated `Gab` with pseudo frequencies. `blosum_pseudofrequencies!` also needs the real frequencies/probabilities `Pab`. This observed probabilities are then used to estimate the pseudo frequencies.\n",
       "\n",
       "`Gab = Σcd  Pcd ⋅ BLOSUM62( a | c ) ⋅ BLOSUM62( b | d )`\n"
      ]
     },
     "execution_count": 29,
     "metadata": {},
     "output_type": "execute_result"
    }
   ],
   "source": [
    "?MIToS.Information.blosum_pseudofrequencies!"
   ]
  },
  {
   "cell_type": "code",
   "execution_count": 30,
   "metadata": {
    "collapsed": false
   },
   "outputs": [
    {
     "data": {
      "text/latex": [
       "\\texttt{apply_pseudofrequencies!{T}(Pab::ResidueProbability{T, 2,false}, Gab::ResidueProbability{T, 2,false}, α, β)}\n",
       "Apply pseudofrequencies \\texttt{Gab} over \\texttt{Pab}, as weighted mean. Where α is the weight of the real frequencies \\texttt{Pab} and β the weight of the pseudofrequencies.\n",
       "\\texttt{Pab = (α ⋅ Pab + β ⋅ Gab )/(α + β)}\n"
      ],
      "text/markdown": [
       "`apply_pseudofrequencies!{T}(Pab::ResidueProbability{T, 2,false}, Gab::ResidueProbability{T, 2,false}, α, β)`\n",
       "\n",
       "Apply pseudofrequencies `Gab` over `Pab`, as weighted mean. Where α is the weight of the real frequencies `Pab` and β the weight of the pseudofrequencies.\n",
       "\n",
       "`Pab = (α ⋅ Pab + β ⋅ Gab )/(α + β)`\n"
      ],
      "text/plain": [
       "`apply_pseudofrequencies!{T}(Pab::ResidueProbability{T, 2,false}, Gab::ResidueProbability{T, 2,false}, α, β)`\n",
       "\n",
       "Apply pseudofrequencies `Gab` over `Pab`, as weighted mean. Where α is the weight of the real frequencies `Pab` and β the weight of the pseudofrequencies.\n",
       "\n",
       "`Pab = (α ⋅ Pab + β ⋅ Gab )/(α + β)`\n"
      ]
     },
     "execution_count": 30,
     "metadata": {},
     "output_type": "execute_result"
    }
   ],
   "source": [
    "?MIToS.Information.apply_pseudofrequencies!"
   ]
  },
  {
   "cell_type": "code",
   "execution_count": 31,
   "metadata": {
    "collapsed": false
   },
   "outputs": [
    {
     "data": {
      "text/latex": [
       "\\texttt{delete_dimensions!(out::ResidueContingencyTables, in::ResidueContingencyTables, dimensions::Int...)}\n",
       "This function fills a ResidueContingencyTables with the counts/probabilities on \\texttt{in} after the deletion of \\texttt{dimensions}. i.e. This is useful for getting Pxy from Pxyz.\n"
      ],
      "text/markdown": [
       "`delete_dimensions!(out::ResidueContingencyTables, in::ResidueContingencyTables, dimensions::Int...)`\n",
       "\n",
       "This function fills a ResidueContingencyTables with the counts/probabilities on `in` after the deletion of `dimensions`. i.e. This is useful for getting Pxy from Pxyz.\n"
      ],
      "text/plain": [
       "`delete_dimensions!(out::ResidueContingencyTables, in::ResidueContingencyTables, dimensions::Int...)`\n",
       "\n",
       "This function fills a ResidueContingencyTables with the counts/probabilities on `in` after the deletion of `dimensions`. i.e. This is useful for getting Pxy from Pxyz.\n"
      ]
     },
     "execution_count": 31,
     "metadata": {},
     "output_type": "execute_result"
    }
   ],
   "source": [
    "?MIToS.Information.delete_dimensions!"
   ]
  },
  {
   "cell_type": "code",
   "execution_count": 32,
   "metadata": {
    "collapsed": false
   },
   "outputs": [
    {
     "data": {
      "text/latex": [
       "\\texttt{delete_dimensions(in::ResidueContingencyTables, dimensions::Int...)}\n",
       "This function creates a ResidueContingencyTables with the counts/probabilities on \\texttt{in} after the deletion of \\texttt{dimensions}. i.e. This is useful for getting Pxy from Pxyz.\n"
      ],
      "text/markdown": [
       "`delete_dimensions(in::ResidueContingencyTables, dimensions::Int...)`\n",
       "\n",
       "This function creates a ResidueContingencyTables with the counts/probabilities on `in` after the deletion of `dimensions`. i.e. This is useful for getting Pxy from Pxyz.\n"
      ],
      "text/plain": [
       "`delete_dimensions(in::ResidueContingencyTables, dimensions::Int...)`\n",
       "\n",
       "This function creates a ResidueContingencyTables with the counts/probabilities on `in` after the deletion of `dimensions`. i.e. This is useful for getting Pxy from Pxyz.\n"
      ]
     },
     "execution_count": 32,
     "metadata": {},
     "output_type": "execute_result"
    }
   ],
   "source": [
    "?MIToS.Information.delete_dimensions"
   ]
  },
  {
   "cell_type": "markdown",
   "metadata": {},
   "source": [
    "<a href=\"#\"><i class=\"fa fa-arrow-up\"></i></a>\n",
    "\n",
    "### Estimate"
   ]
  },
  {
   "cell_type": "code",
   "execution_count": 33,
   "metadata": {
    "collapsed": false
   },
   "outputs": [
    {
     "data": {
      "text/latex": [
       "\\texttt{estimate(MutualInformation(), pxy::ResidueCount [, base])}\n",
       "Calculate Mutual Information from \\texttt{ResidueCount}. The result type is determined by the \\texttt{base}. It's the fastest option (you don't spend time on probability calculations).\n",
       "\\texttt{estimate(MutualInformation(), pxy::ResidueProbability [, base])}\n",
       "Calculate Mutual Information from \\texttt{ResidueProbability}. The result type is determined by \\texttt{base}.\n",
       "\\texttt{estimate(Entropy{T}(base), n::ResidueCount)}\n",
       "It's the fastest option (you don't spend time on probability calculations). The result type is determined by the \\texttt{base}.\n",
       "\\texttt{estimate(Entropy(base), p)}\n",
       "\\texttt{p} should be a \\texttt{ResidueProbability} table. The result type is determined by \\texttt{base}.\n"
      ],
      "text/markdown": [
       "`estimate(MutualInformation(), pxy::ResidueCount [, base])`\n",
       "\n",
       "Calculate Mutual Information from `ResidueCount`. The result type is determined by the `base`. It's the fastest option (you don't spend time on probability calculations).\n",
       "\n",
       "`estimate(MutualInformation(), pxy::ResidueProbability [, base])`\n",
       "\n",
       "Calculate Mutual Information from `ResidueProbability`. The result type is determined by `base`.\n",
       "\n",
       "`estimate(Entropy{T}(base), n::ResidueCount)`\n",
       "\n",
       "It's the fastest option (you don't spend time on probability calculations). The result type is determined by the `base`.\n",
       "\n",
       "`estimate(Entropy(base), p)`\n",
       "\n",
       "`p` should be a `ResidueProbability` table. The result type is determined by `base`.\n"
      ],
      "text/plain": [
       "`estimate(MutualInformation(), pxy::ResidueCount [, base])`\n",
       "\n",
       "Calculate Mutual Information from `ResidueCount`. The result type is determined by the `base`. It's the fastest option (you don't spend time on probability calculations).\n",
       "\n",
       "`estimate(MutualInformation(), pxy::ResidueProbability [, base])`\n",
       "\n",
       "Calculate Mutual Information from `ResidueProbability`. The result type is determined by `base`.\n",
       "\n",
       "`estimate(Entropy{T}(base), n::ResidueCount)`\n",
       "\n",
       "It's the fastest option (you don't spend time on probability calculations). The result type is determined by the `base`.\n",
       "\n",
       "`estimate(Entropy(base), p)`\n",
       "\n",
       "`p` should be a `ResidueProbability` table. The result type is determined by `base`.\n"
      ]
     },
     "execution_count": 33,
     "metadata": {},
     "output_type": "execute_result"
    }
   ],
   "source": [
    "?MIToS.Information.estimate"
   ]
  },
  {
   "cell_type": "code",
   "execution_count": 34,
   "metadata": {
    "collapsed": false
   },
   "outputs": [
    {
     "data": {
      "text/latex": [
       "\\texttt{estimate_on_marginal(Entropy{T}(base), p, marginal)}\n",
       "This function estimate the entropy H(X) if marginal is 1, H(Y) for 2, etc. The result type is determined by \\texttt{base}.\n"
      ],
      "text/markdown": [
       "`estimate_on_marginal(Entropy{T}(base), p, marginal)`\n",
       "\n",
       "This function estimate the entropy H(X) if marginal is 1, H(Y) for 2, etc. The result type is determined by `base`.\n"
      ],
      "text/plain": [
       "`estimate_on_marginal(Entropy{T}(base), p, marginal)`\n",
       "\n",
       "This function estimate the entropy H(X) if marginal is 1, H(Y) for 2, etc. The result type is determined by `base`.\n"
      ]
     },
     "execution_count": 34,
     "metadata": {},
     "output_type": "execute_result"
    }
   ],
   "source": [
    "?MIToS.Information.estimate_on_marginal"
   ]
  },
  {
   "cell_type": "code",
   "execution_count": 35,
   "metadata": {
    "collapsed": false
   },
   "outputs": [
    {
     "data": {
      "text/latex": [
       "This function \\texttt{estimate} a \\texttt{measure} over sequences or sequence pairs. It has the same arguments than \\texttt{estimateincolumns}, look the documentation of the last.\n"
      ],
      "text/markdown": [
       "This function `estimate` a `measure` over sequences or sequence pairs. It has the same arguments than `estimateincolumns`, look the documentation of the last.\n"
      ],
      "text/plain": [
       "This function `estimate` a `measure` over sequences or sequence pairs. It has the same arguments than `estimateincolumns`, look the documentation of the last.\n"
      ]
     },
     "execution_count": 35,
     "metadata": {},
     "output_type": "execute_result"
    }
   ],
   "source": [
    "?MIToS.Information.estimateinsequences"
   ]
  },
  {
   "cell_type": "code",
   "execution_count": 36,
   "metadata": {
    "collapsed": false
   },
   "outputs": [
    {
     "data": {
      "text/latex": [
       "\\texttt{estimateincolumns(aln, [count,] use, [α, β,] measure, [pseudocount,] [weight,] [usediagonal, diagonalvalue])}\n",
       "This function \\texttt{estimate} a \\texttt{AbstractMeasure} in columns or pair of columns of a MSA.\n",
       "\\begin{itemize}\n",
       "\\item \\texttt{aln} : This argument is mandatory and it should be a \\texttt{Matrix{Residue}}. Use the function \\texttt{getresidues} (from the MSA module) over a MSA object to get the needed matrix.\n",
       "\\item \\texttt{count} : This argument is optional. It should be defined when \\texttt{use} is a \\texttt{ResidueProbability} object. It indicates the element type of the counting table.\n",
       "\\item \\texttt{use} : This argument is mandatory and indicates the sub-type of \\texttt{ResidueContingencyTables} used by \\texttt{estimate} inside the function. If the table has one dimension (\\texttt{N}=\\texttt{1}), the occurrences/probabilities are counted for each sequence/column. If the table has two dimension (\\texttt{N}=\\texttt{2}), pairs of sequences/columns are used. The dimension \\texttt{N} and the \\texttt{UseGap} parameter of \\texttt{Residueount{T, N, UseGap}} or \\texttt{ResidueProbability{T, N, UseGap}} determines the output and behaviour of this functions. If \\texttt{UseGap} is true, gaps are used in the estimations.\n",
       "\\item \\texttt{α} : This argument is optional, and indicates the weight of real frequencies to apply BLOSUM62 based pseudo frequencies.\n",
       "\\item \\texttt{β} : This argument is optional, and indicates the weight of BLOSUM62 based pseudo frequencies.\n",
       "\\item \\texttt{measure} : This argument is mandatory and indicates the measure to be used by \\texttt{estimate} inside the function.\n",
       "\\item \\texttt{pseudocount} : This argument is optional. It should be an \\texttt{AdditiveSmoothing} instance (default to zero).\n",
       "\\item \\texttt{weight} : This argument is optional. It should be an instance of \\texttt{ClusteringResult} or \\texttt{AbstractVector} (vector of weights). Each sequence has weight 1 (\\texttt{NoClustering()}) by default.\n",
       "\\item \\texttt{usediagonal} : This functions return a \\texttt{Vector} in the one dimensional case, or a \\texttt{PairwiseListMatrix} in the bidimensional case. This argument only have sense in the bidimensional case and indicates if the list on the \\texttt{PairwiseListMatrix} should include the diagonal (default to \\texttt{true}).\n",
       "\\item \\texttt{diagonalvalue} : This argument is optional (default to zero). Indicates the value of output diagonal elements.\n",
       "\\end{itemize}\n"
      ],
      "text/markdown": [
       "`estimateincolumns(aln, [count,] use, [α, β,] measure, [pseudocount,] [weight,] [usediagonal, diagonalvalue])`\n",
       "\n",
       "This function `estimate` a `AbstractMeasure` in columns or pair of columns of a MSA.\n",
       "\n",
       "  * `aln` : This argument is mandatory and it should be a `Matrix{Residue}`. Use the function `getresidues` (from the MSA module) over a MSA object to get the needed matrix.\n",
       "  * `count` : This argument is optional. It should be defined when `use` is a `ResidueProbability` object. It indicates the element type of the counting table.\n",
       "  * `use` : This argument is mandatory and indicates the sub-type of `ResidueContingencyTables` used by `estimate` inside the function. If the table has one dimension (`N`=`1`), the occurrences/probabilities are counted for each sequence/column. If the table has two dimension (`N`=`2`), pairs of sequences/columns are used. The dimension `N` and the `UseGap` parameter of `Residueount{T, N, UseGap}` or `ResidueProbability{T, N, UseGap}` determines the output and behaviour of this functions. If `UseGap` is true, gaps are used in the estimations.\n",
       "  * `α` : This argument is optional, and indicates the weight of real frequencies to apply BLOSUM62 based pseudo frequencies.\n",
       "  * `β` : This argument is optional, and indicates the weight of BLOSUM62 based pseudo frequencies.\n",
       "  * `measure` : This argument is mandatory and indicates the measure to be used by `estimate` inside the function.\n",
       "  * `pseudocount` : This argument is optional. It should be an `AdditiveSmoothing` instance (default to zero).\n",
       "  * `weight` : This argument is optional. It should be an instance of `ClusteringResult` or `AbstractVector` (vector of weights). Each sequence has weight 1 (`NoClustering()`) by default.\n",
       "  * `usediagonal` : This functions return a `Vector` in the one dimensional case, or a `PairwiseListMatrix` in the bidimensional case. This argument only have sense in the bidimensional case and indicates if the list on the `PairwiseListMatrix` should include the diagonal (default to `true`).\n",
       "  * `diagonalvalue` : This argument is optional (default to zero). Indicates the value of output diagonal elements.\n"
      ],
      "text/plain": [
       "`estimateincolumns(aln, [count,] use, [α, β,] measure, [pseudocount,] [weight,] [usediagonal, diagonalvalue])`\n",
       "\n",
       "This function `estimate` a `AbstractMeasure` in columns or pair of columns of a MSA.\n",
       "\n",
       "  * `aln` : This argument is mandatory and it should be a `Matrix{Residue}`. Use the function `getresidues` (from the MSA module) over a MSA object to get the needed matrix.\n",
       "  * `count` : This argument is optional. It should be defined when `use` is a `ResidueProbability` object. It indicates the element type of the counting table.\n",
       "  * `use` : This argument is mandatory and indicates the sub-type of `ResidueContingencyTables` used by `estimate` inside the function. If the table has one dimension (`N`=`1`), the occurrences/probabilities are counted for each sequence/column. If the table has two dimension (`N`=`2`), pairs of sequences/columns are used. The dimension `N` and the `UseGap` parameter of `Residueount{T, N, UseGap}` or `ResidueProbability{T, N, UseGap}` determines the output and behaviour of this functions. If `UseGap` is true, gaps are used in the estimations.\n",
       "  * `α` : This argument is optional, and indicates the weight of real frequencies to apply BLOSUM62 based pseudo frequencies.\n",
       "  * `β` : This argument is optional, and indicates the weight of BLOSUM62 based pseudo frequencies.\n",
       "  * `measure` : This argument is mandatory and indicates the measure to be used by `estimate` inside the function.\n",
       "  * `pseudocount` : This argument is optional. It should be an `AdditiveSmoothing` instance (default to zero).\n",
       "  * `weight` : This argument is optional. It should be an instance of `ClusteringResult` or `AbstractVector` (vector of weights). Each sequence has weight 1 (`NoClustering()`) by default.\n",
       "  * `usediagonal` : This functions return a `Vector` in the one dimensional case, or a `PairwiseListMatrix` in the bidimensional case. This argument only have sense in the bidimensional case and indicates if the list on the `PairwiseListMatrix` should include the diagonal (default to `true`).\n",
       "  * `diagonalvalue` : This argument is optional (default to zero). Indicates the value of output diagonal elements.\n"
      ]
     },
     "execution_count": 36,
     "metadata": {},
     "output_type": "execute_result"
    }
   ],
   "source": [
    "?MIToS.Information.estimateincolumns"
   ]
  },
  {
   "cell_type": "markdown",
   "metadata": {},
   "source": [
    "<a href=\"#\"><i class=\"fa fa-arrow-up\"></i></a>\n",
    "\n",
    "### Measures"
   ]
  },
  {
   "cell_type": "code",
   "execution_count": 37,
   "metadata": {
    "collapsed": false
   },
   "outputs": [
    {
     "data": {
      "text/latex": [
       "This function takes a MSA or a file and a \\texttt{Format} as first arguments. Calculates a Z score and a corrected MI/MIp as described on \\textbf{Busjle et. al. 2009}\n",
       "Argument, type, default value and descriptions:\n",
       "\\begin{verbatim}\n",
       "  - lambda      Float64   0.05    Low count value\n",
       "  - clustering  Bool      true    Sequence clustering (Hobohm I)\n",
       "  - threshold             62      Percent identity threshold for clustering\n",
       "  - maxgap      Float64   0.5     Maximum fraction of gaps in positions included in calculation\n",
       "  - apc         Bool      true    Use APC correction (MIp)\n",
       "  - usegap      Bool      false   Use gaps on statistics\n",
       "  - samples     Int       100     Number of samples for Z-score\n",
       "  - fixedgaps   Bool      true    Fix gaps positions for the random samples\n",
       "\\end{verbatim}\n",
       "This function returns:\n",
       "\\begin{verbatim}\n",
       "  - Z score\n",
       "  - MI or MIp\n",
       "\\end{verbatim}\n"
      ],
      "text/markdown": [
       "This function takes a MSA or a file and a `Format` as first arguments. Calculates a Z score and a corrected MI/MIp as described on **Busjle et. al. 2009**\n",
       "\n",
       "Argument, type, default value and descriptions:\n",
       "\n",
       "```\n",
       "  - lambda      Float64   0.05    Low count value\n",
       "  - clustering  Bool      true    Sequence clustering (Hobohm I)\n",
       "  - threshold             62      Percent identity threshold for clustering\n",
       "  - maxgap      Float64   0.5     Maximum fraction of gaps in positions included in calculation\n",
       "  - apc         Bool      true    Use APC correction (MIp)\n",
       "  - usegap      Bool      false   Use gaps on statistics\n",
       "  - samples     Int       100     Number of samples for Z-score\n",
       "  - fixedgaps   Bool      true    Fix gaps positions for the random samples\n",
       "```\n",
       "\n",
       "This function returns:\n",
       "\n",
       "```\n",
       "  - Z score\n",
       "  - MI or MIp\n",
       "```\n"
      ],
      "text/plain": [
       "This function takes a MSA or a file and a `Format` as first arguments. Calculates a Z score and a corrected MI/MIp as described on **Busjle et. al. 2009**\n",
       "\n",
       "Argument, type, default value and descriptions:\n",
       "\n",
       "```\n",
       "  - lambda      Float64   0.05    Low count value\n",
       "  - clustering  Bool      true    Sequence clustering (Hobohm I)\n",
       "  - threshold             62      Percent identity threshold for clustering\n",
       "  - maxgap      Float64   0.5     Maximum fraction of gaps in positions included in calculation\n",
       "  - apc         Bool      true    Use APC correction (MIp)\n",
       "  - usegap      Bool      false   Use gaps on statistics\n",
       "  - samples     Int       100     Number of samples for Z-score\n",
       "  - fixedgaps   Bool      true    Fix gaps positions for the random samples\n",
       "```\n",
       "\n",
       "This function returns:\n",
       "\n",
       "```\n",
       "  - Z score\n",
       "  - MI or MIp\n",
       "```\n"
      ]
     },
     "execution_count": 37,
     "metadata": {},
     "output_type": "execute_result"
    }
   ],
   "source": [
    "?MIToS.Information.buslje09"
   ]
  },
  {
   "cell_type": "code",
   "execution_count": 38,
   "metadata": {
    "collapsed": false
   },
   "outputs": [
    {
     "data": {
      "text/latex": [
       "This function takes a MSA or a file and a \\texttt{Format} as first arguments. Calculates a Z score (ZBLMI) and a corrected MI/MIp as described on \\textbf{Busjle et. al. 2009} but using using BLOSUM62 pseudo frequencies instead of a fixed pseudocount.\n",
       "Argument, type, default value and descriptions:\n",
       "\\begin{verbatim}\n",
       "  - beta        Float64   8.512   β for BLOSUM62 pseudo frequencies\n",
       "  - lambda      Float64   0.0     Low count value\n",
       "  - threshold             62      Percent identity threshold for sequence clustering (Hobohm I)\n",
       "  - maxgap      Float64   0.5     Maximum fraction of gaps in positions included in calculation\n",
       "  - apc         Bool      true    Use APC correction (MIp)\n",
       "  - samples     Int       50      Number of samples for Z-score\n",
       "  - fixedgaps   Bool      true    Fix gaps positions for the random samples\n",
       "\\end{verbatim}\n",
       "This function returns:\n",
       "\\begin{verbatim}\n",
       "  - Z score (ZBLMI)\n",
       "  - MI or MIp using BLOSUM62 pseudo frequencies (BLMI/BLMIp)\n",
       "\\end{verbatim}\n"
      ],
      "text/markdown": [
       "This function takes a MSA or a file and a `Format` as first arguments. Calculates a Z score (ZBLMI) and a corrected MI/MIp as described on **Busjle et. al. 2009** but using using BLOSUM62 pseudo frequencies instead of a fixed pseudocount.\n",
       "\n",
       "Argument, type, default value and descriptions:\n",
       "\n",
       "```\n",
       "  - beta        Float64   8.512   β for BLOSUM62 pseudo frequencies\n",
       "  - lambda      Float64   0.0     Low count value\n",
       "  - threshold             62      Percent identity threshold for sequence clustering (Hobohm I)\n",
       "  - maxgap      Float64   0.5     Maximum fraction of gaps in positions included in calculation\n",
       "  - apc         Bool      true    Use APC correction (MIp)\n",
       "  - samples     Int       50      Number of samples for Z-score\n",
       "  - fixedgaps   Bool      true    Fix gaps positions for the random samples\n",
       "```\n",
       "\n",
       "This function returns:\n",
       "\n",
       "```\n",
       "  - Z score (ZBLMI)\n",
       "  - MI or MIp using BLOSUM62 pseudo frequencies (BLMI/BLMIp)\n",
       "```\n"
      ],
      "text/plain": [
       "This function takes a MSA or a file and a `Format` as first arguments. Calculates a Z score (ZBLMI) and a corrected MI/MIp as described on **Busjle et. al. 2009** but using using BLOSUM62 pseudo frequencies instead of a fixed pseudocount.\n",
       "\n",
       "Argument, type, default value and descriptions:\n",
       "\n",
       "```\n",
       "  - beta        Float64   8.512   β for BLOSUM62 pseudo frequencies\n",
       "  - lambda      Float64   0.0     Low count value\n",
       "  - threshold             62      Percent identity threshold for sequence clustering (Hobohm I)\n",
       "  - maxgap      Float64   0.5     Maximum fraction of gaps in positions included in calculation\n",
       "  - apc         Bool      true    Use APC correction (MIp)\n",
       "  - samples     Int       50      Number of samples for Z-score\n",
       "  - fixedgaps   Bool      true    Fix gaps positions for the random samples\n",
       "```\n",
       "\n",
       "This function returns:\n",
       "\n",
       "```\n",
       "  - Z score (ZBLMI)\n",
       "  - MI or MIp using BLOSUM62 pseudo frequencies (BLMI/BLMIp)\n",
       "```\n"
      ]
     },
     "execution_count": 38,
     "metadata": {},
     "output_type": "execute_result"
    }
   ],
   "source": [
    "?MIToS.Information.BLMI"
   ]
  },
  {
   "cell_type": "code",
   "execution_count": 39,
   "metadata": {
    "collapsed": false
   },
   "outputs": [
    {
     "data": {
      "text/latex": [
       "This function takes a MSA or a file and a \\texttt{Format} as first arguments. Calculates the percentage of gaps on columns pairs (union and intersection) using sequence clustering (Hobohm I).\n",
       "Argument, type, default value and descriptions:\n",
       "\\begin{itemize}\n",
       "\\item clustering  Bool      true    Sequence clustering (Hobohm I)\n",
       "\\item threshold             62      Percent identity threshold for sequence clustering (Hobohm I)\n",
       "\\end{itemize}\n",
       "This function returns:\n",
       "\\begin{itemize}\n",
       "\\item pairwise gap percentage (union)\n",
       "\\item pairwise gap percentage (intersection)\n",
       "\\end{itemize}\n"
      ],
      "text/markdown": [
       "This function takes a MSA or a file and a `Format` as first arguments. Calculates the percentage of gaps on columns pairs (union and intersection) using sequence clustering (Hobohm I).\n",
       "\n",
       "Argument, type, default value and descriptions:\n",
       "\n",
       "  * clustering  Bool      true    Sequence clustering (Hobohm I)\n",
       "  * threshold             62      Percent identity threshold for sequence clustering (Hobohm I)\n",
       "\n",
       "This function returns:\n",
       "\n",
       "  * pairwise gap percentage (union)\n",
       "  * pairwise gap percentage (intersection)\n"
      ],
      "text/plain": [
       "This function takes a MSA or a file and a `Format` as first arguments. Calculates the percentage of gaps on columns pairs (union and intersection) using sequence clustering (Hobohm I).\n",
       "\n",
       "Argument, type, default value and descriptions:\n",
       "\n",
       "  * clustering  Bool      true    Sequence clustering (Hobohm I)\n",
       "  * threshold             62      Percent identity threshold for sequence clustering (Hobohm I)\n",
       "\n",
       "This function returns:\n",
       "\n",
       "  * pairwise gap percentage (union)\n",
       "  * pairwise gap percentage (intersection)\n"
      ]
     },
     "execution_count": 39,
     "metadata": {},
     "output_type": "execute_result"
    }
   ],
   "source": [
    "?MIToS.Information.pairwisegapfraction"
   ]
  },
  {
   "cell_type": "markdown",
   "metadata": {},
   "source": [
    "<a href=\"#\"><i class=\"fa fa-arrow-up\"></i></a>\n",
    "\n",
    "### Imported from Base"
   ]
  },
  {
   "cell_type": "code",
   "execution_count": 40,
   "metadata": {
    "collapsed": false
   },
   "outputs": [
    {
     "data": {
      "text/latex": [
       "\\begin{verbatim}\n",
       "fill!(A, x)\n",
       "\\end{verbatim}\n",
       "Fill array \\texttt{A} with the value \\texttt{x}. If \\texttt{x} is an object reference, all elements will refer to the same object. \\texttt{fill!(A, Foo())} will return \\texttt{A} filled with the result of evaluating \\texttt{Foo()} once.\n",
       "\\texttt{fill!{T, N, UseGap}(p::ResidueProbability{T, N, UseGap}, n::ResidueCount{T, N, UseGap}; updated::Bool=false)}\n",
       "This function fills a preallocated \\texttt{ResidueProbability} (\\texttt{p}) with the probabilities calculated from \\texttt{n} (\\texttt{ResidueCount}). This function updates \\texttt{n} unless \\texttt{updated=true}.\n",
       "If \\texttt{n} is updated, you can use \\texttt{updated=true} for a faster calculation.\n",
       "\\texttt{fill!{T, N, UseGap}(n::ResidueCount{T, N, UseGap}, pse::AdditiveSmoothing{T})} fills a preallocated \\texttt{ResidueCount} (\\texttt{p}) with the pseudocount (\\texttt{pse}).\n"
      ],
      "text/markdown": [
       "```\n",
       "fill!(A, x)\n",
       "```\n",
       "\n",
       "Fill array `A` with the value `x`. If `x` is an object reference, all elements will refer to the same object. `fill!(A, Foo())` will return `A` filled with the result of evaluating `Foo()` once.\n",
       "\n",
       "`fill!{T, N, UseGap}(p::ResidueProbability{T, N, UseGap}, n::ResidueCount{T, N, UseGap}; updated::Bool=false)`\n",
       "\n",
       "This function fills a preallocated `ResidueProbability` (`p`) with the probabilities calculated from `n` (`ResidueCount`). This function updates `n` unless `updated=true`.\n",
       "\n",
       "If `n` is updated, you can use `updated=true` for a faster calculation.\n",
       "\n",
       "`fill!{T, N, UseGap}(n::ResidueCount{T, N, UseGap}, pse::AdditiveSmoothing{T})` fills a preallocated `ResidueCount` (`p`) with the pseudocount (`pse`).\n"
      ],
      "text/plain": [
       "```\n",
       "fill!(A, x)\n",
       "```\n",
       "\n",
       "Fill array `A` with the value `x`. If `x` is an object reference, all elements will refer to the same object. `fill!(A, Foo())` will return `A` filled with the result of evaluating `Foo()` once.\n",
       "\n",
       "`fill!{T, N, UseGap}(p::ResidueProbability{T, N, UseGap}, n::ResidueCount{T, N, UseGap}; updated::Bool=false)`\n",
       "\n",
       "This function fills a preallocated `ResidueProbability` (`p`) with the probabilities calculated from `n` (`ResidueCount`). This function updates `n` unless `updated=true`.\n",
       "\n",
       "If `n` is updated, you can use `updated=true` for a faster calculation.\n",
       "\n",
       "`fill!{T, N, UseGap}(n::ResidueCount{T, N, UseGap}, pse::AdditiveSmoothing{T})` fills a preallocated `ResidueCount` (`p`) with the pseudocount (`pse`).\n"
      ]
     },
     "execution_count": 40,
     "metadata": {},
     "output_type": "execute_result"
    }
   ],
   "source": [
    "?MIToS.Information.fill!"
   ]
  },
  {
   "cell_type": "markdown",
   "metadata": {},
   "source": [
    "<a href=\"#\"><i class=\"fa fa-arrow-up\"></i></a>"
   ]
  }
 ],
 "metadata": {
  "kernelspec": {
   "display_name": "Julia 0.4.1",
   "language": "julia",
   "name": "julia-0.4"
  },
  "language_info": {
   "file_extension": ".jl",
   "mimetype": "application/julia",
   "name": "julia",
   "version": "0.4.1"
  }
 },
 "nbformat": 4,
 "nbformat_minor": 0
}
