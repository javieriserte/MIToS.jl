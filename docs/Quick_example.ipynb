{
 "cells": [
  {
   "cell_type": "markdown",
   "metadata": {
    "collapsed": true
   },
   "source": [
    "# Quick Example"
   ]
  },
  {
   "cell_type": "markdown",
   "metadata": {},
   "source": [
    "In this simple demonstration, you will see how to calculate **ZBLMIp** (Z score of the corrected MIp using BLOSUM62 pseudo frequencies)for [Pfam<span class=\"fa fa-external-link\" aria-hidden=\"true\"></span>](http://pfam.xfam.org/) MSA from [Julia REPL](#MIToS-in-the-Julia-REPL) or using a [MIToS script in the system command line](#MIToS-in-system-command-line)."
   ]
  },
  {
   "cell_type": "markdown",
   "metadata": {},
   "source": [
    "## MIToS in the Julia REPL"
   ]
  },
  {
   "cell_type": "markdown",
   "metadata": {},
   "source": [
    "If you load the `Pfam` module from `MIToS`, you will get access to a set of functions that work with Pfam MSAs. In this case, we are going to use it for download a [Stockholm <span class=\"fa fa-external-link\" aria-hidden=\"true\"></span>](https://en.wikipedia.org/wiki/Stockholm_format) MSA from the Pfam website and read it into Julia.  "
   ]
  },
  {
   "cell_type": "code",
   "execution_count": 3,
   "metadata": {
    "collapsed": false
   },
   "outputs": [],
   "source": [
    "using MIToS.Pfam"
   ]
  },
  {
   "cell_type": "code",
   "execution_count": 4,
   "metadata": {
    "collapsed": false
   },
   "outputs": [
    {
     "name": "stderr",
     "output_type": "stream",
     "text": [
      "  % Total    % Received % Xferd  Average Speed   Time    Time     Time  Current\n",
      "                                 Dload  Upload   Total   Spent    Left  Speed\n",
      "100  6675  100  6675    0     0   5944      0  0:00:01  0:00:01 --:--:--  5949\n"
     ]
    },
    {
     "data": {
      "text/plain": [
       "\"PF10660.stockholm.gz\""
      ]
     },
     "execution_count": 4,
     "metadata": {},
     "output_type": "execute_result"
    }
   ],
   "source": [
    "pfam_file = downloadpfam(\"PF10660\")"
   ]
  },
  {
   "cell_type": "code",
   "execution_count": 5,
   "metadata": {
    "collapsed": false
   },
   "outputs": [
    {
     "data": {
      "text/plain": [
       "161x64 MIToS.MSA.AnnotatedMultipleSequenceAlignment:\n",
       " -  -  -  -  -  -  L  L  Q  D  G  V  A  …  L  G  Q  K  V  -  -  -  -  -  -  -\n",
       " -  -  -  -  -  -  -  -  -  -  -  -  -     A  Y  K  K  F  F  S  K  G  -  -  -\n",
       " -  -  -  -  -  -  -  -  -  -  -  -  -     A  V  R  P  F  L  P  K  K  K  Q  Q\n",
       " M  E  S  V  A  R  I  V  K  V  Q  L  P     A  V  R  P  F  L  P  K  K  K  Q  Q\n",
       " M  E  S  I  A  R  V  I  K  V  Q  L  P     A  I  R  P  F  L  P  K  K  K  Q  Q\n",
       " M  E  S  V  A  R  I  V  K  V  Q  L  P  …  A  V  R  P  F  F  P  K  K  K  Q  Q\n",
       " -  -  -  -  -  -  -  -  -  -  -  -  -     A  Y  K  S  L  C  C  K  D  K  C  -\n",
       " M  E  S  I  S  K  I  I  K  I  Q  L  P     T  I  R  P  F  L  P  K  K  K  K  Q\n",
       " M  E  A  I  A  K  L  I  K  V  Q  L  P     T  Y  K  F  F  Q  P  K  A  -  -  -\n",
       " M  N  V  L  Q  S  I  V  R  V  H  I  P     -  -  -  -  -  -  -  -  -  -  -  -\n",
       " M  E  P  I  A  H  L  V  K  V  S  V  P  …  S  Y  R  A  F  C  P  R  -  -  -  -\n",
       " -  -  -  -  -  -  -  -  -  -  -  -  -     A  Y  K  K  F  M  V  K  E  K  R  -\n",
       " -  -  -  -  -  -  -  -  -  -  -  -  -     A  Y  K  K  F  F  S  K  D  K  C  -\n",
       " ⋮              ⋮              ⋮        ⋱           ⋮              ⋮         \n",
       " M  E  T  L  S  G  L  V  K  T  T  L  P     -  -  -  -  -  -  -  -  -  -  -  -\n",
       " M  E  S  V  S  S  L  V  K  I  H  I  P  …  T  Y  R  T  I  K  P  K  Q  -  -  -\n",
       " -  -  -  -  -  -  -  -  -  -  -  -  -     A  Y  K  K  I  L  S  K  D  K  C  -\n",
       " M  Q  S  L  S  H  A  V  K  T  S  L  P     S  Y  Q  A  L  C  P  A  A  Q  R  -\n",
       " M  E  P  I  S  H  L  V  K  S  S  L  P     A  Y  L  A  Y  C  P  A  A  R  -  -\n",
       " -  -  S  I  S  A  I  L  S  L  S  L  P     A  I  R  P  F  L  P  K  K  K  Q  Q\n",
       " -  -  -  -  -  -  -  -  -  -  -  -  -  …  A  Y  K  K  F  I  S  K  D  K  C  -\n",
       " -  -  -  -  -  -  -  -  -  -  -  -  -     A  Y  K  K  F  Y  V  K  E  N  R  -\n",
       " -  -  -  -  -  -  -  -  -  -  -  -  -     A  Y  K  R  F  Y  V  K  D  H  R  -\n",
       " -  -  -  -  -  -  -  -  -  -  -  -  -     A  Y  K  K  F  Y  V  K  D  H  R  N\n",
       " M  Y  F  V  S  N  V  V  K  V  T  I  P     S  Y  Q  T  I  -  -  -  -  -  -  -\n",
       " M  E  P  I  S  H  L  V  K  S  S  L  P  …  A  Y  L  A  F  C  P  A  A  Q  C  -"
      ]
     },
     "execution_count": 5,
     "metadata": {},
     "output_type": "execute_result"
    }
   ],
   "source": [
    "msa = read(pfam_file, Stockholm, generatemapping=true, useidcoordinates=true)"
   ]
  },
  {
   "cell_type": "markdown",
   "metadata": {},
   "source": [
    "<div class=\"panel panel-info\">\n",
    "    <div class=\"panel-heading\">\n",
    "        <strong>Generation of sequence and column mappings</strong>\n",
    "    </div>\n",
    "    <div class=\"panel-body\">\n",
    "        <p>The keyword argument <code>generatemapping</code> of <code>read</code> allows to generate sequence and column mappings for the MSA. <em>Column mapping</em> is the map between of each column on the MSA object and the column number in the file. <em>Sequence mappings</em> will use the start and end coordinates in the sequence ids for enumerate each residue in the sequence if <code>useidcoordinates</code> is <code>true</code>.</p>\n",
    "    </div>\n",
    "</div>"
   ]
  },
  {
   "cell_type": "markdown",
   "metadata": {},
   "source": [
    "The `Information` module of `MIToS` has functions to calculate measures from the [Information Theory<span class=\"fa fa-external-link\" aria-hidden=\"true\"></span>](https://en.wikipedia.org/wiki/Information_theory), such as Entropy and Mutual Information (MI), on a MSA. In this example, we will estimate covariation between columns of the MSA with a corrected MI that use the BLOSUM62 matrix for calculate pseudo frequencies (`BLMI`).  "
   ]
  },
  {
   "cell_type": "code",
   "execution_count": 6,
   "metadata": {
    "collapsed": true
   },
   "outputs": [],
   "source": [
    "using MIToS.Information"
   ]
  },
  {
   "cell_type": "code",
   "execution_count": 7,
   "metadata": {
    "collapsed": false
   },
   "outputs": [
    {
     "data": {
      "text/plain": [
       "64x64 PairwiseListMatrices.PairwiseListMatrix{Float64,false}:\n",
       " NaN            1.56262     0.239193  …   -1.17974    -0.622457    0.695333\n",
       "   1.56262    NaN           2.64115        1.16704     1.32713    -1.22019 \n",
       "   0.239193     2.64115   NaN              2.96858     1.39513    -3.21801 \n",
       "   0.835961    -0.456962    0.495683      -0.201893   -1.89052    -1.98134 \n",
       "   0.249354     2.17151     2.397         -0.792945   -2.87666    -3.90599 \n",
       "  -1.19825     -1.5252      2.53624   …    1.01085    -0.691987   -4.04071 \n",
       "   0.20842      2.22535     0.120801      -0.700507   -0.112798   -2.48018 \n",
       "   0.833349     0.097069    1.94286       -3.72233    -1.61278    -2.33391 \n",
       "   1.78692      1.04378    -1.71028        2.83256     1.29089    -2.09074 \n",
       "  -0.349539    -1.17072     1.01534        0.01366     1.39854    -4.43937 \n",
       "  -0.547949     2.33443    -0.273207  …    1.90971    -0.517314   -4.05952 \n",
       "   1.4914       1.77455    -1.1792         2.46771     0.932046   -1.20247 \n",
       "   2.0943      -0.405082    0.243714      -2.08763    -1.37484    -0.222933\n",
       "   ⋮                                  ⋱                                    \n",
       "  -0.724685    -0.921425    2.69126        1.44932     0.769455   -0.487522\n",
       "   0.0481902   -1.57116    -2.16681       -0.923719    0.629735    2.99909 \n",
       "  -1.32159      0.872023    3.12734       -1.59675    -2.78218     0.519065\n",
       "  -1.47853     -0.884435    0.234348  …    0.451821    1.33643     1.71634 \n",
       "  -1.24025      0.866529    1.61024       -1.15414    -0.832358   -3.63529 \n",
       "  -1.77163     -1.11848     2.02756        0.737751   -0.451622    2.20685 \n",
       "  -0.909804    -0.529833   -2.82596        2.50721     3.05442     1.36146 \n",
       "  -0.0351008    0.940607    0.345064       1.97096    -0.705832   -2.03795 \n",
       "  -1.10853     -0.938862    0.387233  …   -0.75831    -1.23159    -0.308462\n",
       "  -1.17974      1.16704     2.96858      NaN          -2.42898     1.64234 \n",
       "  -0.622457     1.32713     1.39513       -2.42898   NaN          -0.862004\n",
       "   0.695333    -1.22019    -3.21801        1.64234    -0.862004  NaN       "
      ]
     },
     "execution_count": 7,
     "metadata": {},
     "output_type": "execute_result"
    }
   ],
   "source": [
    "ZBLMIp, BLMIp = BLMI(msa)\n",
    "\n",
    "ZBLMIp # shows ZBLMIp scores"
   ]
  },
  {
   "cell_type": "markdown",
   "metadata": {
    "collapsed": true
   },
   "source": [
    "## MIToS in system command line"
   ]
  },
  {
   "cell_type": "markdown",
   "metadata": {},
   "source": [
    "Calculate ZBLMIp on the system shell is easy using the MIToS script called `BLMI.jl`. This script reads a MSA file, and writes a file with the same base name of the input but with the `.BLMI.csv` extension.   "
   ]
  },
  {
   "cell_type": "code",
   "execution_count": 7,
   "metadata": {
    "collapsed": false
   },
   "outputs": [],
   "source": [
    ";BLMI.jl -f PF14972.stockholm.gz"
   ]
  },
  {
   "cell_type": "code",
   "execution_count": 8,
   "metadata": {
    "collapsed": false
   },
   "outputs": [
    {
     "name": "stdout",
     "output_type": "stream",
     "text": [
      "# MIToS 0.1.1+ BLMI.jl 2016-02-26T02:21:07\n",
      "# used arguments:\n",
      "# \tlist\t\tnothing\n",
      "# \tformat\t\tstockholm\n",
      "# \tthreshold\t\t0.62\n",
      "# \tapc\t\ttrue\n",
      "# \tmaxgap\t\t0.5\n",
      "# \tsamples\t\t50\n",
      "# \tfile\t\tPF14972.stockholm.gz\n",
      "# \tfixedgaps\t\ttrue\n",
      "# \tbeta\t\t8.512\n",
      "i,j,ZBLMIp,BLMIp\n",
      "1,2,-.7004979287302624,-.10773158935175786\n",
      "1,3,-1.2705630050564432,-.14636730384499808\n",
      "1,4,.011154688282294722,-.004889231952564216\n",
      "1,5,-.2676871957834277,-.03250207598779911\n",
      "1,6,.7673531754724379,.041348234477362855\n",
      "1,7,-1.2539399615584093,-.14679683902400162\n",
      "1,8,.10805836461787835,-.022688091751868172\n",
      "1,9,-.46031183144933563,-.05100794737701467\n"
     ]
    }
   ],
   "source": [
    ";head -20 PF14972.stockholm.BLMI.csv"
   ]
  },
  {
   "cell_type": "markdown",
   "metadata": {
    "collapsed": true
   },
   "source": [
    "<div class=\"panel panel-info\">\n",
    "    <div class=\"panel-heading\">\n",
    "        <strong>Julia shell mode</strong>\n",
    "    </div>\n",
    "    <div class=\"panel-body\">\n",
    "        <p>A semicolon (<code>;</code>) next to Julia prompt, at the beginning of the line, enters the shell mode. This mode uses the system shell to execute system commands.</p>\n",
    "    </div>\n",
    "</div>"
   ]
  }
 ],
 "metadata": {
  "kernelspec": {
   "display_name": "Julia 0.4.1",
   "language": "julia",
   "name": "julia-0.4"
  },
  "language_info": {
   "file_extension": ".jl",
   "mimetype": "application/julia",
   "name": "julia",
   "version": "0.4.1"
  }
 },
 "nbformat": 4,
 "nbformat_minor": 0
}
