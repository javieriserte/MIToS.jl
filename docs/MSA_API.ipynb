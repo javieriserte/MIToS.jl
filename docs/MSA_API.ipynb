{
 "cells": [
  {
   "cell_type": "markdown",
   "metadata": {},
   "source": [
    "# MSA API\n",
    "\n",
    "- [Types](#Types)\n",
    "    - [Residues](#Residues)\n",
    "    - [Annotations](#Annotations)\n",
    "    - [Multiple Sequence Alignments](#Multiple-Sequence-Alignments)\n",
    "    - [Sequences](#Sequences)\n",
    "    - [MSA formats](#MSA-formats)\n",
    "    - [Clustering](#Clustering)\n",
    "- [Constants](#Constants)\n",
    "- [Macros](#Macros)\n",
    "- [Methods](#Methods)\n",
    "    - [Imported from Base](#Imported-from-Base)\n",
    "    - [Imported from Clustering.jl](#Imported-from-Clustering.jl)"
   ]
  },
  {
   "cell_type": "code",
   "execution_count": 1,
   "metadata": {
    "collapsed": false
   },
   "outputs": [],
   "source": [
    "using MIToS.MSA"
   ]
  },
  {
   "cell_type": "code",
   "execution_count": 2,
   "metadata": {
    "collapsed": false
   },
   "outputs": [
    {
     "data": {
      "text/latex": [
       "The MSA module of MIToS has utilities for working with Multiple Sequence Alignments of protein Sequences (MSA).\n",
       "\\textbf{Features}\n",
       "\\begin{itemize}\n",
       "\\item Read and write MSAs in \\texttt{Stockholm}, \\texttt{FASTA} or \\texttt{Raw} format\n",
       "\\item Handle MSA annotations\n",
       "\\item Edit the MSA, e.g. delete columns or sequences, change sequence order, shuffling...\n",
       "\\item Keep track of positions and annotations after modifications on the MSA\n",
       "\\item Describe a MSA, e.g. mean percent identity, sequence coverage, gap percentage...\n",
       "\\end{itemize}\n",
       "\\begin{verbatim}\n",
       "\n",
       "using MIToS.MSA\n",
       "\\end{verbatim}\n"
      ],
      "text/markdown": [
       "The MSA module of MIToS has utilities for working with Multiple Sequence Alignments of protein Sequences (MSA).\n",
       "\n",
       "**Features**\n",
       "\n",
       "  * Read and write MSAs in `Stockholm`, `FASTA` or `Raw` format\n",
       "  * Handle MSA annotations\n",
       "  * Edit the MSA, e.g. delete columns or sequences, change sequence order, shuffling...\n",
       "  * Keep track of positions and annotations after modifications on the MSA\n",
       "  * Describe a MSA, e.g. mean percent identity, sequence coverage, gap percentage...\n",
       "\n",
       "```julia\n",
       "\n",
       "using MIToS.MSA\n",
       "```\n"
      ],
      "text/plain": [
       "The MSA module of MIToS has utilities for working with Multiple Sequence Alignments of protein Sequences (MSA).\n",
       "\n",
       "**Features**\n",
       "\n",
       "  * Read and write MSAs in `Stockholm`, `FASTA` or `Raw` format\n",
       "  * Handle MSA annotations\n",
       "  * Edit the MSA, e.g. delete columns or sequences, change sequence order, shuffling...\n",
       "  * Keep track of positions and annotations after modifications on the MSA\n",
       "  * Describe a MSA, e.g. mean percent identity, sequence coverage, gap percentage...\n",
       "\n",
       "```julia\n",
       "\n",
       "using MIToS.MSA\n",
       "```\n"
      ]
     },
     "execution_count": 2,
     "metadata": {},
     "output_type": "execute_result"
    }
   ],
   "source": [
    "?MIToS.MSA"
   ]
  },
  {
   "cell_type": "markdown",
   "metadata": {},
   "source": [
    "<div class=\"panel panel-info\">\n",
    "    <div class=\"panel-heading\">\n",
    "        <strong>Julia help mode</strong>\n",
    "    </div>\n",
    "    <div class=\"panel-body\">\n",
    "        <p>If you type <code>?</code> at the beginning of the Julia REPL line, you will enter in the Julia help mode. In this mode, Julia prints the help or <strong>documentation</strong> of the entered element. This is a nice way of getting information about MIToS functions, types, etc. from Julia.</p>\n",
    "    </div>\n",
    "</div>"
   ]
  },
  {
   "cell_type": "markdown",
   "metadata": {},
   "source": [
    "<a href=\"#\"><i class=\"fa fa-arrow-up\"></i></a>\n",
    "\n",
    "## Types"
   ]
  },
  {
   "cell_type": "markdown",
   "metadata": {},
   "source": [
    "### Residues"
   ]
  },
  {
   "cell_type": "code",
   "execution_count": 3,
   "metadata": {
    "collapsed": false
   },
   "outputs": [
    {
     "data": {
      "text/latex": [
       "Most of the \\textbf{MIToS} design is created around the \\texttt{Residue} bitstype. It represents the 20 natural amino acids and a GAP value to represent insertion, deletion but also missing data: ambiguous residues and non natural amino acids. Each residue is encoded as an integer number, this allows fast indexing operation using Residues of probability or frequency matrices.\n",
       "\\textbf{Residue creation and conversion}\n",
       "Creation and \\texttt{convert}ion of \\texttt{Residue}s should be treated carefully. \\texttt{Residue} is encoded as an 8 bits type similar to \\texttt{Int8}, to get faster indexing using \\texttt{Int(x::Residue)}. In this way, \\texttt{Int}, \\texttt{Int8} and other signed integers returns the integer value encoded by the residue. Conversions to and from \\texttt{Char}s and \\texttt{Uint8} are different, to use the \\texttt{Char}acter representation in IO operations.\n",
       "\\begin{verbatim}\n",
       "\n",
       "julia> alanine = Residue('A')\n",
       "A\n",
       "\n",
       "julia> Int(alanine)\n",
       "1\n",
       "\n",
       "julia> Char(alanine)\n",
       "'A'\n",
       "\n",
       "julia> UInt8(alanine) # 0x41 == 65 == 'A'\n",
       "0x41\n",
       "\n",
       "julia> for residue in res\"ARNDCQEGHILKMFPSTWYV-\"\n",
       "           println(residue, \" \", Int(residue))\n",
       "       end\n",
       "A 1\n",
       "R 2\n",
       "N 3\n",
       "D 4\n",
       "C 5\n",
       "Q 6\n",
       "E 7\n",
       "G 8\n",
       "H 9\n",
       "I 10\n",
       "L 11\n",
       "K 12\n",
       "M 13\n",
       "F 14\n",
       "P 15\n",
       "S 16\n",
       "T 17\n",
       "W 18\n",
       "Y 19\n",
       "V 20\n",
       "- 21\n",
       "\n",
       "\\end{verbatim}\n"
      ],
      "text/markdown": [
       "Most of the **MIToS** design is created around the `Residue` bitstype. It represents the 20 natural amino acids and a GAP value to represent insertion, deletion but also missing data: ambiguous residues and non natural amino acids. Each residue is encoded as an integer number, this allows fast indexing operation using Residues of probability or frequency matrices.\n",
       "\n",
       "**Residue creation and conversion**\n",
       "\n",
       "Creation and `convert`ion of `Residue`s should be treated carefully. `Residue` is encoded as an 8 bits type similar to `Int8`, to get faster indexing using `Int(x::Residue)`. In this way, `Int`, `Int8` and other signed integers returns the integer value encoded by the residue. Conversions to and from `Char`s and `Uint8` are different, to use the `Char`acter representation in IO operations.\n",
       "\n",
       "```julia\n",
       "\n",
       "julia> alanine = Residue('A')\n",
       "A\n",
       "\n",
       "julia> Int(alanine)\n",
       "1\n",
       "\n",
       "julia> Char(alanine)\n",
       "'A'\n",
       "\n",
       "julia> UInt8(alanine) # 0x41 == 65 == 'A'\n",
       "0x41\n",
       "\n",
       "julia> for residue in res\"ARNDCQEGHILKMFPSTWYV-\"\n",
       "           println(residue, \" \", Int(residue))\n",
       "       end\n",
       "A 1\n",
       "R 2\n",
       "N 3\n",
       "D 4\n",
       "C 5\n",
       "Q 6\n",
       "E 7\n",
       "G 8\n",
       "H 9\n",
       "I 10\n",
       "L 11\n",
       "K 12\n",
       "M 13\n",
       "F 14\n",
       "P 15\n",
       "S 16\n",
       "T 17\n",
       "W 18\n",
       "Y 19\n",
       "V 20\n",
       "- 21\n",
       "\n",
       "```\n"
      ],
      "text/plain": [
       "Most of the **MIToS** design is created around the `Residue` bitstype. It represents the 20 natural amino acids and a GAP value to represent insertion, deletion but also missing data: ambiguous residues and non natural amino acids. Each residue is encoded as an integer number, this allows fast indexing operation using Residues of probability or frequency matrices.\n",
       "\n",
       "**Residue creation and conversion**\n",
       "\n",
       "Creation and `convert`ion of `Residue`s should be treated carefully. `Residue` is encoded as an 8 bits type similar to `Int8`, to get faster indexing using `Int(x::Residue)`. In this way, `Int`, `Int8` and other signed integers returns the integer value encoded by the residue. Conversions to and from `Char`s and `Uint8` are different, to use the `Char`acter representation in IO operations.\n",
       "\n",
       "```julia\n",
       "\n",
       "julia> alanine = Residue('A')\n",
       "A\n",
       "\n",
       "julia> Int(alanine)\n",
       "1\n",
       "\n",
       "julia> Char(alanine)\n",
       "'A'\n",
       "\n",
       "julia> UInt8(alanine) # 0x41 == 65 == 'A'\n",
       "0x41\n",
       "\n",
       "julia> for residue in res\"ARNDCQEGHILKMFPSTWYV-\"\n",
       "           println(residue, \" \", Int(residue))\n",
       "       end\n",
       "A 1\n",
       "R 2\n",
       "N 3\n",
       "D 4\n",
       "C 5\n",
       "Q 6\n",
       "E 7\n",
       "G 8\n",
       "H 9\n",
       "I 10\n",
       "L 11\n",
       "K 12\n",
       "M 13\n",
       "F 14\n",
       "P 15\n",
       "S 16\n",
       "T 17\n",
       "W 18\n",
       "Y 19\n",
       "V 20\n",
       "- 21\n",
       "\n",
       "```\n"
      ]
     },
     "execution_count": 3,
     "metadata": {},
     "output_type": "execute_result"
    }
   ],
   "source": [
    "?MIToS.MSA.Residue"
   ]
  },
  {
   "cell_type": "markdown",
   "metadata": {},
   "source": [
    "<a href=\"#\"><i class=\"fa fa-arrow-up\"></i></a>\n",
    "\n",
    "### Annotations"
   ]
  },
  {
   "cell_type": "code",
   "execution_count": 4,
   "metadata": {
    "collapsed": false
   },
   "outputs": [
    {
     "data": {
      "text/latex": [
       "The \\texttt{Annotations} type is basically a container for \\texttt{Dict}s with the annotations of a multiple sequence alignment. \\texttt{Annotations} was designed for storage of annotations of the \\textbf{Stockholm format}.\n",
       "MIToS also uses MSA annotations to keep track of:\n",
       "\\begin{itemize}\n",
       "\\item \\textbf{Modifications} of the MSA (\\texttt{MIToS_...}) as deletion of sequences or columns.\n",
       "\\item Positions numbers in the original MSA file (\\textbf{column mapping:} \\texttt{ColMap})\n",
       "\\item Position of the residues in the sequence (\\textbf{sequence mapping:} \\texttt{SeqMap})\n",
       "\\end{itemize}\n"
      ],
      "text/markdown": [
       "The `Annotations` type is basically a container for `Dict`s with the annotations of a multiple sequence alignment. `Annotations` was designed for storage of annotations of the **Stockholm format**.\n",
       "\n",
       "MIToS also uses MSA annotations to keep track of:\n",
       "\n",
       "  * **Modifications** of the MSA (`MIToS_...`) as deletion of sequences or columns.\n",
       "  * Positions numbers in the original MSA file (**column mapping:** `ColMap`)\n",
       "  * Position of the residues in the sequence (**sequence mapping:** `SeqMap`)\n"
      ],
      "text/plain": [
       "The `Annotations` type is basically a container for `Dict`s with the annotations of a multiple sequence alignment. `Annotations` was designed for storage of annotations of the **Stockholm format**.\n",
       "\n",
       "MIToS also uses MSA annotations to keep track of:\n",
       "\n",
       "  * **Modifications** of the MSA (`MIToS_...`) as deletion of sequences or columns.\n",
       "  * Positions numbers in the original MSA file (**column mapping:** `ColMap`)\n",
       "  * Position of the residues in the sequence (**sequence mapping:** `SeqMap`)\n"
      ]
     },
     "execution_count": 4,
     "metadata": {},
     "output_type": "execute_result"
    }
   ],
   "source": [
    "?MIToS.MSA.Annotations"
   ]
  },
  {
   "cell_type": "markdown",
   "metadata": {},
   "source": [
    "<a href=\"#\"><i class=\"fa fa-arrow-up\"></i></a>\n",
    "\n",
    "### Multiple Sequence Alignments"
   ]
  },
  {
   "cell_type": "code",
   "execution_count": 5,
   "metadata": {
    "collapsed": false
   },
   "outputs": [
    {
     "data": {
      "text/latex": [
       "MIToS MSAs are subtypes of \\texttt{AbstractMatrix{Residue}}, because the most basic implementation of a MIToS MSA is a \\texttt{Matrix} of \\texttt{Residue}s.\n"
      ],
      "text/markdown": [
       "MIToS MSAs are subtypes of `AbstractMatrix{Residue}`, because the most basic implementation of a MIToS MSA is a `Matrix` of `Residue`s.\n"
      ],
      "text/plain": [
       "MIToS MSAs are subtypes of `AbstractMatrix{Residue}`, because the most basic implementation of a MIToS MSA is a `Matrix` of `Residue`s.\n"
      ]
     },
     "execution_count": 5,
     "metadata": {},
     "output_type": "execute_result"
    }
   ],
   "source": [
    "?MIToS.MSA.AbstractMultipleSequenceAlignment"
   ]
  },
  {
   "cell_type": "code",
   "execution_count": 6,
   "metadata": {
    "collapsed": false
   },
   "outputs": [
    {
     "data": {
      "text/latex": [
       "This MSA type include the \\texttt{Matrix} of \\texttt{Residue}s and the sequence names. To allow fast indexing of MSAs using \\textbf{sequence identifiers}, they are saved as an \\texttt{IndexedArray}.\n"
      ],
      "text/markdown": [
       "This MSA type include the `Matrix` of `Residue`s and the sequence names. To allow fast indexing of MSAs using **sequence identifiers**, they are saved as an `IndexedArray`.\n"
      ],
      "text/plain": [
       "This MSA type include the `Matrix` of `Residue`s and the sequence names. To allow fast indexing of MSAs using **sequence identifiers**, they are saved as an `IndexedArray`.\n"
      ]
     },
     "execution_count": 6,
     "metadata": {},
     "output_type": "execute_result"
    }
   ],
   "source": [
    "?MIToS.MSA.MultipleSequenceAlignment"
   ]
  },
  {
   "cell_type": "code",
   "execution_count": 7,
   "metadata": {
    "collapsed": false
   },
   "outputs": [
    {
     "data": {
      "text/latex": [
       "...\n"
      ],
      "text/markdown": [
       "...\n"
      ],
      "text/plain": [
       "...\n"
      ]
     },
     "execution_count": 7,
     "metadata": {},
     "output_type": "execute_result"
    }
   ],
   "source": [
    "?MIToS.MSA.AnnotatedMultipleSequenceAlignment"
   ]
  },
  {
   "cell_type": "markdown",
   "metadata": {},
   "source": [
    "<a href=\"#\"><i class=\"fa fa-arrow-up\"></i></a>\n",
    "\n",
    "### Sequences"
   ]
  },
  {
   "cell_type": "code",
   "execution_count": 8,
   "metadata": {
    "collapsed": false
   },
   "outputs": [
    {
     "data": {
      "text/latex": [
       "MIToS sequences are subtypes of \\texttt{AbstractVector{Residue}}.\n"
      ],
      "text/markdown": [
       "MIToS sequences are subtypes of `AbstractVector{Residue}`.\n"
      ],
      "text/plain": [
       "MIToS sequences are subtypes of `AbstractVector{Residue}`.\n"
      ]
     },
     "execution_count": 8,
     "metadata": {},
     "output_type": "execute_result"
    }
   ],
   "source": [
    "?MIToS.MSA.AbstractAlignedSequence"
   ]
  },
  {
   "cell_type": "code",
   "execution_count": 9,
   "metadata": {
    "collapsed": false
   },
   "outputs": [
    {
     "name": "stderr",
     "output_type": "stream",
     "text": [
      "WARNING: both DataArrays and StatsBase export \"autocor\"; uses of it in module DataFrames must be qualified\n",
      "WARNING: both DataArrays and StatsBase export \"inverse_rle\"; uses of it in module DataFrames must be qualified\n",
      "WARNING: both DataArrays and StatsBase export \"rle\"; uses of it in module DataFrames must be qualified\n"
     ]
    },
    {
     "data": {
      "text/latex": [
       "No documentation found.\n",
       "\\textbf{Summary:}\n",
       "\\begin{verbatim}\n",
       "type MIToS.MSA.AlignedSequence <: MIToS.MSA.AbstractAlignedSequence\n",
       "\\end{verbatim}\n",
       "\\textbf{Fields:}\n",
       "\\begin{verbatim}\n",
       "id       :: ASCIIString\n",
       "index    :: Int64\n",
       "sequence :: Array{MIToS.MSA.Residue,1}\n",
       "\\end{verbatim}\n"
      ],
      "text/markdown": [
       "No documentation found.\n",
       "\n",
       "**Summary:**\n",
       "\n",
       "```julia\n",
       "type MIToS.MSA.AlignedSequence <: MIToS.MSA.AbstractAlignedSequence\n",
       "```\n",
       "\n",
       "**Fields:**\n",
       "\n",
       "```julia\n",
       "id       :: ASCIIString\n",
       "index    :: Int64\n",
       "sequence :: Array{MIToS.MSA.Residue,1}\n",
       "```\n"
      ],
      "text/plain": [
       "No documentation found.\n",
       "\n",
       "**Summary:**\n",
       "\n",
       "```julia\n",
       "type MIToS.MSA.AlignedSequence <: MIToS.MSA.AbstractAlignedSequence\n",
       "```\n",
       "\n",
       "**Fields:**\n",
       "\n",
       "```julia\n",
       "id       :: ASCIIString\n",
       "index    :: Int64\n",
       "sequence :: Array{MIToS.MSA.Residue,1}\n",
       "```\n"
      ]
     },
     "execution_count": 9,
     "metadata": {},
     "output_type": "execute_result"
    }
   ],
   "source": [
    "?MIToS.MSA.AlignedSequence"
   ]
  },
  {
   "cell_type": "code",
   "execution_count": 10,
   "metadata": {
    "collapsed": false
   },
   "outputs": [
    {
     "data": {
      "text/latex": [
       "No documentation found.\n",
       "\\textbf{Summary:}\n",
       "\\begin{verbatim}\n",
       "type MIToS.MSA.AnnotatedAlignedSequence <: MIToS.MSA.AbstractAlignedSequence\n",
       "\\end{verbatim}\n",
       "\\textbf{Fields:}\n",
       "\\begin{verbatim}\n",
       "id          :: ASCIIString\n",
       "index       :: Int64\n",
       "sequence    :: Array{MIToS.MSA.Residue,1}\n",
       "annotations :: MIToS.MSA.Annotations\n",
       "\\end{verbatim}\n"
      ],
      "text/markdown": [
       "No documentation found.\n",
       "\n",
       "**Summary:**\n",
       "\n",
       "```julia\n",
       "type MIToS.MSA.AnnotatedAlignedSequence <: MIToS.MSA.AbstractAlignedSequence\n",
       "```\n",
       "\n",
       "**Fields:**\n",
       "\n",
       "```julia\n",
       "id          :: ASCIIString\n",
       "index       :: Int64\n",
       "sequence    :: Array{MIToS.MSA.Residue,1}\n",
       "annotations :: MIToS.MSA.Annotations\n",
       "```\n"
      ],
      "text/plain": [
       "No documentation found.\n",
       "\n",
       "**Summary:**\n",
       "\n",
       "```julia\n",
       "type MIToS.MSA.AnnotatedAlignedSequence <: MIToS.MSA.AbstractAlignedSequence\n",
       "```\n",
       "\n",
       "**Fields:**\n",
       "\n",
       "```julia\n",
       "id          :: ASCIIString\n",
       "index       :: Int64\n",
       "sequence    :: Array{MIToS.MSA.Residue,1}\n",
       "annotations :: MIToS.MSA.Annotations\n",
       "```\n"
      ]
     },
     "execution_count": 10,
     "metadata": {},
     "output_type": "execute_result"
    }
   ],
   "source": [
    "?MIToS.MSA.AnnotatedAlignedSequence"
   ]
  },
  {
   "cell_type": "markdown",
   "metadata": {},
   "source": [
    "<a href=\"#\"><i class=\"fa fa-arrow-up\"></i></a>\n",
    "\n",
    "### MSA formats"
   ]
  },
  {
   "cell_type": "code",
   "execution_count": 11,
   "metadata": {
    "collapsed": false
   },
   "outputs": [
    {
     "data": {
      "text/latex": [
       "No documentation found.\n",
       "\\textbf{Summary:}\n",
       "\\begin{verbatim}\n",
       "immutable MIToS.MSA.Stockholm <: MIToS.Utils.Format\n",
       "\\end{verbatim}\n"
      ],
      "text/markdown": [
       "No documentation found.\n",
       "\n",
       "**Summary:**\n",
       "\n",
       "```julia\n",
       "immutable MIToS.MSA.Stockholm <: MIToS.Utils.Format\n",
       "```\n"
      ],
      "text/plain": [
       "No documentation found.\n",
       "\n",
       "**Summary:**\n",
       "\n",
       "```julia\n",
       "immutable MIToS.MSA.Stockholm <: MIToS.Utils.Format\n",
       "```\n"
      ]
     },
     "execution_count": 11,
     "metadata": {},
     "output_type": "execute_result"
    }
   ],
   "source": [
    "?MIToS.MSA.Stockholm"
   ]
  },
  {
   "cell_type": "code",
   "execution_count": 12,
   "metadata": {
    "collapsed": false
   },
   "outputs": [
    {
     "data": {
      "text/latex": [
       "No documentation found.\n",
       "\\textbf{Summary:}\n",
       "\\begin{verbatim}\n",
       "immutable MIToS.MSA.FASTA <: MIToS.Utils.Format\n",
       "\\end{verbatim}\n"
      ],
      "text/markdown": [
       "No documentation found.\n",
       "\n",
       "**Summary:**\n",
       "\n",
       "```julia\n",
       "immutable MIToS.MSA.FASTA <: MIToS.Utils.Format\n",
       "```\n"
      ],
      "text/plain": [
       "No documentation found.\n",
       "\n",
       "**Summary:**\n",
       "\n",
       "```julia\n",
       "immutable MIToS.MSA.FASTA <: MIToS.Utils.Format\n",
       "```\n"
      ]
     },
     "execution_count": 12,
     "metadata": {},
     "output_type": "execute_result"
    }
   ],
   "source": [
    "?MIToS.MSA.FASTA"
   ]
  },
  {
   "cell_type": "code",
   "execution_count": 13,
   "metadata": {
    "collapsed": false
   },
   "outputs": [
    {
     "data": {
      "text/latex": [
       "No documentation found.\n",
       "\\textbf{Summary:}\n",
       "\\begin{verbatim}\n",
       "immutable MIToS.MSA.Raw <: MIToS.Utils.Format\n",
       "\\end{verbatim}\n"
      ],
      "text/markdown": [
       "No documentation found.\n",
       "\n",
       "**Summary:**\n",
       "\n",
       "```julia\n",
       "immutable MIToS.MSA.Raw <: MIToS.Utils.Format\n",
       "```\n"
      ],
      "text/plain": [
       "No documentation found.\n",
       "\n",
       "**Summary:**\n",
       "\n",
       "```julia\n",
       "immutable MIToS.MSA.Raw <: MIToS.Utils.Format\n",
       "```\n"
      ]
     },
     "execution_count": 13,
     "metadata": {},
     "output_type": "execute_result"
    }
   ],
   "source": [
    "?MIToS.MSA.Raw"
   ]
  },
  {
   "cell_type": "markdown",
   "metadata": {},
   "source": [
    "<a href=\"#\"><i class=\"fa fa-arrow-up\"></i></a>\n",
    "\n",
    "### Clustering"
   ]
  },
  {
   "cell_type": "code",
   "execution_count": 1,
   "metadata": {
    "collapsed": false
   },
   "outputs": [
    {
     "ename": "LoadError",
     "evalue": "LoadError: UndefVarError: MIToS not defined\nwhile loading In[1], in expression starting on line 1",
     "output_type": "error",
     "traceback": [
      "LoadError: UndefVarError: MIToS not defined\nwhile loading In[1], in expression starting on line 1",
      ""
     ]
    }
   ],
   "source": [
    "Docs.typesummary( MIToS.MSA.ClusteringResult ) # imported from Clustering.jl"
   ]
  },
  {
   "cell_type": "code",
   "execution_count": 15,
   "metadata": {
    "collapsed": false
   },
   "outputs": [
    {
     "data": {
      "text/latex": [
       "No documentation found.\n",
       "\\textbf{Summary:}\n",
       "\\begin{verbatim}\n",
       "immutable MIToS.MSA.NoClustering <: Clustering.ClusteringResult\n",
       "\\end{verbatim}\n"
      ],
      "text/markdown": [
       "No documentation found.\n",
       "\n",
       "**Summary:**\n",
       "\n",
       "```julia\n",
       "immutable MIToS.MSA.NoClustering <: Clustering.ClusteringResult\n",
       "```\n"
      ],
      "text/plain": [
       "No documentation found.\n",
       "\n",
       "**Summary:**\n",
       "\n",
       "```julia\n",
       "immutable MIToS.MSA.NoClustering <: Clustering.ClusteringResult\n",
       "```\n"
      ]
     },
     "execution_count": 15,
     "metadata": {},
     "output_type": "execute_result"
    }
   ],
   "source": [
    "?MIToS.MSA.NoClustering"
   ]
  },
  {
   "cell_type": "code",
   "execution_count": 16,
   "metadata": {
    "collapsed": false
   },
   "outputs": [
    {
     "data": {
      "text/latex": [
       "Data structure to represent sequence clusters. The sequence data itself is not included.\n"
      ],
      "text/markdown": [
       "Data structure to represent sequence clusters. The sequence data itself is not included.\n"
      ],
      "text/plain": [
       "Data structure to represent sequence clusters. The sequence data itself is not included.\n"
      ]
     },
     "execution_count": 16,
     "metadata": {},
     "output_type": "execute_result"
    }
   ],
   "source": [
    "?MIToS.MSA.SequenceClusters"
   ]
  },
  {
   "cell_type": "markdown",
   "metadata": {},
   "source": [
    "<a href=\"#\"><i class=\"fa fa-arrow-up\"></i></a>\n",
    "\n",
    "## Constants"
   ]
  },
  {
   "cell_type": "code",
   "execution_count": 17,
   "metadata": {
    "collapsed": false
   },
   "outputs": [
    {
     "data": {
      "text/latex": [
       "\\texttt{GAP} is the character/number representation on \\textbf{MIToS} for gaps (also for non standard residues). Lowercase characters and dots are also encoded as \\texttt{GAP} in conversion from \\texttt{String}s and \\texttt{Char}s. This \\texttt{Residue} constant is encoded as \\texttt{Residue(21)}.\n"
      ],
      "text/markdown": [
       "`GAP` is the character/number representation on **MIToS** for gaps (also for non standard residues). Lowercase characters and dots are also encoded as `GAP` in conversion from `String`s and `Char`s. This `Residue` constant is encoded as `Residue(21)`.\n"
      ],
      "text/plain": [
       "`GAP` is the character/number representation on **MIToS** for gaps (also for non standard residues). Lowercase characters and dots are also encoded as `GAP` in conversion from `String`s and `Char`s. This `Residue` constant is encoded as `Residue(21)`.\n"
      ]
     },
     "execution_count": 17,
     "metadata": {},
     "output_type": "execute_result"
    }
   ],
   "source": [
    "?MIToS.MSA.GAP"
   ]
  },
  {
   "cell_type": "markdown",
   "metadata": {},
   "source": [
    "<a href=\"#\"><i class=\"fa fa-arrow-up\"></i></a>\n",
    "\n",
    "## Macros"
   ]
  },
  {
   "cell_type": "code",
   "execution_count": 18,
   "metadata": {
    "collapsed": false
   },
   "outputs": [
    {
     "data": {
      "text/latex": [
       "The MIToS macro \\texttt{@res_str} takes a string and returns a \\texttt{Vector} of \\texttt{Residues} (sequence).\n",
       "\\begin{verbatim}\n",
       "\n",
       "julia> res\"MIToS\"\n",
       "5-element Array{MIToS.MSA.Residue,1}:\n",
       " M\n",
       " I\n",
       " T\n",
       " -\n",
       " S\n",
       "\n",
       "\\end{verbatim}\n"
      ],
      "text/markdown": [
       "The MIToS macro `@res_str` takes a string and returns a `Vector` of `Residues` (sequence).\n",
       "\n",
       "```julia\n",
       "\n",
       "julia> res\"MIToS\"\n",
       "5-element Array{MIToS.MSA.Residue,1}:\n",
       " M\n",
       " I\n",
       " T\n",
       " -\n",
       " S\n",
       "\n",
       "```\n"
      ],
      "text/plain": [
       "The MIToS macro `@res_str` takes a string and returns a `Vector` of `Residues` (sequence).\n",
       "\n",
       "```julia\n",
       "\n",
       "julia> res\"MIToS\"\n",
       "5-element Array{MIToS.MSA.Residue,1}:\n",
       " M\n",
       " I\n",
       " T\n",
       " -\n",
       " S\n",
       "\n",
       "```\n"
      ]
     },
     "execution_count": 18,
     "metadata": {},
     "output_type": "execute_result"
    }
   ],
   "source": [
    "?MIToS.MSA.@res_str"
   ]
  },
  {
   "cell_type": "markdown",
   "metadata": {},
   "source": [
    "<a href=\"#\"><i class=\"fa fa-arrow-up\"></i></a>\n",
    "\n",
    "## Methods"
   ]
  },
  {
   "cell_type": "code",
   "execution_count": 19,
   "metadata": {
    "collapsed": false
   },
   "outputs": [
    {
     "data": {
      "text/latex": [
       "\\texttt{swap!(ia::IndexedArray, to::Int, from::Int)} interchange/swap the values on the indices \\texttt{to} and \\texttt{from} in the \\texttt{IndexedArray}\n"
      ],
      "text/markdown": [
       "`swap!(ia::IndexedArray, to::Int, from::Int)` interchange/swap the values on the indices `to` and `from` in the `IndexedArray`\n"
      ],
      "text/plain": [
       "`swap!(ia::IndexedArray, to::Int, from::Int)` interchange/swap the values on the indices `to` and `from` in the `IndexedArray`\n"
      ]
     },
     "execution_count": 19,
     "metadata": {},
     "output_type": "execute_result"
    }
   ],
   "source": [
    "?MIToS.MSA.swap!"
   ]
  },
  {
   "cell_type": "code",
   "execution_count": 20,
   "metadata": {
    "collapsed": false
   },
   "outputs": [
    {
     "data": {
      "text/latex": [
       "Returns the annotations of a MSA or a sequence.\n"
      ],
      "text/markdown": [
       "Returns the annotations of a MSA or a sequence.\n"
      ],
      "text/plain": [
       "Returns the annotations of a MSA or a sequence.\n"
      ]
     },
     "execution_count": 20,
     "metadata": {},
     "output_type": "execute_result"
    }
   ],
   "source": [
    "?MIToS.MSA.annotations"
   ]
  },
  {
   "cell_type": "code",
   "execution_count": 21,
   "metadata": {
    "collapsed": false
   },
   "outputs": [
    {
     "data": {
      "text/latex": [
       "Allows to filter sequences on a MSA using a \\texttt{AbstractVector{Bool}} mask (removes \\texttt{false}s). For \\texttt{AnnotatedMultipleSequenceAlignment}s the annotations are updated.\n",
       "\\texttt{filtersequences!(data::Annotations, ids::IndexedArray, mask::AbstractArray{Bool,1})} is useful for deleting annotations for a group of sequences. \\texttt{ids} should be an \\texttt{IndexedArray} with the \\texttt{seqname}s of the annotated sequences and \\texttt{mask} should be a logical vector.\n"
      ],
      "text/markdown": [
       "Allows to filter sequences on a MSA using a `AbstractVector{Bool}` mask (removes `false`s). For `AnnotatedMultipleSequenceAlignment`s the annotations are updated.\n",
       "\n",
       "`filtersequences!(data::Annotations, ids::IndexedArray, mask::AbstractArray{Bool,1})` is useful for deleting annotations for a group of sequences. `ids` should be an `IndexedArray` with the `seqname`s of the annotated sequences and `mask` should be a logical vector.\n"
      ],
      "text/plain": [
       "Allows to filter sequences on a MSA using a `AbstractVector{Bool}` mask (removes `false`s). For `AnnotatedMultipleSequenceAlignment`s the annotations are updated.\n",
       "\n",
       "`filtersequences!(data::Annotations, ids::IndexedArray, mask::AbstractArray{Bool,1})` is useful for deleting annotations for a group of sequences. `ids` should be an `IndexedArray` with the `seqname`s of the annotated sequences and `mask` should be a logical vector.\n"
      ]
     },
     "execution_count": 21,
     "metadata": {},
     "output_type": "execute_result"
    }
   ],
   "source": [
    "?MIToS.MSA.filtersequences!"
   ]
  },
  {
   "cell_type": "code",
   "execution_count": 22,
   "metadata": {
    "collapsed": false
   },
   "outputs": [
    {
     "data": {
      "text/latex": [
       "Allows to filter columns/positions on a MSA using a \\texttt{AbstractVector{Bool}} mask. For \\texttt{AnnotatedMultipleSequenceAlignment}s or \\texttt{AnnotatedAlignedSequence}s the annotations are updated.\n",
       "\\texttt{filtercolumns!(data::Annotations, mask)} is useful for deleting annotations for a group of columns (creating a subset in place).\n"
      ],
      "text/markdown": [
       "Allows to filter columns/positions on a MSA using a `AbstractVector{Bool}` mask. For `AnnotatedMultipleSequenceAlignment`s or `AnnotatedAlignedSequence`s the annotations are updated.\n",
       "\n",
       "`filtercolumns!(data::Annotations, mask)` is useful for deleting annotations for a group of columns (creating a subset in place).\n"
      ],
      "text/plain": [
       "Allows to filter columns/positions on a MSA using a `AbstractVector{Bool}` mask. For `AnnotatedMultipleSequenceAlignment`s or `AnnotatedAlignedSequence`s the annotations are updated.\n",
       "\n",
       "`filtercolumns!(data::Annotations, mask)` is useful for deleting annotations for a group of columns (creating a subset in place).\n"
      ]
     },
     "execution_count": 22,
     "metadata": {},
     "output_type": "execute_result"
    }
   ],
   "source": [
    "?MIToS.MSA.filtercolumns!"
   ]
  },
  {
   "cell_type": "code",
   "execution_count": 23,
   "metadata": {
    "collapsed": false
   },
   "outputs": [
    {
     "data": {
      "text/latex": [
       "Creates empty MSA \\texttt{Annotations} of length 0 using \\texttt{sizehint!}\n"
      ],
      "text/markdown": [
       "Creates empty MSA `Annotations` of length 0 using `sizehint!`\n"
      ],
      "text/plain": [
       "Creates empty MSA `Annotations` of length 0 using `sizehint!`\n"
      ]
     },
     "execution_count": 23,
     "metadata": {},
     "output_type": "execute_result"
    }
   ],
   "source": [
    "?MIToS.MSA.empty"
   ]
  },
  {
   "cell_type": "code",
   "execution_count": 24,
   "metadata": {
    "collapsed": false
   },
   "outputs": [
    {
     "data": {
      "text/latex": [
       "\\texttt{getannotfile(ann[, feature[,default]])} returns per file annotation for \\texttt{feature}\n"
      ],
      "text/markdown": [
       "`getannotfile(ann[, feature[,default]])` returns per file annotation for `feature`\n"
      ],
      "text/plain": [
       "`getannotfile(ann[, feature[,default]])` returns per file annotation for `feature`\n"
      ]
     },
     "execution_count": 24,
     "metadata": {},
     "output_type": "execute_result"
    }
   ],
   "source": [
    "?MIToS.MSA.getannotfile"
   ]
  },
  {
   "cell_type": "code",
   "execution_count": 25,
   "metadata": {
    "collapsed": false
   },
   "outputs": [
    {
     "data": {
      "text/latex": [
       "\\texttt{getannotcolumn(ann[, feature[,default]])} returns per column annotation for \\texttt{feature}\n"
      ],
      "text/markdown": [
       "`getannotcolumn(ann[, feature[,default]])` returns per column annotation for `feature`\n"
      ],
      "text/plain": [
       "`getannotcolumn(ann[, feature[,default]])` returns per column annotation for `feature`\n"
      ]
     },
     "execution_count": 25,
     "metadata": {},
     "output_type": "execute_result"
    }
   ],
   "source": [
    "?MIToS.MSA.getannotcolumn"
   ]
  },
  {
   "cell_type": "code",
   "execution_count": 26,
   "metadata": {
    "collapsed": false
   },
   "outputs": [
    {
     "data": {
      "text/latex": [
       "\\texttt{getannotsequence(ann[, seqname, feature[,default]])} returns per sequence annotation for \\texttt{(seqname, feature)}\n"
      ],
      "text/markdown": [
       "`getannotsequence(ann[, seqname, feature[,default]])` returns per sequence annotation for `(seqname, feature)`\n"
      ],
      "text/plain": [
       "`getannotsequence(ann[, seqname, feature[,default]])` returns per sequence annotation for `(seqname, feature)`\n"
      ]
     },
     "execution_count": 26,
     "metadata": {},
     "output_type": "execute_result"
    }
   ],
   "source": [
    "?MIToS.MSA.getannotsequence"
   ]
  },
  {
   "cell_type": "code",
   "execution_count": 27,
   "metadata": {
    "collapsed": false
   },
   "outputs": [
    {
     "data": {
      "text/latex": [
       "\\texttt{getannotresidue(ann[, seqname, feature[,default]])} returns per residue annotation for \\texttt{(seqname, feature)}\n"
      ],
      "text/markdown": [
       "`getannotresidue(ann[, seqname, feature[,default]])` returns per residue annotation for `(seqname, feature)`\n"
      ],
      "text/plain": [
       "`getannotresidue(ann[, seqname, feature[,default]])` returns per residue annotation for `(seqname, feature)`\n"
      ]
     },
     "execution_count": 27,
     "metadata": {},
     "output_type": "execute_result"
    }
   ],
   "source": [
    "?MIToS.MSA.getannotresidue"
   ]
  },
  {
   "cell_type": "code",
   "execution_count": 28,
   "metadata": {
    "collapsed": false
   },
   "outputs": [
    {
     "data": {
      "text/latex": [
       "\\texttt{setannotfile!(ann, feature, annotation)} stores per file \\texttt{annotation} for \\texttt{feature}\n"
      ],
      "text/markdown": [
       "`setannotfile!(ann, feature, annotation)` stores per file `annotation` for `feature`\n"
      ],
      "text/plain": [
       "`setannotfile!(ann, feature, annotation)` stores per file `annotation` for `feature`\n"
      ]
     },
     "execution_count": 28,
     "metadata": {},
     "output_type": "execute_result"
    }
   ],
   "source": [
    "?MIToS.MSA.setannotfile!"
   ]
  },
  {
   "cell_type": "code",
   "execution_count": 29,
   "metadata": {
    "collapsed": false
   },
   "outputs": [
    {
     "data": {
      "text/latex": [
       "\\texttt{setannotcolumn!(ann, feature, annotation)} stores per column \\texttt{annotation} (1 char per column) for \\texttt{feature}\n"
      ],
      "text/markdown": [
       "`setannotcolumn!(ann, feature, annotation)` stores per column `annotation` (1 char per column) for `feature`\n"
      ],
      "text/plain": [
       "`setannotcolumn!(ann, feature, annotation)` stores per column `annotation` (1 char per column) for `feature`\n"
      ]
     },
     "execution_count": 29,
     "metadata": {},
     "output_type": "execute_result"
    }
   ],
   "source": [
    "?MIToS.MSA.setannotcolumn!"
   ]
  },
  {
   "cell_type": "code",
   "execution_count": 30,
   "metadata": {
    "collapsed": false
   },
   "outputs": [
    {
     "data": {
      "text/latex": [
       "\\texttt{setannotsequence!(ann, seqname, feature, annotation)} stores per sequence \\texttt{annotation} for \\texttt{(seqname, feature)}\n"
      ],
      "text/markdown": [
       "`setannotsequence!(ann, seqname, feature, annotation)` stores per sequence `annotation` for `(seqname, feature)`\n"
      ],
      "text/plain": [
       "`setannotsequence!(ann, seqname, feature, annotation)` stores per sequence `annotation` for `(seqname, feature)`\n"
      ]
     },
     "execution_count": 30,
     "metadata": {},
     "output_type": "execute_result"
    }
   ],
   "source": [
    "?MIToS.MSA.setannotsequence!"
   ]
  },
  {
   "cell_type": "code",
   "execution_count": 31,
   "metadata": {
    "collapsed": false
   },
   "outputs": [
    {
     "data": {
      "text/latex": [
       "\\texttt{setannotresidue!(ann, seqname, feature, annotation)} stores per residue \\texttt{annotation} (1 char per residue) for \\texttt{(seqname, feature)}\n"
      ],
      "text/markdown": [
       "`setannotresidue!(ann, seqname, feature, annotation)` stores per residue `annotation` (1 char per residue) for `(seqname, feature)`\n"
      ],
      "text/plain": [
       "`setannotresidue!(ann, seqname, feature, annotation)` stores per residue `annotation` (1 char per residue) for `(seqname, feature)`\n"
      ]
     },
     "execution_count": 31,
     "metadata": {},
     "output_type": "execute_result"
    }
   ],
   "source": [
    "?MIToS.MSA.setannotresidue!"
   ]
  },
  {
   "cell_type": "code",
   "execution_count": 32,
   "metadata": {
    "collapsed": false
   },
   "outputs": [
    {
     "data": {
      "text/latex": [
       "Annotates on file annotations the modifications realized by MIToS on the MSA\n"
      ],
      "text/markdown": [
       "Annotates on file annotations the modifications realized by MIToS on the MSA\n"
      ],
      "text/plain": [
       "Annotates on file annotations the modifications realized by MIToS on the MSA\n"
      ]
     },
     "execution_count": 32,
     "metadata": {},
     "output_type": "execute_result"
    }
   ],
   "source": [
    "?MIToS.MSA.annotate_modification!"
   ]
  },
  {
   "cell_type": "code",
   "execution_count": 33,
   "metadata": {
    "collapsed": false
   },
   "outputs": [
    {
     "data": {
      "text/latex": [
       "Deletes all the MIToS annotated modifications\n"
      ],
      "text/markdown": [
       "Deletes all the MIToS annotated modifications\n"
      ],
      "text/plain": [
       "Deletes all the MIToS annotated modifications\n"
      ]
     },
     "execution_count": 33,
     "metadata": {},
     "output_type": "execute_result"
    }
   ],
   "source": [
    "?MIToS.MSA.delete_annotated_modifications!"
   ]
  },
  {
   "cell_type": "code",
   "execution_count": 34,
   "metadata": {
    "collapsed": false
   },
   "outputs": [
    {
     "data": {
      "text/latex": [
       "Prints MIToS annotated modifications\n"
      ],
      "text/markdown": [
       "Prints MIToS annotated modifications\n"
      ],
      "text/plain": [
       "Prints MIToS annotated modifications\n"
      ]
     },
     "execution_count": 34,
     "metadata": {},
     "output_type": "execute_result"
    }
   ],
   "source": [
    "?MIToS.MSA.printmodifications"
   ]
  },
  {
   "cell_type": "code",
   "execution_count": 35,
   "metadata": {
    "collapsed": false
   },
   "outputs": [
    {
     "data": {
      "text/latex": [
       "Allows you to access the residues in a \\texttt{Matrix{Residues}}/\\texttt{Vector{Residues}} without annotations.\n"
      ],
      "text/markdown": [
       "Allows you to access the residues in a `Matrix{Residues}`/`Vector{Residues}` without annotations.\n"
      ],
      "text/plain": [
       "Allows you to access the residues in a `Matrix{Residues}`/`Vector{Residues}` without annotations.\n"
      ]
     },
     "execution_count": 35,
     "metadata": {},
     "output_type": "execute_result"
    }
   ],
   "source": [
    "?MIToS.MSA.getresidues"
   ]
  },
  {
   "cell_type": "code",
   "execution_count": 36,
   "metadata": {
    "collapsed": false
   },
   "outputs": [
    {
     "data": {
      "text/latex": [
       "Returns an \\texttt{AlignedSequence} from the \\texttt{MultipleSequenceAlignment}\n",
       "Returns an \\texttt{AnnotatedAlignedSequence} with all annotations of sequence from the \\texttt{AnnotatedMultipleSequenceAlignment}\n",
       "Gives you the annotations of the Sequence\n"
      ],
      "text/markdown": [
       "Returns an `AlignedSequence` from the `MultipleSequenceAlignment`\n",
       "\n",
       "Returns an `AnnotatedAlignedSequence` with all annotations of sequence from the `AnnotatedMultipleSequenceAlignment`\n",
       "\n",
       "Gives you the annotations of the Sequence\n"
      ],
      "text/plain": [
       "Returns an `AlignedSequence` from the `MultipleSequenceAlignment`\n",
       "\n",
       "Returns an `AnnotatedAlignedSequence` with all annotations of sequence from the `AnnotatedMultipleSequenceAlignment`\n",
       "\n",
       "Gives you the annotations of the Sequence\n"
      ]
     },
     "execution_count": 36,
     "metadata": {},
     "output_type": "execute_result"
    }
   ],
   "source": [
    "?MIToS.MSA.getsequence"
   ]
  },
  {
   "cell_type": "code",
   "execution_count": 37,
   "metadata": {
    "collapsed": false
   },
   "outputs": [
    {
     "data": {
      "text/latex": [
       "Gives you a \\texttt{Vector{Vector{Residue}}} with all the sequences of the MSA without Annotations\n"
      ],
      "text/markdown": [
       "Gives you a `Vector{Vector{Residue}}` with all the sequences of the MSA without Annotations\n"
      ],
      "text/plain": [
       "Gives you a `Vector{Vector{Residue}}` with all the sequences of the MSA without Annotations\n"
      ]
     },
     "execution_count": 37,
     "metadata": {},
     "output_type": "execute_result"
    }
   ],
   "source": [
    "?MIToS.MSA.getresiduesequences"
   ]
  },
  {
   "cell_type": "code",
   "execution_count": 38,
   "metadata": {
    "collapsed": false
   },
   "outputs": [
    {
     "data": {
      "text/latex": [
       "Gives you the number of sequences on the \\texttt{MultipleSequenceAlignment}\n"
      ],
      "text/markdown": [
       "Gives you the number of sequences on the `MultipleSequenceAlignment`\n"
      ],
      "text/plain": [
       "Gives you the number of sequences on the `MultipleSequenceAlignment`\n"
      ]
     },
     "execution_count": 38,
     "metadata": {},
     "output_type": "execute_result"
    }
   ],
   "source": [
    "?MIToS.MSA.nsequences"
   ]
  },
  {
   "cell_type": "code",
   "execution_count": 39,
   "metadata": {
    "collapsed": false
   },
   "outputs": [
    {
     "data": {
      "text/latex": [
       "Gives you the number of columns/positions on the MSA or aligned sequence\n",
       "\\texttt{ncolumns(ann::Annotations)} returns the number of columns/residues with annotations. This function returns \\texttt{-1} if there is not annotations per column/residue.\n"
      ],
      "text/markdown": [
       "Gives you the number of columns/positions on the MSA or aligned sequence\n",
       "\n",
       "`ncolumns(ann::Annotations)` returns the number of columns/residues with annotations. This function returns `-1` if there is not annotations per column/residue.\n"
      ],
      "text/plain": [
       "Gives you the number of columns/positions on the MSA or aligned sequence\n",
       "\n",
       "`ncolumns(ann::Annotations)` returns the number of columns/residues with annotations. This function returns `-1` if there is not annotations per column/residue.\n"
      ]
     },
     "execution_count": 39,
     "metadata": {},
     "output_type": "execute_result"
    }
   ],
   "source": [
    "?MIToS.MSA.ncolumns"
   ]
  },
  {
   "cell_type": "code",
   "execution_count": 40,
   "metadata": {
    "collapsed": false
   },
   "outputs": [
    {
     "data": {
      "text/latex": [
       "Calculates the fraction of gaps on the \\texttt{Array} (alignment, sequence, column, etc.). This function can take an extra \\texttt{dim} argument for calculation of the gap fraction over the given dimension\n"
      ],
      "text/markdown": [
       "Calculates the fraction of gaps on the `Array` (alignment, sequence, column, etc.). This function can take an extra `dim` argument for calculation of the gap fraction over the given dimension\n"
      ],
      "text/plain": [
       "Calculates the fraction of gaps on the `Array` (alignment, sequence, column, etc.). This function can take an extra `dim` argument for calculation of the gap fraction over the given dimension\n"
      ]
     },
     "execution_count": 40,
     "metadata": {},
     "output_type": "execute_result"
    }
   ],
   "source": [
    "?MIToS.MSA.gapfraction"
   ]
  },
  {
   "cell_type": "code",
   "execution_count": 41,
   "metadata": {
    "collapsed": false
   },
   "outputs": [
    {
     "data": {
      "text/latex": [
       "Calculates the fraction of residues (no gaps) on the \\texttt{Array} (alignment, sequence, column, etc.) This function can take an extra \\texttt{dim} argument for calculation of the residue fraction over the given dimension\n"
      ],
      "text/markdown": [
       "Calculates the fraction of residues (no gaps) on the `Array` (alignment, sequence, column, etc.) This function can take an extra `dim` argument for calculation of the residue fraction over the given dimension\n"
      ],
      "text/plain": [
       "Calculates the fraction of residues (no gaps) on the `Array` (alignment, sequence, column, etc.) This function can take an extra `dim` argument for calculation of the residue fraction over the given dimension\n"
      ]
     },
     "execution_count": 41,
     "metadata": {},
     "output_type": "execute_result"
    }
   ],
   "source": [
    "?MIToS.MSA.residuefraction"
   ]
  },
  {
   "cell_type": "code",
   "execution_count": 42,
   "metadata": {
    "collapsed": false
   },
   "outputs": [
    {
     "data": {
      "text/latex": [
       "Coverage of the sequences with respect of the number of positions on the MSA\n"
      ],
      "text/markdown": [
       "Coverage of the sequences with respect of the number of positions on the MSA\n"
      ],
      "text/plain": [
       "Coverage of the sequences with respect of the number of positions on the MSA\n"
      ]
     },
     "execution_count": 42,
     "metadata": {},
     "output_type": "execute_result"
    }
   ],
   "source": [
    "?MIToS.MSA.coverage"
   ]
  },
  {
   "cell_type": "code",
   "execution_count": 43,
   "metadata": {
    "collapsed": false
   },
   "outputs": [
    {
     "data": {
      "text/latex": [
       "Fraction of gaps per column/position on the MSA\n"
      ],
      "text/markdown": [
       "Fraction of gaps per column/position on the MSA\n"
      ],
      "text/plain": [
       "Fraction of gaps per column/position on the MSA\n"
      ]
     },
     "execution_count": 43,
     "metadata": {},
     "output_type": "execute_result"
    }
   ],
   "source": [
    "?MIToS.MSA.columngapfraction"
   ]
  },
  {
   "cell_type": "code",
   "execution_count": 44,
   "metadata": {
    "collapsed": false
   },
   "outputs": [
    {
     "data": {
      "text/latex": [
       "Puts the sequence \\texttt{i} as reference (as the first sequence) of the MSA. This function swaps the sequences 1 and \\texttt{i}, also an \\texttt{id} can be used to select the sequence.\n"
      ],
      "text/markdown": [
       "Puts the sequence `i` as reference (as the first sequence) of the MSA. This function swaps the sequences 1 and `i`, also an `id` can be used to select the sequence.\n"
      ],
      "text/plain": [
       "Puts the sequence `i` as reference (as the first sequence) of the MSA. This function swaps the sequences 1 and `i`, also an `id` can be used to select the sequence.\n"
      ]
     },
     "execution_count": 44,
     "metadata": {},
     "output_type": "execute_result"
    }
   ],
   "source": [
    "?MIToS.MSA.setreference!"
   ]
  },
  {
   "cell_type": "code",
   "execution_count": 45,
   "metadata": {
    "collapsed": false
   },
   "outputs": [
    {
     "data": {
      "text/latex": [
       "This functions deletes/filters sequences and columns/positions on the MSA on the following order:\n",
       "\\begin{itemize}\n",
       "\\item Removes all the columns/position on the MSA with gaps on the reference sequence (first sequence)\n",
       "\\item Removes all the sequences with a coverage with respect to the number of columns/positions on the MSA \\textbf{less} than a \\texttt{coveragelimit} (default to \\texttt{0.75}: sequences with 25\\% of gaps)\n",
       "\\item Removes all the columns/position on the MSA with \\textbf{more} than a \\texttt{gaplimit} (default to \\texttt{0.5}: 50\\% of gaps)\n",
       "\\end{itemize}\n"
      ],
      "text/markdown": [
       "This functions deletes/filters sequences and columns/positions on the MSA on the following order:\n",
       "\n",
       "  * Removes all the columns/position on the MSA with gaps on the reference sequence (first sequence)\n",
       "  * Removes all the sequences with a coverage with respect to the number of columns/positions on the MSA **less** than a `coveragelimit` (default to `0.75`: sequences with 25% of gaps)\n",
       "  * Removes all the columns/position on the MSA with **more** than a `gaplimit` (default to `0.5`: 50% of gaps)\n"
      ],
      "text/plain": [
       "This functions deletes/filters sequences and columns/positions on the MSA on the following order:\n",
       "\n",
       "  * Removes all the columns/position on the MSA with gaps on the reference sequence (first sequence)\n",
       "  * Removes all the sequences with a coverage with respect to the number of columns/positions on the MSA **less** than a `coveragelimit` (default to `0.75`: sequences with 25% of gaps)\n",
       "  * Removes all the columns/position on the MSA with **more** than a `gaplimit` (default to `0.5`: 50% of gaps)\n"
      ]
     },
     "execution_count": 45,
     "metadata": {},
     "output_type": "execute_result"
    }
   ],
   "source": [
    "?MIToS.MSA.gapstrip!"
   ]
  },
  {
   "cell_type": "code",
   "execution_count": 46,
   "metadata": {
    "collapsed": false
   },
   "outputs": [
    {
     "data": {
      "text/latex": [
       "Removes positions/columns of the MSA with gaps in the reference (first) sequence\n"
      ],
      "text/markdown": [
       "Removes positions/columns of the MSA with gaps in the reference (first) sequence\n"
      ],
      "text/plain": [
       "Removes positions/columns of the MSA with gaps in the reference (first) sequence\n"
      ]
     },
     "execution_count": 46,
     "metadata": {},
     "output_type": "execute_result"
    }
   ],
   "source": [
    "?MIToS.MSA.adjustreference!"
   ]
  },
  {
   "cell_type": "code",
   "execution_count": 47,
   "metadata": {
    "collapsed": false
   },
   "outputs": [
    {
     "data": {
      "text/latex": [
       "Gives an ASCIIString with the sequence number \\texttt{seq} of the MSA\n"
      ],
      "text/markdown": [
       "Gives an ASCIIString with the sequence number `seq` of the MSA\n"
      ],
      "text/plain": [
       "Gives an ASCIIString with the sequence number `seq` of the MSA\n"
      ]
     },
     "execution_count": 47,
     "metadata": {},
     "output_type": "execute_result"
    }
   ],
   "source": [
    "?MIToS.MSA.asciisequence"
   ]
  },
  {
   "cell_type": "code",
   "execution_count": 48,
   "metadata": {
    "collapsed": false
   },
   "outputs": [
    {
     "data": {
      "text/latex": [
       "Creates a new \\texttt{Matrix{Residue}} with deleted sequences and columns/positions on the MSA:\n",
       "\\begin{itemize}\n",
       "\\item Removes all the columns/position on the MSA with gaps on the reference sequence (first sequence)\n",
       "\\item Removes all the sequences with a coverage with respect to the number of columns/positions on the MSA \\textbf{less} than a \\texttt{coveragelimit} (default to \\texttt{0.75}: sequences with 25\\% of gaps)\n",
       "\\item Removes all the columns/position on the MSA with \\textbf{more} than a \\texttt{gaplimit} (default to \\texttt{0.5}: 50\\% of gaps)\n",
       "\\end{itemize}\n"
      ],
      "text/markdown": [
       "Creates a new `Matrix{Residue}` with deleted sequences and columns/positions on the MSA:\n",
       "\n",
       "  * Removes all the columns/position on the MSA with gaps on the reference sequence (first sequence)\n",
       "  * Removes all the sequences with a coverage with respect to the number of columns/positions on the MSA **less** than a `coveragelimit` (default to `0.75`: sequences with 25% of gaps)\n",
       "  * Removes all the columns/position on the MSA with **more** than a `gaplimit` (default to `0.5`: 50% of gaps)\n"
      ],
      "text/plain": [
       "Creates a new `Matrix{Residue}` with deleted sequences and columns/positions on the MSA:\n",
       "\n",
       "  * Removes all the columns/position on the MSA with gaps on the reference sequence (first sequence)\n",
       "  * Removes all the sequences with a coverage with respect to the number of columns/positions on the MSA **less** than a `coveragelimit` (default to `0.75`: sequences with 25% of gaps)\n",
       "  * Removes all the columns/position on the MSA with **more** than a `gaplimit` (default to `0.5`: 50% of gaps)\n"
      ]
     },
     "execution_count": 48,
     "metadata": {},
     "output_type": "execute_result"
    }
   ],
   "source": [
    "?MIToS.MSA.gapstrip"
   ]
  },
  {
   "cell_type": "code",
   "execution_count": 49,
   "metadata": {
    "collapsed": false
   },
   "outputs": [
    {
     "data": {
      "text/latex": [
       "Creates a new Matrix\\{Residue\\}. This function deletes positions/columns of the MSA with gaps in the reference (first) sequence\n"
      ],
      "text/markdown": [
       "Creates a new Matrix{Residue}. This function deletes positions/columns of the MSA with gaps in the reference (first) sequence\n"
      ],
      "text/plain": [
       "Creates a new Matrix{Residue}. This function deletes positions/columns of the MSA with gaps in the reference (first) sequence\n"
      ]
     },
     "execution_count": 49,
     "metadata": {},
     "output_type": "execute_result"
    }
   ],
   "source": [
    "?MIToS.MSA.adjustreference"
   ]
  },
  {
   "cell_type": "code",
   "execution_count": 50,
   "metadata": {
    "collapsed": false
   },
   "outputs": [
    {
     "data": {
      "text/latex": [
       "No documentation found.\n",
       "\\texttt{MIToS.MSA.filtersequences} is a generic \\texttt{Function}.\n",
       "\\begin{verbatim}\n",
       "# 1 method for generic function \"filtersequences\":\n",
       "filtersequences(msa::Array{MIToS.MSA.Residue,2}, mask::AbstractArray{Bool,1}) at /home/diego/.julia/v0.4/MIToS/src/MSA/MultipleSequenceAlignment.jl:175\n",
       "\\end{verbatim}\n"
      ],
      "text/markdown": [
       "No documentation found.\n",
       "\n",
       "`MIToS.MSA.filtersequences` is a generic `Function`.\n",
       "\n",
       "```julia\n",
       "# 1 method for generic function \"filtersequences\":\n",
       "filtersequences(msa::Array{MIToS.MSA.Residue,2}, mask::AbstractArray{Bool,1}) at /home/diego/.julia/v0.4/MIToS/src/MSA/MultipleSequenceAlignment.jl:175\n",
       "```\n"
      ],
      "text/plain": [
       "No documentation found.\n",
       "\n",
       "`MIToS.MSA.filtersequences` is a generic `Function`.\n",
       "\n",
       "```julia\n",
       "# 1 method for generic function \"filtersequences\":\n",
       "filtersequences(msa::Array{MIToS.MSA.Residue,2}, mask::AbstractArray{Bool,1}) at /home/diego/.julia/v0.4/MIToS/src/MSA/MultipleSequenceAlignment.jl:175\n",
       "```\n"
      ]
     },
     "execution_count": 50,
     "metadata": {},
     "output_type": "execute_result"
    }
   ],
   "source": [
    "?MIToS.MSA.filtersequences"
   ]
  },
  {
   "cell_type": "code",
   "execution_count": 51,
   "metadata": {
    "collapsed": false
   },
   "outputs": [
    {
     "data": {
      "text/latex": [
       "No documentation found.\n",
       "\\texttt{MIToS.MSA.filtercolumns} is a generic \\texttt{Function}.\n",
       "\\begin{verbatim}\n",
       "# 2 methods for generic function \"filtercolumns\":\n",
       "filtercolumns(msa::Array{MIToS.MSA.Residue,2}, mask::AbstractArray{Bool,1}) at /home/diego/.julia/v0.4/MIToS/src/MSA/MultipleSequenceAlignment.jl:198\n",
       "filtercolumns(seq::Array{MIToS.MSA.Residue,1}, mask::AbstractArray{Bool,1}) at /home/diego/.julia/v0.4/MIToS/src/MSA/MultipleSequenceAlignment.jl:199\n",
       "\\end{verbatim}\n"
      ],
      "text/markdown": [
       "No documentation found.\n",
       "\n",
       "`MIToS.MSA.filtercolumns` is a generic `Function`.\n",
       "\n",
       "```julia\n",
       "# 2 methods for generic function \"filtercolumns\":\n",
       "filtercolumns(msa::Array{MIToS.MSA.Residue,2}, mask::AbstractArray{Bool,1}) at /home/diego/.julia/v0.4/MIToS/src/MSA/MultipleSequenceAlignment.jl:198\n",
       "filtercolumns(seq::Array{MIToS.MSA.Residue,1}, mask::AbstractArray{Bool,1}) at /home/diego/.julia/v0.4/MIToS/src/MSA/MultipleSequenceAlignment.jl:199\n",
       "```\n"
      ],
      "text/plain": [
       "No documentation found.\n",
       "\n",
       "`MIToS.MSA.filtercolumns` is a generic `Function`.\n",
       "\n",
       "```julia\n",
       "# 2 methods for generic function \"filtercolumns\":\n",
       "filtercolumns(msa::Array{MIToS.MSA.Residue,2}, mask::AbstractArray{Bool,1}) at /home/diego/.julia/v0.4/MIToS/src/MSA/MultipleSequenceAlignment.jl:198\n",
       "filtercolumns(seq::Array{MIToS.MSA.Residue,1}, mask::AbstractArray{Bool,1}) at /home/diego/.julia/v0.4/MIToS/src/MSA/MultipleSequenceAlignment.jl:199\n",
       "```\n"
      ]
     },
     "execution_count": 51,
     "metadata": {},
     "output_type": "execute_result"
    }
   ],
   "source": [
    "?MIToS.MSA.filtercolumns"
   ]
  },
  {
   "cell_type": "code",
   "execution_count": 52,
   "metadata": {
    "collapsed": false
   },
   "outputs": [
    {
     "data": {
      "text/latex": [
       "No documentation found.\n",
       "\\texttt{MIToS.MSA.getcolumnmapping} is a generic \\texttt{Function}.\n",
       "\\begin{verbatim}\n",
       "# 1 method for generic function \"getcolumnmapping\":\n",
       "getcolumnmapping(msa::MIToS.MSA.AnnotatedMultipleSequenceAlignment) at /home/diego/.julia/v0.4/MIToS/src/MSA/MultipleSequenceAlignment.jl:466\n",
       "\\end{verbatim}\n"
      ],
      "text/markdown": [
       "No documentation found.\n",
       "\n",
       "`MIToS.MSA.getcolumnmapping` is a generic `Function`.\n",
       "\n",
       "```julia\n",
       "# 1 method for generic function \"getcolumnmapping\":\n",
       "getcolumnmapping(msa::MIToS.MSA.AnnotatedMultipleSequenceAlignment) at /home/diego/.julia/v0.4/MIToS/src/MSA/MultipleSequenceAlignment.jl:466\n",
       "```\n"
      ],
      "text/plain": [
       "No documentation found.\n",
       "\n",
       "`MIToS.MSA.getcolumnmapping` is a generic `Function`.\n",
       "\n",
       "```julia\n",
       "# 1 method for generic function \"getcolumnmapping\":\n",
       "getcolumnmapping(msa::MIToS.MSA.AnnotatedMultipleSequenceAlignment) at /home/diego/.julia/v0.4/MIToS/src/MSA/MultipleSequenceAlignment.jl:466\n",
       "```\n"
      ]
     },
     "execution_count": 52,
     "metadata": {},
     "output_type": "execute_result"
    }
   ],
   "source": [
    "?MIToS.MSA.getcolumnmapping"
   ]
  },
  {
   "cell_type": "code",
   "execution_count": 53,
   "metadata": {
    "collapsed": false
   },
   "outputs": [
    {
     "data": {
      "text/latex": [
       "No documentation found.\n",
       "\\texttt{MIToS.MSA.getsequencemapping} is a generic \\texttt{Function}.\n",
       "\\begin{verbatim}\n",
       "# 2 methods for generic function \"getsequencemapping\":\n",
       "getsequencemapping(msa::MIToS.MSA.AnnotatedMultipleSequenceAlignment, seq_id::ASCIIString) at /home/diego/.julia/v0.4/MIToS/src/MSA/MultipleSequenceAlignment.jl:468\n",
       "getsequencemapping(msa::MIToS.MSA.AnnotatedMultipleSequenceAlignment, seq_num::Int64) at /home/diego/.julia/v0.4/MIToS/src/MSA/MultipleSequenceAlignment.jl:471\n",
       "\\end{verbatim}\n"
      ],
      "text/markdown": [
       "No documentation found.\n",
       "\n",
       "`MIToS.MSA.getsequencemapping` is a generic `Function`.\n",
       "\n",
       "```julia\n",
       "# 2 methods for generic function \"getsequencemapping\":\n",
       "getsequencemapping(msa::MIToS.MSA.AnnotatedMultipleSequenceAlignment, seq_id::ASCIIString) at /home/diego/.julia/v0.4/MIToS/src/MSA/MultipleSequenceAlignment.jl:468\n",
       "getsequencemapping(msa::MIToS.MSA.AnnotatedMultipleSequenceAlignment, seq_num::Int64) at /home/diego/.julia/v0.4/MIToS/src/MSA/MultipleSequenceAlignment.jl:471\n",
       "```\n"
      ],
      "text/plain": [
       "No documentation found.\n",
       "\n",
       "`MIToS.MSA.getsequencemapping` is a generic `Function`.\n",
       "\n",
       "```julia\n",
       "# 2 methods for generic function \"getsequencemapping\":\n",
       "getsequencemapping(msa::MIToS.MSA.AnnotatedMultipleSequenceAlignment, seq_id::ASCIIString) at /home/diego/.julia/v0.4/MIToS/src/MSA/MultipleSequenceAlignment.jl:468\n",
       "getsequencemapping(msa::MIToS.MSA.AnnotatedMultipleSequenceAlignment, seq_num::Int64) at /home/diego/.julia/v0.4/MIToS/src/MSA/MultipleSequenceAlignment.jl:471\n",
       "```\n"
      ]
     },
     "execution_count": 53,
     "metadata": {},
     "output_type": "execute_result"
    }
   ],
   "source": [
    "?MIToS.MSA.getsequencemapping"
   ]
  },
  {
   "cell_type": "code",
   "execution_count": 54,
   "metadata": {
    "collapsed": false
   },
   "outputs": [
    {
     "data": {
      "text/latex": [
       "Shuffles the residues in each column\n"
      ],
      "text/markdown": [
       "Shuffles the residues in each column\n"
      ],
      "text/plain": [
       "Shuffles the residues in each column\n"
      ]
     },
     "execution_count": 54,
     "metadata": {},
     "output_type": "execute_result"
    }
   ],
   "source": [
    "?MIToS.MSA.shuffle_columnwise!"
   ]
  },
  {
   "cell_type": "code",
   "execution_count": 55,
   "metadata": {
    "collapsed": false
   },
   "outputs": [
    {
     "data": {
      "text/latex": [
       "Shuffles the residues in each sequence\n"
      ],
      "text/markdown": [
       "Shuffles the residues in each sequence\n"
      ],
      "text/plain": [
       "Shuffles the residues in each sequence\n"
      ]
     },
     "execution_count": 55,
     "metadata": {},
     "output_type": "execute_result"
    }
   ],
   "source": [
    "?MIToS.MSA.shuffle_sequencewise!"
   ]
  },
  {
   "cell_type": "code",
   "execution_count": 56,
   "metadata": {
    "collapsed": false
   },
   "outputs": [
    {
     "data": {
      "text/latex": [
       "Shuffles the residues in each sequence, keeping fixed the gap positions\n"
      ],
      "text/markdown": [
       "Shuffles the residues in each sequence, keeping fixed the gap positions\n"
      ],
      "text/plain": [
       "Shuffles the residues in each sequence, keeping fixed the gap positions\n"
      ]
     },
     "execution_count": 56,
     "metadata": {},
     "output_type": "execute_result"
    }
   ],
   "source": [
    "?MIToS.MSA.shuffle_residues_sequencewise!"
   ]
  },
  {
   "cell_type": "code",
   "execution_count": 57,
   "metadata": {
    "collapsed": false
   },
   "outputs": [
    {
     "data": {
      "text/latex": [
       "Shuffles the residues in each column, keeping fixed the gap positions\n"
      ],
      "text/markdown": [
       "Shuffles the residues in each column, keeping fixed the gap positions\n"
      ],
      "text/plain": [
       "Shuffles the residues in each column, keeping fixed the gap positions\n"
      ]
     },
     "execution_count": 57,
     "metadata": {},
     "output_type": "execute_result"
    }
   ],
   "source": [
    "?MIToS.MSA.shuffle_residues_columnwise!"
   ]
  },
  {
   "cell_type": "code",
   "execution_count": 58,
   "metadata": {
    "collapsed": false
   },
   "outputs": [
    {
     "data": {
      "text/latex": [
       "Computes quickly if two aligned sequences have a identity value greater than a given \\texttt{threshold} value. Returns a boolean value.\n",
       "Calculates the fraction of identities between two aligned sequences.\n",
       "The identity value is calculated as the number of identical characters in the i-th position of both sequences divided by the length of both sequences. Positions with gaps in both sequences are not counted in the length of the sequence.\n",
       "Calculates the identity between all the sequences on a MSA. You can indicate the output element type with the last optional parameter (\\texttt{Float64} by default). For a MSA with a lot of sequences, you can use \\texttt{Float32} or \\texttt{Flot16} in order to avoid the \\texttt{OutOfMemoryError()}.\n"
      ],
      "text/markdown": [
       "Computes quickly if two aligned sequences have a identity value greater than a given `threshold` value. Returns a boolean value.\n",
       "\n",
       "Calculates the fraction of identities between two aligned sequences.\n",
       "\n",
       "The identity value is calculated as the number of identical characters in the i-th position of both sequences divided by the length of both sequences. Positions with gaps in both sequences are not counted in the length of the sequence.\n",
       "\n",
       "Calculates the identity between all the sequences on a MSA. You can indicate the output element type with the last optional parameter (`Float64` by default). For a MSA with a lot of sequences, you can use `Float32` or `Flot16` in order to avoid the `OutOfMemoryError()`.\n"
      ],
      "text/plain": [
       "Computes quickly if two aligned sequences have a identity value greater than a given `threshold` value. Returns a boolean value.\n",
       "\n",
       "Calculates the fraction of identities between two aligned sequences.\n",
       "\n",
       "The identity value is calculated as the number of identical characters in the i-th position of both sequences divided by the length of both sequences. Positions with gaps in both sequences are not counted in the length of the sequence.\n",
       "\n",
       "Calculates the identity between all the sequences on a MSA. You can indicate the output element type with the last optional parameter (`Float64` by default). For a MSA with a lot of sequences, you can use `Float32` or `Flot16` in order to avoid the `OutOfMemoryError()`.\n"
      ]
     },
     "execution_count": 58,
     "metadata": {},
     "output_type": "execute_result"
    }
   ],
   "source": [
    "?MIToS.MSA.percentidentity"
   ]
  },
  {
   "cell_type": "code",
   "execution_count": 59,
   "metadata": {
    "collapsed": false
   },
   "outputs": [
    {
     "data": {
      "text/latex": [
       "Returns the mean of the percent identity between the sequences of a MSA. If the MSA has 300 sequences or less, the mean is exact. If the MSA has more sequences, 44850 random pairs of sequences are used for the estimation. The number of samples can be changed using the second argument.\n"
      ],
      "text/markdown": [
       "Returns the mean of the percent identity between the sequences of a MSA. If the MSA has 300 sequences or less, the mean is exact. If the MSA has more sequences, 44850 random pairs of sequences are used for the estimation. The number of samples can be changed using the second argument.\n"
      ],
      "text/plain": [
       "Returns the mean of the percent identity between the sequences of a MSA. If the MSA has 300 sequences or less, the mean is exact. If the MSA has more sequences, 44850 random pairs of sequences are used for the estimation. The number of samples can be changed using the second argument.\n"
      ]
     },
     "execution_count": 59,
     "metadata": {},
     "output_type": "execute_result"
    }
   ],
   "source": [
    "?MIToS.MSA.meanpercentidentity"
   ]
  },
  {
   "cell_type": "code",
   "execution_count": 60,
   "metadata": {
    "collapsed": false
   },
   "outputs": [
    {
     "data": {
      "text/latex": [
       "\\texttt{getweight(c, i::Int)}\n",
       "This function returns the weight of the sequence number \\texttt{i}. getweight should be defined for any type used for \\texttt{count!}/\\texttt{count} in order to use his weigths.\n",
       "Get the weights of all clusters in the set.\n"
      ],
      "text/markdown": [
       "`getweight(c, i::Int)`\n",
       "\n",
       "This function returns the weight of the sequence number `i`. getweight should be defined for any type used for `count!`/`count` in order to use his weigths.\n",
       "\n",
       "Get the weights of all clusters in the set.\n"
      ],
      "text/plain": [
       "`getweight(c, i::Int)`\n",
       "\n",
       "This function returns the weight of the sequence number `i`. getweight should be defined for any type used for `count!`/`count` in order to use his weigths.\n",
       "\n",
       "Get the weights of all clusters in the set.\n"
      ]
     },
     "execution_count": 60,
     "metadata": {},
     "output_type": "execute_result"
    }
   ],
   "source": [
    "?MIToS.MSA.getweight"
   ]
  },
  {
   "cell_type": "code",
   "execution_count": 61,
   "metadata": {
    "collapsed": false
   },
   "outputs": [
    {
     "data": {
      "text/latex": [
       "Sequence clustering using the Hobohm I method from Hobohm et. al. 1992.\n",
       "\\emph{Hobohm, Uwe, et al. \"Selection of representative protein data sets.\" Protein Science 1.3 (1992): 409-417.}\n"
      ],
      "text/markdown": [
       "Sequence clustering using the Hobohm I method from Hobohm et. al. 1992.\n",
       "\n",
       "*Hobohm, Uwe, et al. \"Selection of representative protein data sets.\" Protein Science 1.3 (1992): 409-417.*\n"
      ],
      "text/plain": [
       "Sequence clustering using the Hobohm I method from Hobohm et. al. 1992.\n",
       "\n",
       "*Hobohm, Uwe, et al. \"Selection of representative protein data sets.\" Protein Science 1.3 (1992): 409-417.*\n"
      ]
     },
     "execution_count": 61,
     "metadata": {},
     "output_type": "execute_result"
    }
   ],
   "source": [
    "?MIToS.MSA.hobohmI"
   ]
  },
  {
   "cell_type": "markdown",
   "metadata": {},
   "source": [
    "<a href=\"#\"><i class=\"fa fa-arrow-up\"></i></a>\n",
    "\n",
    "### Imported from Base"
   ]
  },
  {
   "cell_type": "code",
   "execution_count": 62,
   "metadata": {
    "collapsed": false
   },
   "outputs": [
    {
     "data": {
      "text/latex": [
       "\\begin{verbatim}\n",
       "names(x::Module[, all=false[, imported=false]])\n",
       "\\end{verbatim}\n",
       "Get an array of the names exported by a \\texttt{Module}, with optionally more \\texttt{Module} globals according to the additional parameters.\n",
       "Returns the names of the MSA sequences.\n"
      ],
      "text/markdown": [
       "```\n",
       "names(x::Module[, all=false[, imported=false]])\n",
       "```\n",
       "\n",
       "Get an array of the names exported by a `Module`, with optionally more `Module` globals according to the additional parameters.\n",
       "\n",
       "Returns the names of the MSA sequences.\n"
      ],
      "text/plain": [
       "```\n",
       "names(x::Module[, all=false[, imported=false]])\n",
       "```\n",
       "\n",
       "Get an array of the names exported by a `Module`, with optionally more `Module` globals according to the additional parameters.\n",
       "\n",
       "Returns the names of the MSA sequences.\n"
      ]
     },
     "execution_count": 62,
     "metadata": {},
     "output_type": "execute_result"
    }
   ],
   "source": [
    "?MIToS.MSA.names"
   ]
  },
  {
   "cell_type": "markdown",
   "metadata": {},
   "source": [
    "<a href=\"#\"><i class=\"fa fa-arrow-up\"></i></a>\n",
    "\n",
    "### Imported from Clustering.jl"
   ]
  },
  {
   "cell_type": "code",
   "execution_count": 63,
   "metadata": {
    "collapsed": false
   },
   "outputs": [
    {
     "data": {
      "text/latex": [
       "Get the number of clusters in \\texttt{SequenceClusters}.\n"
      ],
      "text/markdown": [
       "Get the number of clusters in `SequenceClusters`.\n"
      ],
      "text/plain": [
       "Get the number of clusters in `SequenceClusters`.\n"
      ]
     },
     "execution_count": 63,
     "metadata": {},
     "output_type": "execute_result"
    }
   ],
   "source": [
    "?MIToS.MSA.nclusters"
   ]
  },
  {
   "cell_type": "code",
   "execution_count": 64,
   "metadata": {
    "collapsed": false
   },
   "outputs": [
    {
     "data": {
      "text/latex": [
       "Get sample counts of clusters as a \\texttt{Vector}. Each \\texttt{k} value is the number of samples assigned to the k-th cluster.\n"
      ],
      "text/markdown": [
       "Get sample counts of clusters as a `Vector`. Each `k` value is the number of samples assigned to the k-th cluster.\n"
      ],
      "text/plain": [
       "Get sample counts of clusters as a `Vector`. Each `k` value is the number of samples assigned to the k-th cluster.\n"
      ]
     },
     "execution_count": 64,
     "metadata": {},
     "output_type": "execute_result"
    }
   ],
   "source": [
    "?MIToS.MSA.counts"
   ]
  },
  {
   "cell_type": "code",
   "execution_count": 65,
   "metadata": {
    "collapsed": false
   },
   "outputs": [
    {
     "data": {
      "text/latex": [
       "Get a vector of assignments, where the \\texttt{i} value is the index/number of the cluster to which the i-th sequence is assigned.\n"
      ],
      "text/markdown": [
       "Get a vector of assignments, where the `i` value is the index/number of the cluster to which the i-th sequence is assigned.\n"
      ],
      "text/plain": [
       "Get a vector of assignments, where the `i` value is the index/number of the cluster to which the i-th sequence is assigned.\n"
      ]
     },
     "execution_count": 65,
     "metadata": {},
     "output_type": "execute_result"
    }
   ],
   "source": [
    "?MIToS.MSA.assignments"
   ]
  },
  {
   "cell_type": "markdown",
   "metadata": {},
   "source": [
    "<a href=\"#\"><i class=\"fa fa-arrow-up\"></i></a>"
   ]
  }
 ],
 "metadata": {
  "kernelspec": {
   "display_name": "Julia 0.4.1",
   "language": "julia",
   "name": "julia-0.4"
  },
  "language_info": {
   "file_extension": ".jl",
   "mimetype": "application/julia",
   "name": "julia",
   "version": "0.4.1"
  }
 },
 "nbformat": 4,
 "nbformat_minor": 0
}
