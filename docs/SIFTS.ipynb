{
 "cells": [
  {
   "cell_type": "markdown",
   "metadata": {},
   "source": [
    "# SIFTS \n",
    "\n",
    "The `SIFTS` module of MIToS allows to obtain the residue-level mapping between databases stored in the SIFTS XML files. It makes easy to assign PDB residues to UniProt/Pfam positions.  \n",
    "Given the fact that pairwise alignments can lead to misleading association between residues in both sequences, SIFTS offers  more reliable association between sequence and structure residue numbers.\n",
    "\n",
    "\n",
    "## Features\n",
    "\n",
    "- Download and parse SIFTS XML files\n",
    "- Store residue-level mapping in Julia\n",
    "- Easy generation of `Dict`s between residues numbers\n"
   ]
  },
  {
   "cell_type": "code",
   "execution_count": 1,
   "metadata": {
    "collapsed": true
   },
   "outputs": [],
   "source": [
    "# Truncate IJulia outputs at:\n",
    "ENV[\"LINES\"]   = 15 \n",
    "ENV[\"COLUMNS\"] = 60;"
   ]
  },
  {
   "cell_type": "markdown",
   "metadata": {},
   "source": [
    "## Simplest residue-level mapping  "
   ]
  },
  {
   "cell_type": "code",
   "execution_count": 2,
   "metadata": {
    "collapsed": false
   },
   "outputs": [
    {
     "name": "stderr",
     "output_type": "stream",
     "text": [
      "INFO: Recompiling stale cache file /home/diego/.julia/lib/v0.4/MIToS.ji for module MIToS.\n"
     ]
    }
   ],
   "source": [
    "using MIToS.SIFTS"
   ]
  },
  {
   "cell_type": "markdown",
   "metadata": {},
   "source": [
    "This module export the function `siftsmapping` to generate a `Dict` between residue numbers. This function takes 5 positional arguments. 1) The name of the SIFTS XML file to parse, 2) the source database 3) the source protein/structure identifier, 4) the destiny database and 5) the destiny protein/structure identifier. Optionally it’s possible to indicate a particular PDB `chain` and if `missings` will be used.  "
   ]
  },
  {
   "cell_type": "markdown",
   "metadata": {},
   "source": [
    "Databases should be indicated using an available sub-type of `DataBase`. Keys and values types will be depend on the residue number type in that database.\n",
    "\n",
    "| Type `db...`  | Database | Residue number type |\n",
    "|---------------|----------|---------------------|\n",
    "| `dbPDBe`\t\t| **PDBe** (Protein Data Bank in Europe) | `Int` | \n",
    "| `dbInterPro`\t| **InterPro** | `ASCIIString` |\n",
    "| `dbUniProt`\t| **UniProt** | `Int` |\n",
    "| `dbPfam`\t\t| **Pfam** (Protein families database) | `Int` |\n",
    "| `dbNCBI`\t\t| **NCBI** (National Center for Biotechnology Information) | `Int` |\n",
    "| `dbPDB`\t\t| **PDB** (Protein Data Bank) | `ASCIIString` |\n",
    "| `dbCATH`\t\t| **CATH** | `ASCIIString` |\n",
    "| `dbSCOP` \t\t| **SCOP** (Structural Classification of Proteins) | `ASCIIString` |"
   ]
  },
  {
   "cell_type": "markdown",
   "metadata": {},
   "source": [
    "To download the XML SIFTS file of a determined PDB use the `downloadsifts` function."
   ]
  },
  {
   "cell_type": "code",
   "execution_count": 3,
   "metadata": {
    "collapsed": false
   },
   "outputs": [
    {
     "name": "stderr",
     "output_type": "stream",
     "text": [
      "  % Total    % Received % Xferd  Average Speed   Time    Time     Time  Current\n",
      "                                 Dload  Upload   Total   Spent    Left  Speed\n",
      "100 53644  100 53644    0     0   8324      0  0:00:06  0:00:06 --:--:-- 12663\n"
     ]
    },
    {
     "data": {
      "text/plain": [
       "\"1ivo.xml.gz\""
      ]
     },
     "execution_count": 3,
     "metadata": {},
     "output_type": "execute_result"
    }
   ],
   "source": [
    "siftsfile = downloadsifts(\"1IVO\")"
   ]
  },
  {
   "cell_type": "markdown",
   "metadata": {},
   "source": [
    "The following example, shows the residue number mapping between *Pfam* and *PDB*. *Pfam* uses *UniProt* coordinates and *PDB* uses their own residue numbers with insertion codes. Note that <span class=\"text-warning\">the `siftsmapping` function is case sensitive</span>, and that <span class=\"text-warning\">SIFTS stores PDB identifiers using lowercase characters</span>.  "
   ]
  },
  {
   "cell_type": "code",
   "execution_count": 4,
   "metadata": {
    "collapsed": false
   },
   "outputs": [
    {
     "data": {
      "text/plain": [
       "Dict{Int64,ASCIIString} with 162 entries:\n",
       "  329 => \"305\"\n",
       "  210 => \"186\"\n",
       "  288 => \"264\"\n",
       "  241 => \"217\"\n",
       "  267 => \"243\"\n",
       "  306 => \"282\"\n",
       "  275 => \"251\"\n",
       "  197 => \"173\"\n",
       "  215 => \"191\"\n",
       "  181 => \"157\"\n",
       "  ⋮   => ⋮"
      ]
     },
     "execution_count": 4,
     "metadata": {},
     "output_type": "execute_result"
    }
   ],
   "source": [
    "siftsmap = siftsmapping( siftsfile, \n",
    "                    dbPfam, \"PF00757\", \n",
    "                    dbPDB, \"1ivo\", # SIFTS stores PDB identifiers in lowercase\n",
    "                    chain=\"A\", # In this example we are only using the chain A of the PDB\n",
    "                    missings=false) # Residues without coordinates aren't used in the mapping"
   ]
  },
  {
   "cell_type": "markdown",
   "metadata": {},
   "source": [
    "<a href=\"#\"><i class=\"fa fa-arrow-up\"></i></a>\n",
    "\n",
    "## Storing residue-level mapping  "
   ]
  },
  {
   "cell_type": "markdown",
   "metadata": {},
   "source": [
    "If you need more than the residue number mapping between two databases, you could access all the residue-level cross references using the function `read` in the `SIFTSXML``Format` file. The `parse` function (and therefore the `read` function) for the `SIFTSXML` format, also takes the keyword arguments `chain` and `missings`. The `read`/`parse` function returns a `Vector` of `SIFTSResidue`s objects that stores the cross references between residues in each database.  "
   ]
  },
  {
   "cell_type": "code",
   "execution_count": 17,
   "metadata": {
    "collapsed": false
   },
   "outputs": [
    {
     "data": {
      "text/plain": [
       "SIFTSResidue\n",
       "  PDBe:\n",
       "    number: 301\n",
       "    name: LYS\n",
       "  UniProt(Nullable) :\n",
       "    id: P00533\n",
       "    number: 325\n",
       "    name: K\n",
       "  Pfam(Nullable) :\n",
       "    id: PF00757\n",
       "    number: 325\n",
       "    name: K\n",
       "  NCBI(Nullable) :\n",
       "    id: 9606\n",
       "    number: 325\n",
       "    name: K\n",
       "  PDB(Nullable) :\n",
       "    id: 1ivo\n",
       "    number: 301\n",
       "    name: LYS\n",
       "    chain: A\n",
       "  SCOP(Nullable) :\n",
       "    id: 76847\n",
       "    number: 301\n",
       "    name: LYS\n",
       "    chain: A\n",
       "  CATH(Nullable) :\n",
       "    id: 2.10.220.10\n",
       "    number: 301\n",
       "    name: LYS\n",
       "    chain: A\n",
       "    InterPro: [MIToS.SIFTS.dbInterPro(\"IPR009030\",\"325\",\"K\",\"SSF57184\")]\n"
      ]
     },
     "execution_count": 17,
     "metadata": {},
     "output_type": "execute_result"
    }
   ],
   "source": [
    "siftsresidues = read(siftsfile, SIFTSXML, chain=\"A\", missings=false) # Array{SIFTSResidue,1}\n",
    "\n",
    "residue_data = siftsresidues[300]"
   ]
  },
  {
   "cell_type": "markdown",
   "metadata": {},
   "source": [
    "You are free to access the `SIFTSResidue` fields in order to get the desired information. `SIFTSResidue` objects contain `db...` objects (sub-types of `DataBase`), with the cross referenced information. You should note that, except for the `PDBe` and `InterPro` fields, the fields are `Nullable`s objects so, you need to use the `get` function to access the `db...` object. For example, getting the UniProt residue name (one letter code of the amino acid) would be:"
   ]
  },
  {
   "cell_type": "code",
   "execution_count": 18,
   "metadata": {
    "collapsed": false
   },
   "outputs": [
    {
     "data": {
      "text/plain": [
       "\"K\""
      ]
     },
     "execution_count": 18,
     "metadata": {},
     "output_type": "execute_result"
    }
   ],
   "source": [
    "get(residue_data.UniProt).name"
   ]
  },
  {
   "cell_type": "markdown",
   "metadata": {},
   "source": [
    "But you don't need the `get`function to access the three letter code of the residue in `PDBe`"
   ]
  },
  {
   "cell_type": "code",
   "execution_count": 19,
   "metadata": {
    "collapsed": false
   },
   "outputs": [
    {
     "data": {
      "text/plain": [
       "\"LYS\""
      ]
     },
     "execution_count": 19,
     "metadata": {},
     "output_type": "execute_result"
    }
   ],
   "source": [
    "residue_data.PDBe.name"
   ]
  },
  {
   "cell_type": "markdown",
   "metadata": {},
   "source": [
    "`SIFTSResidue` also store information about if that residue is `missing` in the PDB structure:"
   ]
  },
  {
   "cell_type": "code",
   "execution_count": 21,
   "metadata": {
    "collapsed": false
   },
   "outputs": [
    {
     "data": {
      "text/plain": [
       "false"
      ]
     },
     "execution_count": 21,
     "metadata": {},
     "output_type": "execute_result"
    }
   ],
   "source": [
    "residue_data.missing"
   ]
  },
  {
   "cell_type": "markdown",
   "metadata": {},
   "source": [
    "<a href=\"#\"><i class=\"fa fa-arrow-up\"></i></a>\n",
    "\n",
    "### Accessing residue-level cross references"
   ]
  },
  {
   "cell_type": "markdown",
   "metadata": {},
   "source": [
    "To easily ask for information to the `Vector{SIFTSResidue}` use the following functions and the tests: `Is`, `In` and/or `Not`."
   ]
  },
  {
   "cell_type": "markdown",
   "metadata": {},
   "source": [
    "#### `capture`"
   ]
  },
  {
   "cell_type": "markdown",
   "metadata": {},
   "source": [
    "Takes a `SIFTSResidue`, a `db...` type and a `Symbol` with the name of the field to capture from that database. Returns a `Nullable` with the field content if the test are passed over a determined database."
   ]
  },
  {
   "cell_type": "code",
   "execution_count": 32,
   "metadata": {
    "collapsed": false
   },
   "outputs": [
    {
     "data": {
      "text/plain": [
       "Nullable(\"K\")"
      ]
     },
     "execution_count": 32,
     "metadata": {},
     "output_type": "execute_result"
    }
   ],
   "source": [
    "# Captures the residue name in UniProt if the residue number in PDB is \"301\"\n",
    "capture(residue_data, dbUniProt, :name, dbPDB, Is(:number, \"301\"))"
   ]
  },
  {
   "cell_type": "markdown",
   "metadata": {},
   "source": [
    "#### `collectcaptures`"
   ]
  },
  {
   "cell_type": "markdown",
   "metadata": {},
   "source": [
    "Returns a vector of `Nullable`s with the `capture`s of the `field`s. The element is null if any test fails or the object hasn't the `field`."
   ]
  },
  {
   "cell_type": "code",
   "execution_count": 37,
   "metadata": {
    "collapsed": false
   },
   "outputs": [
    {
     "data": {
      "text/plain": [
       "511-element Array{Nullable{ASCIIString},1}:\n",
       " Nullable{ASCIIString}()\n",
       " Nullable{ASCIIString}()\n",
       " Nullable{ASCIIString}()\n",
       " Nullable{ASCIIString}()\n",
       " Nullable{ASCIIString}()\n",
       " ⋮                      \n",
       " Nullable{ASCIIString}()\n",
       " Nullable{ASCIIString}()\n",
       " Nullable{ASCIIString}()\n",
       " Nullable{ASCIIString}()\n",
       " Nullable{ASCIIString}()"
      ]
     },
     "execution_count": 37,
     "metadata": {},
     "output_type": "execute_result"
    }
   ],
   "source": [
    "# Captures PDB residue numbers if the Pfam id is \"PF00757\"\n",
    "captures = collectcaptures(siftsresidues, dbPDB, :number, dbPfam, Is(:id, \"PF00757\"))"
   ]
  },
  {
   "cell_type": "code",
   "execution_count": 38,
   "metadata": {
    "collapsed": false
   },
   "outputs": [
    {
     "data": {
      "text/plain": [
       "162-element Array{Nullable{ASCIIString},1}:\n",
       " Nullable(\"153\")\n",
       " Nullable(\"154\")\n",
       " Nullable(\"155\")\n",
       " Nullable(\"156\")\n",
       " Nullable(\"157\")\n",
       " ⋮              \n",
       " Nullable(\"310\")\n",
       " Nullable(\"311\")\n",
       " Nullable(\"312\")\n",
       " Nullable(\"313\")\n",
       " Nullable(\"314\")"
      ]
     },
     "execution_count": 38,
     "metadata": {},
     "output_type": "execute_result"
    }
   ],
   "source": [
    "captures[ [!isnull(res) for res in captures] ] # Selects not null elements"
   ]
  },
  {
   "cell_type": "markdown",
   "metadata": {},
   "source": [
    "#### `isobject` "
   ]
  },
  {
   "cell_type": "markdown",
   "metadata": {},
   "source": [
    "Returns `true` if the tests are successfully passed for that `DataBase` sub-type on that `SIFTSResidue`."
   ]
  },
  {
   "cell_type": "code",
   "execution_count": 42,
   "metadata": {
    "collapsed": false
   },
   "outputs": [
    {
     "data": {
      "text/plain": [
       "true"
      ]
     },
     "execution_count": 42,
     "metadata": {},
     "output_type": "execute_result"
    }
   ],
   "source": [
    "# Is it a basic amino acid?\n",
    "# Is the UniProt residue name in the list [\"H\", \"K\", \"R\"]\n",
    "isobject(residue_data, dbUniProt, SIFTS.In(:name, [\"H\", \"K\", \"R\"]))"
   ]
  },
  {
   "cell_type": "markdown",
   "metadata": {},
   "source": [
    "#### `findobjects`"
   ]
  },
  {
   "cell_type": "markdown",
   "metadata": {},
   "source": [
    "Returns a vector of the indexes for which `isobject` is `true` in the input vector."
   ]
  },
  {
   "cell_type": "code",
   "execution_count": 49,
   "metadata": {
    "collapsed": false
   },
   "outputs": [
    {
     "data": {
      "text/plain": [
       "69-element Array{Int64,1}:\n",
       "   3\n",
       "   4\n",
       "  12\n",
       "  22\n",
       "  28\n",
       "   ⋮\n",
       " 482\n",
       " 496\n",
       " 502\n",
       " 506\n",
       " 508"
      ]
     },
     "execution_count": 49,
     "metadata": {},
     "output_type": "execute_result"
    }
   ],
   "source": [
    "# Which of the residues are basic?\n",
    "# Which of the residues have UniProt residue names in the list [\"H\", \"K\", \"R\"]?\n",
    "indexes = findobjects(siftsresidues, dbUniProt, SIFTS.In(:name, [\"H\", \"K\", \"R\"]))"
   ]
  },
  {
   "cell_type": "code",
   "execution_count": 52,
   "metadata": {
    "collapsed": false
   },
   "outputs": [
    {
     "data": {
      "text/plain": [
       "69-element Array{Any,1}:\n",
       " MIToS.SIFTS.dbUniProt(\"P00533\",28,\"K\") \n",
       " MIToS.SIFTS.dbUniProt(\"P00533\",29,\"K\") \n",
       " MIToS.SIFTS.dbUniProt(\"P00533\",37,\"K\") \n",
       " MIToS.SIFTS.dbUniProt(\"P00533\",47,\"H\") \n",
       " MIToS.SIFTS.dbUniProt(\"P00533\",53,\"R\") \n",
       " ⋮                                      \n",
       " MIToS.SIFTS.dbUniProt(\"P00533\",507,\"H\")\n",
       " MIToS.SIFTS.dbUniProt(\"P00533\",521,\"R\")\n",
       " MIToS.SIFTS.dbUniProt(\"P00533\",527,\"R\")\n",
       " MIToS.SIFTS.dbUniProt(\"P00533\",531,\"R\")\n",
       " MIToS.SIFTS.dbUniProt(\"P00533\",533,\"R\")"
      ]
     },
     "execution_count": 52,
     "metadata": {},
     "output_type": "execute_result"
    }
   ],
   "source": [
    "[ get(siftsresidues[ idx ].UniProt) for idx in indexes ] # UniProt data of the basic residues"
   ]
  },
  {
   "cell_type": "markdown",
   "metadata": {},
   "source": [
    "#### `collectobjects`"
   ]
  },
  {
   "cell_type": "markdown",
   "metadata": {},
   "source": [
    "Returns a vector with the objects for which `isobject` is `true`."
   ]
  },
  {
   "cell_type": "code",
   "execution_count": 58,
   "metadata": {
    "collapsed": false
   },
   "outputs": [
    {
     "data": {
      "text/plain": [
       "MIToS.SIFTS.dbUniProt(\"P00533\",28,\"K\")"
      ]
     },
     "execution_count": 58,
     "metadata": {},
     "output_type": "execute_result"
    }
   ],
   "source": [
    "# Collect SIFTSResidues with UniProt names in [\"H\", \"K\", \"R\"]\n",
    "basicresidues = collectobjects(siftsresidues, dbUniProt, SIFTS.In(:name, [\"H\", \"K\", \"R\"]))\n",
    "\n",
    "get(basicresidues[1].UniProt) # UniProt data of the first basic residue"
   ]
  },
  {
   "cell_type": "markdown",
   "metadata": {},
   "source": [
    "<a href=\"#\"><i class=\"fa fa-arrow-up\"></i></a>\n",
    "\n",
    "#### Example: Which residues are missing in the PDB structure\n",
    "\n",
    "Given that `SIFTSResidue` objects store a `missing` residue flag, it’s easy to get a vector where there is a `true` value if the residue is missing in the structure."
   ]
  },
  {
   "cell_type": "code",
   "execution_count": 80,
   "metadata": {
    "collapsed": false
   },
   "outputs": [
    {
     "data": {
      "text/plain": [
       "622-element Array{Any,1}:\n",
       "  true\n",
       " false\n",
       " false\n",
       " false\n",
       " false\n",
       "     ⋮\n",
       "  true\n",
       "  true\n",
       "  true\n",
       "  true\n",
       "  true"
      ]
     },
     "execution_count": 80,
     "metadata": {},
     "output_type": "execute_result"
    }
   ],
   "source": [
    "sifts_1ivo = read(siftsfile, SIFTSXML, chain=\"A\") # Array{SIFTSResidue,1} of the 1IVO chain A\n",
    "\n",
    "[res.missing for res in sifts_1ivo]"
   ]
  },
  {
   "cell_type": "markdown",
   "metadata": {},
   "source": [
    "However, if you need to filter using other conditions, you’ll find useful the `isobject` function. In this example, we are going to ask for the *UniProt id* (to avoid problems with fragments, tags or chimeric/fusion proteins). We are also using `isobject` to select an specific PDB chain."
   ]
  },
  {
   "cell_type": "code",
   "execution_count": 95,
   "metadata": {
    "collapsed": false
   },
   "outputs": [
    {
     "name": "stderr",
     "output_type": "stream",
     "text": [
      "  % Total    % Received % Xferd  Average Speed   Time    Time     Time  Current\n",
      "                                 Dload  Upload   Total   Spent    Left  Speed\n",
      "100 20705  100 20705    0     0   4116      0  0:00:05  0:00:05 --:--:--  5413\n"
     ]
    },
    {
     "data": {
      "text/plain": [
       "\"1jqz.xml.gz\""
      ]
     },
     "execution_count": 95,
     "metadata": {},
     "output_type": "execute_result"
    }
   ],
   "source": [
    "file_1jqz = downloadsifts(\"1JQZ\")"
   ]
  },
  {
   "cell_type": "code",
   "execution_count": 96,
   "metadata": {
    "collapsed": false
   },
   "outputs": [
    {
     "name": "stdout",
     "output_type": "stream",
     "text": [
      "There are only 3 missing residues in the chain A, associated to UniProt P05230\n"
     ]
    }
   ],
   "source": [
    "sifts_1jqz = read(file_1jqz, SIFTSXML) # It has an amino terminal his tag\n",
    "\n",
    "missings = [ isobject(res, dbUniProt, Is(:id, \"P05230\")) & \n",
    "             isobject(res, dbPDB, Is(:chain, \"A\")) & \n",
    "             res.missing for res in sifts_1jqz             ]\n",
    "\n",
    "println(\"There are only \", sum(missings), \" missing residues in the chain A, associated to UniProt P05230\")"
   ]
  },
  {
   "cell_type": "code",
   "execution_count": 97,
   "metadata": {
    "collapsed": false
   },
   "outputs": [
    {
     "name": "stdout",
     "output_type": "stream",
     "text": [
      "But there are 10 missing residues in the PDB file.\n"
     ]
    }
   ],
   "source": [
    "println(\"But there are \", sum([ res.missing for res in sifts_1jqz ]), \" missing residues in the PDB file.\")"
   ]
  }
 ],
 "metadata": {
  "kernelspec": {
   "display_name": "Julia 0.4.1",
   "language": "julia",
   "name": "julia-0.4"
  },
  "language_info": {
   "file_extension": ".jl",
   "mimetype": "application/julia",
   "name": "julia",
   "version": "0.4.1"
  }
 },
 "nbformat": 4,
 "nbformat_minor": 0
}
