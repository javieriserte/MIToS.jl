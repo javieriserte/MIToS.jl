{
 "cells": [
  {
   "cell_type": "markdown",
   "metadata": {},
   "source": [
    "# PDB API\n",
    "\n",
    "- [Types](#Types)\n",
    "    - [Formats](#Formats)\n",
    "    - [Utils](#Utils)\n",
    "- [Constants](#Constants)\n",
    "- [Macros](#Macros)\n",
    "- [Methods](#Methods)\n",
    "    - [Retrieve](#Retrieve)\n",
    "    - [Interactions](#Interactions)\n",
    "    - [Selections](#Selections)\n",
    "    - [Imported from MIToS.Utils](#Imported-from-MIToS.Utils)\n",
    "    - [Imported from Base](#Imported-from-Base)"
   ]
  },
  {
   "cell_type": "code",
   "execution_count": 1,
   "metadata": {
    "collapsed": false
   },
   "outputs": [
    {
     "name": "stderr",
     "output_type": "stream",
     "text": [
      "INFO: Recompiling stale cache file /home/diego/.julia/lib/v0.4/MIToS.ji for module MIToS.\n"
     ]
    }
   ],
   "source": [
    "using MIToS.PDB"
   ]
  },
  {
   "cell_type": "code",
   "execution_count": 2,
   "metadata": {
    "collapsed": false
   },
   "outputs": [
    {
     "data": {
      "text/latex": [
       "The module \\texttt{PDB} defines types and methods to work with protein structures inside Julia. It is useful to link structural and sequential information, and needed for measure the predictive performance at protein contact prediction of mutual information scores.\n",
       "\\textbf{Features}\n",
       "\\begin{itemize}\n",
       "\\item Read and parse PDF and PDBML files\n",
       "\\item Calculate distance and contacts between atoms or residues\n",
       "\\item Determine interaction between residues\n",
       "\\end{itemize}\n",
       "\\begin{verbatim}\n",
       "\n",
       "using PDB\n",
       "\\end{verbatim}\n"
      ],
      "text/markdown": [
       "The module `PDB` defines types and methods to work with protein structures inside Julia. It is useful to link structural and sequential information, and needed for measure the predictive performance at protein contact prediction of mutual information scores.\n",
       "\n",
       "**Features**\n",
       "\n",
       "  * Read and parse PDF and PDBML files\n",
       "  * Calculate distance and contacts between atoms or residues\n",
       "  * Determine interaction between residues\n",
       "\n",
       "```julia\n",
       "\n",
       "using PDB\n",
       "```\n"
      ],
      "text/plain": [
       "The module `PDB` defines types and methods to work with protein structures inside Julia. It is useful to link structural and sequential information, and needed for measure the predictive performance at protein contact prediction of mutual information scores.\n",
       "\n",
       "**Features**\n",
       "\n",
       "  * Read and parse PDF and PDBML files\n",
       "  * Calculate distance and contacts between atoms or residues\n",
       "  * Determine interaction between residues\n",
       "\n",
       "```julia\n",
       "\n",
       "using PDB\n",
       "```\n"
      ]
     },
     "execution_count": 2,
     "metadata": {},
     "output_type": "execute_result"
    }
   ],
   "source": [
    "?MIToS.PDB"
   ]
  },
  {
   "cell_type": "markdown",
   "metadata": {},
   "source": [
    "<div class=\"panel panel-info\">\n",
    "    <div class=\"panel-heading\">\n",
    "        <strong>Julia help mode</strong>\n",
    "    </div>\n",
    "    <div class=\"panel-body\">\n",
    "        <p>If you type <code>?</code> at the beginning of the Julia REPL line, you will enter in the Julia help mode. In this mode, Julia prints the help or <strong>documentation</strong> of the entered element. This is a nice way of getting information about MIToS functions, types, etc. from Julia.</p>\n",
    "    </div>\n",
    "</div>"
   ]
  },
  {
   "cell_type": "markdown",
   "metadata": {},
   "source": [
    "<a href=\"#\"><i class=\"fa fa-arrow-up\"></i></a>\n",
    "\n",
    "## Types"
   ]
  },
  {
   "cell_type": "code",
   "execution_count": 3,
   "metadata": {
    "collapsed": false
   },
   "outputs": [
    {
     "name": "stderr",
     "output_type": "stream",
     "text": [
      "WARNING: both DataArrays and StatsBase export \"autocor\"; uses of it in module DataFrames must be qualified\n",
      "WARNING: both DataArrays and StatsBase export \"inverse_rle\"; uses of it in module DataFrames must be qualified\n",
      "WARNING: both DataArrays and StatsBase export \"rle\"; uses of it in module DataFrames must be qualified\n"
     ]
    },
    {
     "data": {
      "text/latex": [
       "No documentation found.\n",
       "\\textbf{Summary:}\n",
       "\\begin{verbatim}\n",
       "immutable MIToS.PDB.PDBResidueIdentifier <: Any\n",
       "\\end{verbatim}\n",
       "\\textbf{Fields:}\n",
       "\\begin{verbatim}\n",
       "PDBe_number :: ASCIIString\n",
       "number      :: ASCIIString\n",
       "name        :: ASCIIString\n",
       "group       :: ASCIIString\n",
       "model       :: ASCIIString\n",
       "chain       :: ASCIIString\n",
       "\\end{verbatim}\n"
      ],
      "text/markdown": [
       "No documentation found.\n",
       "\n",
       "**Summary:**\n",
       "\n",
       "```julia\n",
       "immutable MIToS.PDB.PDBResidueIdentifier <: Any\n",
       "```\n",
       "\n",
       "**Fields:**\n",
       "\n",
       "```julia\n",
       "PDBe_number :: ASCIIString\n",
       "number      :: ASCIIString\n",
       "name        :: ASCIIString\n",
       "group       :: ASCIIString\n",
       "model       :: ASCIIString\n",
       "chain       :: ASCIIString\n",
       "```\n"
      ],
      "text/plain": [
       "No documentation found.\n",
       "\n",
       "**Summary:**\n",
       "\n",
       "```julia\n",
       "immutable MIToS.PDB.PDBResidueIdentifier <: Any\n",
       "```\n",
       "\n",
       "**Fields:**\n",
       "\n",
       "```julia\n",
       "PDBe_number :: ASCIIString\n",
       "number      :: ASCIIString\n",
       "name        :: ASCIIString\n",
       "group       :: ASCIIString\n",
       "model       :: ASCIIString\n",
       "chain       :: ASCIIString\n",
       "```\n"
      ]
     },
     "execution_count": 3,
     "metadata": {},
     "output_type": "execute_result"
    }
   ],
   "source": [
    "?MIToS.PDB.PDBResidueIdentifier"
   ]
  },
  {
   "cell_type": "code",
   "execution_count": 4,
   "metadata": {
    "collapsed": false
   },
   "outputs": [
    {
     "data": {
      "text/latex": [
       "No documentation found.\n",
       "\\textbf{Summary:}\n",
       "\\begin{verbatim}\n",
       "immutable MIToS.PDB.Coordinates <: Any\n",
       "\\end{verbatim}\n",
       "\\textbf{Fields:}\n",
       "\\begin{verbatim}\n",
       "x :: Float64\n",
       "y :: Float64\n",
       "z :: Float64\n",
       "\\end{verbatim}\n"
      ],
      "text/markdown": [
       "No documentation found.\n",
       "\n",
       "**Summary:**\n",
       "\n",
       "```julia\n",
       "immutable MIToS.PDB.Coordinates <: Any\n",
       "```\n",
       "\n",
       "**Fields:**\n",
       "\n",
       "```julia\n",
       "x :: Float64\n",
       "y :: Float64\n",
       "z :: Float64\n",
       "```\n"
      ],
      "text/plain": [
       "No documentation found.\n",
       "\n",
       "**Summary:**\n",
       "\n",
       "```julia\n",
       "immutable MIToS.PDB.Coordinates <: Any\n",
       "```\n",
       "\n",
       "**Fields:**\n",
       "\n",
       "```julia\n",
       "x :: Float64\n",
       "y :: Float64\n",
       "z :: Float64\n",
       "```\n"
      ]
     },
     "execution_count": 4,
     "metadata": {},
     "output_type": "execute_result"
    }
   ],
   "source": [
    "?MIToS.PDB.Coordinates"
   ]
  },
  {
   "cell_type": "code",
   "execution_count": 5,
   "metadata": {
    "collapsed": false
   },
   "outputs": [
    {
     "data": {
      "text/latex": [
       "No documentation found.\n",
       "\\textbf{Summary:}\n",
       "\\begin{verbatim}\n",
       "immutable MIToS.PDB.PDBAtom <: Any\n",
       "\\end{verbatim}\n",
       "\\textbf{Fields:}\n",
       "\\begin{verbatim}\n",
       "coordinates :: MIToS.PDB.Coordinates\n",
       "atom        :: ASCIIString\n",
       "element     :: ASCIIString\n",
       "occupancy   :: Float64\n",
       "B           :: ASCIIString\n",
       "\\end{verbatim}\n"
      ],
      "text/markdown": [
       "No documentation found.\n",
       "\n",
       "**Summary:**\n",
       "\n",
       "```julia\n",
       "immutable MIToS.PDB.PDBAtom <: Any\n",
       "```\n",
       "\n",
       "**Fields:**\n",
       "\n",
       "```julia\n",
       "coordinates :: MIToS.PDB.Coordinates\n",
       "atom        :: ASCIIString\n",
       "element     :: ASCIIString\n",
       "occupancy   :: Float64\n",
       "B           :: ASCIIString\n",
       "```\n"
      ],
      "text/plain": [
       "No documentation found.\n",
       "\n",
       "**Summary:**\n",
       "\n",
       "```julia\n",
       "immutable MIToS.PDB.PDBAtom <: Any\n",
       "```\n",
       "\n",
       "**Fields:**\n",
       "\n",
       "```julia\n",
       "coordinates :: MIToS.PDB.Coordinates\n",
       "atom        :: ASCIIString\n",
       "element     :: ASCIIString\n",
       "occupancy   :: Float64\n",
       "B           :: ASCIIString\n",
       "```\n"
      ]
     },
     "execution_count": 5,
     "metadata": {},
     "output_type": "execute_result"
    }
   ],
   "source": [
    "?MIToS.PDB.PDBAtom"
   ]
  },
  {
   "cell_type": "code",
   "execution_count": 6,
   "metadata": {
    "collapsed": false
   },
   "outputs": [
    {
     "data": {
      "text/latex": [
       "No documentation found.\n",
       "\\textbf{Summary:}\n",
       "\\begin{verbatim}\n",
       "type MIToS.PDB.PDBResidue <: Any\n",
       "\\end{verbatim}\n",
       "\\textbf{Fields:}\n",
       "\\begin{verbatim}\n",
       "id    :: MIToS.PDB.PDBResidueIdentifier\n",
       "atoms :: Array{MIToS.PDB.PDBAtom,1}\n",
       "\\end{verbatim}\n"
      ],
      "text/markdown": [
       "No documentation found.\n",
       "\n",
       "**Summary:**\n",
       "\n",
       "```julia\n",
       "type MIToS.PDB.PDBResidue <: Any\n",
       "```\n",
       "\n",
       "**Fields:**\n",
       "\n",
       "```julia\n",
       "id    :: MIToS.PDB.PDBResidueIdentifier\n",
       "atoms :: Array{MIToS.PDB.PDBAtom,1}\n",
       "```\n"
      ],
      "text/plain": [
       "No documentation found.\n",
       "\n",
       "**Summary:**\n",
       "\n",
       "```julia\n",
       "type MIToS.PDB.PDBResidue <: Any\n",
       "```\n",
       "\n",
       "**Fields:**\n",
       "\n",
       "```julia\n",
       "id    :: MIToS.PDB.PDBResidueIdentifier\n",
       "atoms :: Array{MIToS.PDB.PDBAtom,1}\n",
       "```\n"
      ]
     },
     "execution_count": 6,
     "metadata": {},
     "output_type": "execute_result"
    }
   ],
   "source": [
    "?MIToS.PDB.PDBResidue"
   ]
  },
  {
   "cell_type": "markdown",
   "metadata": {},
   "source": [
    "<a href=\"#\"><i class=\"fa fa-arrow-up\"></i></a>\n",
    "\n",
    "### Formats"
   ]
  },
  {
   "cell_type": "code",
   "execution_count": 7,
   "metadata": {
    "collapsed": false
   },
   "outputs": [
    {
     "data": {
      "text/latex": [
       "No documentation found.\n",
       "\\textbf{Summary:}\n",
       "\\begin{verbatim}\n",
       "immutable MIToS.PDB.PDBFile <: MIToS.Utils.Format\n",
       "\\end{verbatim}\n"
      ],
      "text/markdown": [
       "No documentation found.\n",
       "\n",
       "**Summary:**\n",
       "\n",
       "```julia\n",
       "immutable MIToS.PDB.PDBFile <: MIToS.Utils.Format\n",
       "```\n"
      ],
      "text/plain": [
       "No documentation found.\n",
       "\n",
       "**Summary:**\n",
       "\n",
       "```julia\n",
       "immutable MIToS.PDB.PDBFile <: MIToS.Utils.Format\n",
       "```\n"
      ]
     },
     "execution_count": 7,
     "metadata": {},
     "output_type": "execute_result"
    }
   ],
   "source": [
    "?MIToS.PDB.PDBFile"
   ]
  },
  {
   "cell_type": "code",
   "execution_count": 8,
   "metadata": {
    "collapsed": false
   },
   "outputs": [
    {
     "data": {
      "text/latex": [
       "No documentation found.\n",
       "\\textbf{Summary:}\n",
       "\\begin{verbatim}\n",
       "immutable MIToS.PDB.PDBML <: MIToS.Utils.Format\n",
       "\\end{verbatim}\n"
      ],
      "text/markdown": [
       "No documentation found.\n",
       "\n",
       "**Summary:**\n",
       "\n",
       "```julia\n",
       "immutable MIToS.PDB.PDBML <: MIToS.Utils.Format\n",
       "```\n"
      ],
      "text/plain": [
       "No documentation found.\n",
       "\n",
       "**Summary:**\n",
       "\n",
       "```julia\n",
       "immutable MIToS.PDB.PDBML <: MIToS.Utils.Format\n",
       "```\n"
      ]
     },
     "execution_count": 8,
     "metadata": {},
     "output_type": "execute_result"
    }
   ],
   "source": [
    "?MIToS.PDB.PDBML"
   ]
  },
  {
   "cell_type": "markdown",
   "metadata": {},
   "source": [
    "<a href=\"#\"><i class=\"fa fa-arrow-up\"></i></a>\n",
    "\n",
    "### Utils"
   ]
  },
  {
   "cell_type": "code",
   "execution_count": 9,
   "metadata": {
    "collapsed": false
   },
   "outputs": [
    {
     "data": {
      "text/latex": [
       "No documentation found.\n",
       "\\textbf{Summary:}\n",
       "\\begin{verbatim}\n",
       "immutable MIToS.Utils.Is{T} <: MIToS.Utils.TestType\n",
       "\\end{verbatim}\n",
       "\\textbf{Fields:}\n",
       "\\begin{verbatim}\n",
       "field :: Symbol\n",
       "value :: T\n",
       "\\end{verbatim}\n"
      ],
      "text/markdown": [
       "No documentation found.\n",
       "\n",
       "**Summary:**\n",
       "\n",
       "```julia\n",
       "immutable MIToS.Utils.Is{T} <: MIToS.Utils.TestType\n",
       "```\n",
       "\n",
       "**Fields:**\n",
       "\n",
       "```julia\n",
       "field :: Symbol\n",
       "value :: T\n",
       "```\n"
      ],
      "text/plain": [
       "No documentation found.\n",
       "\n",
       "**Summary:**\n",
       "\n",
       "```julia\n",
       "immutable MIToS.Utils.Is{T} <: MIToS.Utils.TestType\n",
       "```\n",
       "\n",
       "**Fields:**\n",
       "\n",
       "```julia\n",
       "field :: Symbol\n",
       "value :: T\n",
       "```\n"
      ]
     },
     "execution_count": 9,
     "metadata": {},
     "output_type": "execute_result"
    }
   ],
   "source": [
    "?MIToS.PDB.Is"
   ]
  },
  {
   "cell_type": "code",
   "execution_count": 10,
   "metadata": {
    "collapsed": false
   },
   "outputs": [
    {
     "data": {
      "text/latex": [
       "No documentation found.\n",
       "\\textbf{Summary:}\n",
       "\\begin{verbatim}\n",
       "immutable MIToS.Utils.Not{T<:MIToS.Utils.TestType} <: MIToS.Utils.TestOperation\n",
       "\\end{verbatim}\n",
       "\\textbf{Fields:}\n",
       "\\begin{verbatim}\n",
       "test :: T<:MIToS.Utils.TestType\n",
       "\\end{verbatim}\n"
      ],
      "text/markdown": [
       "No documentation found.\n",
       "\n",
       "**Summary:**\n",
       "\n",
       "```julia\n",
       "immutable MIToS.Utils.Not{T<:MIToS.Utils.TestType} <: MIToS.Utils.TestOperation\n",
       "```\n",
       "\n",
       "**Fields:**\n",
       "\n",
       "```julia\n",
       "test :: T<:MIToS.Utils.TestType\n",
       "```\n"
      ],
      "text/plain": [
       "No documentation found.\n",
       "\n",
       "**Summary:**\n",
       "\n",
       "```julia\n",
       "immutable MIToS.Utils.Not{T<:MIToS.Utils.TestType} <: MIToS.Utils.TestOperation\n",
       "```\n",
       "\n",
       "**Fields:**\n",
       "\n",
       "```julia\n",
       "test :: T<:MIToS.Utils.TestType\n",
       "```\n"
      ]
     },
     "execution_count": 10,
     "metadata": {},
     "output_type": "execute_result"
    }
   ],
   "source": [
    "?MIToS.PDB.Not"
   ]
  },
  {
   "cell_type": "code",
   "execution_count": 11,
   "metadata": {
    "collapsed": false
   },
   "outputs": [
    {
     "data": {
      "text/latex": [
       "No documentation found.\n",
       "\\textbf{Summary:}\n",
       "\\begin{verbatim}\n",
       "immutable MIToS.Utils.In{T} <: MIToS.Utils.TestType\n",
       "\\end{verbatim}\n",
       "\\textbf{Fields:}\n",
       "\\begin{verbatim}\n",
       "field :: Symbol\n",
       "value :: T\n",
       "\\end{verbatim}\n"
      ],
      "text/markdown": [
       "No documentation found.\n",
       "\n",
       "**Summary:**\n",
       "\n",
       "```julia\n",
       "immutable MIToS.Utils.In{T} <: MIToS.Utils.TestType\n",
       "```\n",
       "\n",
       "**Fields:**\n",
       "\n",
       "```julia\n",
       "field :: Symbol\n",
       "value :: T\n",
       "```\n"
      ],
      "text/plain": [
       "No documentation found.\n",
       "\n",
       "**Summary:**\n",
       "\n",
       "```julia\n",
       "immutable MIToS.Utils.In{T} <: MIToS.Utils.TestType\n",
       "```\n",
       "\n",
       "**Fields:**\n",
       "\n",
       "```julia\n",
       "field :: Symbol\n",
       "value :: T\n",
       "```\n"
      ]
     },
     "execution_count": 11,
     "metadata": {},
     "output_type": "execute_result"
    }
   ],
   "source": [
    "?MIToS.PDB.In"
   ]
  },
  {
   "cell_type": "markdown",
   "metadata": {},
   "source": [
    "<a href=\"#\"><i class=\"fa fa-arrow-up\"></i></a>\n",
    "\n",
    "## Constants"
   ]
  },
  {
   "cell_type": "code",
   "execution_count": 12,
   "metadata": {
    "collapsed": false
   },
   "outputs": [
    {
     "data": {
      "text/latex": [
       "Covalent radius in Å of each element from the Additional file 1 of PICCOLO [1]. Hydrogen was updated using the value on Table 2 from Cordero et. al. [2].\n",
       "\\begin{enumerate}\n",
       "\\item Bickerton, G. R., Higueruelo, A. P., \\& Blundell, T. L. (2011). Comprehensive, atomic-level characterization of structurally characterized protein-protein interactions: the PICCOLO database. BMC bioinformatics, 12(1), 313.\n",
       "\\item Cordero, B., Gómez, V., Platero-Prats, A. E., Revés, M., Echeverría, J., Cremades, E., ... \\& Alvarez, S. (2008). Covalent radii revisited. Dalton Transactions, (21), 2832-2838.\n",
       "\\end{enumerate}\n"
      ],
      "text/markdown": [
       "Covalent radius in Å of each element from the Additional file 1 of PICCOLO [1]. Hydrogen was updated using the value on Table 2 from Cordero et. al. [2].\n",
       "\n",
       "1. Bickerton, G. R., Higueruelo, A. P., & Blundell, T. L. (2011). Comprehensive, atomic-level characterization of structurally characterized protein-protein interactions: the PICCOLO database. BMC bioinformatics, 12(1), 313.\n",
       "2. Cordero, B., Gómez, V., Platero-Prats, A. E., Revés, M., Echeverría, J., Cremades, E., ... & Alvarez, S. (2008). Covalent radii revisited. Dalton Transactions, (21), 2832-2838.\n"
      ],
      "text/plain": [
       "Covalent radius in Å of each element from the Additional file 1 of PICCOLO [1]. Hydrogen was updated using the value on Table 2 from Cordero et. al. [2].\n",
       "\n",
       "1. Bickerton, G. R., Higueruelo, A. P., & Blundell, T. L. (2011). Comprehensive, atomic-level characterization of structurally characterized protein-protein interactions: the PICCOLO database. BMC bioinformatics, 12(1), 313.\n",
       "2. Cordero, B., Gómez, V., Platero-Prats, A. E., Revés, M., Echeverría, J., Cremades, E., ... & Alvarez, S. (2008). Covalent radii revisited. Dalton Transactions, (21), 2832-2838.\n"
      ]
     },
     "execution_count": 12,
     "metadata": {},
     "output_type": "execute_result"
    }
   ],
   "source": [
    "?MIToS.PDB.covalentradius"
   ]
  },
  {
   "cell_type": "code",
   "execution_count": 13,
   "metadata": {
    "collapsed": false
   },
   "outputs": [
    {
     "data": {
      "text/latex": [
       "van der Waals radius in Å from the Additional file 1 of Bickerton et. al. 2011\n",
       "\\begin{itemize}\n",
       "\\item Bickerton, G. R., Higueruelo, A. P., \\& Blundell, T. L. (2011). Comprehensive, atomic-level characterization of structurally characterized protein-protein interactions: the PICCOLO database. BMC bioinformatics, 12(1), 313.\n",
       "\\end{itemize}\n"
      ],
      "text/markdown": [
       "van der Waals radius in Å from the Additional file 1 of Bickerton et. al. 2011\n",
       "\n",
       "  * Bickerton, G. R., Higueruelo, A. P., & Blundell, T. L. (2011). Comprehensive, atomic-level characterization of structurally characterized protein-protein interactions: the PICCOLO database. BMC bioinformatics, 12(1), 313.\n"
      ],
      "text/plain": [
       "van der Waals radius in Å from the Additional file 1 of Bickerton et. al. 2011\n",
       "\n",
       "  * Bickerton, G. R., Higueruelo, A. P., & Blundell, T. L. (2011). Comprehensive, atomic-level characterization of structurally characterized protein-protein interactions: the PICCOLO database. BMC bioinformatics, 12(1), 313.\n"
      ]
     },
     "execution_count": 13,
     "metadata": {},
     "output_type": "execute_result"
    }
   ],
   "source": [
    "?MIToS.PDB.vanderwaalsradius"
   ]
  },
  {
   "cell_type": "markdown",
   "metadata": {},
   "source": [
    "<a href=\"#\"><i class=\"fa fa-arrow-up\"></i></a>\n",
    "\n",
    "## Macros"
   ]
  },
  {
   "cell_type": "code",
   "execution_count": 14,
   "metadata": {
    "collapsed": false
   },
   "outputs": [
    {
     "data": {
      "text/latex": [
       "No documentation found.\n",
       "\\begin{verbatim}\n",
       "@residues(residue_list,model::Symbol,m,chain::Symbol,c,group::Symbol,g,residue::Symbol,r)\n",
       "\\end{verbatim}\n"
      ],
      "text/markdown": [
       "No documentation found.\n",
       "\n",
       "```julia\n",
       "@residues(residue_list,model::Symbol,m,chain::Symbol,c,group::Symbol,g,residue::Symbol,r)\n",
       "```\n"
      ],
      "text/plain": [
       "No documentation found.\n",
       "\n",
       "```julia\n",
       "@residues(residue_list,model::Symbol,m,chain::Symbol,c,group::Symbol,g,residue::Symbol,r)\n",
       "```\n"
      ]
     },
     "execution_count": 14,
     "metadata": {},
     "output_type": "execute_result"
    }
   ],
   "source": [
    "?MIToS.PDB.@residues"
   ]
  },
  {
   "cell_type": "code",
   "execution_count": 15,
   "metadata": {
    "collapsed": false
   },
   "outputs": [
    {
     "data": {
      "text/latex": [
       "No documentation found.\n",
       "\\begin{verbatim}\n",
       "@atoms(residue_list,model::Symbol,m,chain::Symbol,c,group::Symbol,g,residue::Symbol,r,atom::Symbol,a)\n",
       "\\end{verbatim}\n"
      ],
      "text/markdown": [
       "No documentation found.\n",
       "\n",
       "```julia\n",
       "@atoms(residue_list,model::Symbol,m,chain::Symbol,c,group::Symbol,g,residue::Symbol,r,atom::Symbol,a)\n",
       "```\n"
      ],
      "text/plain": [
       "No documentation found.\n",
       "\n",
       "```julia\n",
       "@atoms(residue_list,model::Symbol,m,chain::Symbol,c,group::Symbol,g,residue::Symbol,r,atom::Symbol,a)\n",
       "```\n"
      ]
     },
     "execution_count": 15,
     "metadata": {},
     "output_type": "execute_result"
    }
   ],
   "source": [
    "?MIToS.PDB.@atoms"
   ]
  },
  {
   "cell_type": "code",
   "execution_count": 16,
   "metadata": {
    "collapsed": false
   },
   "outputs": [
    {
     "data": {
      "text/latex": [
       "No documentation found.\n",
       "\\begin{verbatim}\n",
       "@residuesdict(residue_list,model::Symbol,m,chain::Symbol,c,group::Symbol,g,residue::Symbol,r)\n",
       "\\end{verbatim}\n"
      ],
      "text/markdown": [
       "No documentation found.\n",
       "\n",
       "```julia\n",
       "@residuesdict(residue_list,model::Symbol,m,chain::Symbol,c,group::Symbol,g,residue::Symbol,r)\n",
       "```\n"
      ],
      "text/plain": [
       "No documentation found.\n",
       "\n",
       "```julia\n",
       "@residuesdict(residue_list,model::Symbol,m,chain::Symbol,c,group::Symbol,g,residue::Symbol,r)\n",
       "```\n"
      ]
     },
     "execution_count": 16,
     "metadata": {},
     "output_type": "execute_result"
    }
   ],
   "source": [
    "?MIToS.PDB.@residuesdict"
   ]
  },
  {
   "cell_type": "markdown",
   "metadata": {},
   "source": [
    "<a href=\"#\"><i class=\"fa fa-arrow-up\"></i></a>\n",
    "\n",
    "## Methods"
   ]
  },
  {
   "cell_type": "markdown",
   "metadata": {},
   "source": [
    "<a href=\"#\"><i class=\"fa fa-arrow-up\"></i></a>\n",
    "\n",
    "### Retrieve"
   ]
  },
  {
   "cell_type": "code",
   "execution_count": 17,
   "metadata": {
    "collapsed": false
   },
   "outputs": [
    {
     "data": {
      "text/latex": [
       "Download a gzipped PDB file from PDB database. Requires a four character \\texttt{pdbcode}. By default the \\texttt{format} is xml and uses the \\texttt{baseurl} http://www.rcsb.org/pdb/files/. \\texttt{outfile} is the path/name of the output file.\n"
      ],
      "text/markdown": [
       "Download a gzipped PDB file from PDB database. Requires a four character `pdbcode`. By default the `format` is xml and uses the `baseurl` http://www.rcsb.org/pdb/files/. `outfile` is the path/name of the output file.\n"
      ],
      "text/plain": [
       "Download a gzipped PDB file from PDB database. Requires a four character `pdbcode`. By default the `format` is xml and uses the `baseurl` http://www.rcsb.org/pdb/files/. `outfile` is the path/name of the output file.\n"
      ]
     },
     "execution_count": 17,
     "metadata": {},
     "output_type": "execute_result"
    }
   ],
   "source": [
    "?MIToS.PDB.downloadpdb"
   ]
  },
  {
   "cell_type": "code",
   "execution_count": 18,
   "metadata": {
    "collapsed": false
   },
   "outputs": [
    {
     "data": {
      "text/latex": [
       "Access general information about a PDB entry (e.g., Header information) using the RESTful interface of the PDB database (describePDB). Returns a Dict for the four character \\texttt{pdbcode}.\n"
      ],
      "text/markdown": [
       "Access general information about a PDB entry (e.g., Header information) using the RESTful interface of the PDB database (describePDB). Returns a Dict for the four character `pdbcode`.\n"
      ],
      "text/plain": [
       "Access general information about a PDB entry (e.g., Header information) using the RESTful interface of the PDB database (describePDB). Returns a Dict for the four character `pdbcode`.\n"
      ]
     },
     "execution_count": 18,
     "metadata": {},
     "output_type": "execute_result"
    }
   ],
   "source": [
    "?MIToS.PDB.getpdbdescription"
   ]
  },
  {
   "cell_type": "markdown",
   "metadata": {},
   "source": [
    "<a href=\"#\"><i class=\"fa fa-arrow-up\"></i></a>\n",
    "\n",
    "### Interactions"
   ]
  },
  {
   "cell_type": "code",
   "execution_count": 19,
   "metadata": {
    "collapsed": false
   },
   "outputs": [
    {
     "data": {
      "text/latex": [
       "Heavy, All, CA, CB (CA for GLY)\n"
      ],
      "text/markdown": [
       "Heavy, All, CA, CB (CA for GLY)\n"
      ],
      "text/plain": [
       "Heavy, All, CA, CB (CA for GLY)\n"
      ]
     },
     "execution_count": 19,
     "metadata": {},
     "output_type": "execute_result"
    }
   ],
   "source": [
    "?MIToS.PDB.distance"
   ]
  },
  {
   "cell_type": "code",
   "execution_count": 20,
   "metadata": {
    "collapsed": false
   },
   "outputs": [
    {
     "data": {
      "text/latex": [
       "Heavy, All, CA, CB (CA for GLY)\n"
      ],
      "text/markdown": [
       "Heavy, All, CA, CB (CA for GLY)\n"
      ],
      "text/plain": [
       "Heavy, All, CA, CB (CA for GLY)\n"
      ]
     },
     "execution_count": 20,
     "metadata": {},
     "output_type": "execute_result"
    }
   ],
   "source": [
    "?MIToS.PDB.contact"
   ]
  },
  {
   "cell_type": "code",
   "execution_count": 21,
   "metadata": {
    "collapsed": false
   },
   "outputs": [
    {
     "data": {
      "text/latex": [
       "\\begin{verbatim}\n",
       "angle(z)\n",
       "\\end{verbatim}\n",
       "Compute the phase angle in radians of a complex number \\texttt{z}\n",
       "Angle (in degrees) at b between a-b and b-c\n"
      ],
      "text/markdown": [
       "```\n",
       "angle(z)\n",
       "```\n",
       "\n",
       "Compute the phase angle in radians of a complex number `z`\n",
       "\n",
       "Angle (in degrees) at b between a-b and b-c\n"
      ],
      "text/plain": [
       "```\n",
       "angle(z)\n",
       "```\n",
       "\n",
       "Compute the phase angle in radians of a complex number `z`\n",
       "\n",
       "Angle (in degrees) at b between a-b and b-c\n"
      ]
     },
     "execution_count": 21,
     "metadata": {},
     "output_type": "execute_result"
    }
   ],
   "source": [
    "?MIToS.PDB.angle"
   ]
  },
  {
   "cell_type": "code",
   "execution_count": 22,
   "metadata": {
    "collapsed": false
   },
   "outputs": [
    {
     "data": {
      "text/latex": [
       "No documentation found.\n",
       "\\texttt{MIToS.PDB.check_atoms_for_interactions} is a generic \\texttt{Function}.\n",
       "\\begin{verbatim}\n",
       "# 1 method for generic function \"check_atoms_for_interactions\":\n",
       "check_atoms_for_interactions(res::MIToS.PDB.PDBResidue) at /home/diego/.julia/v0.4/MIToS/src/PDB/AtomsData.jl:430\n",
       "\\end{verbatim}\n"
      ],
      "text/markdown": [
       "No documentation found.\n",
       "\n",
       "`MIToS.PDB.check_atoms_for_interactions` is a generic `Function`.\n",
       "\n",
       "```julia\n",
       "# 1 method for generic function \"check_atoms_for_interactions\":\n",
       "check_atoms_for_interactions(res::MIToS.PDB.PDBResidue) at /home/diego/.julia/v0.4/MIToS/src/PDB/AtomsData.jl:430\n",
       "```\n"
      ],
      "text/plain": [
       "No documentation found.\n",
       "\n",
       "`MIToS.PDB.check_atoms_for_interactions` is a generic `Function`.\n",
       "\n",
       "```julia\n",
       "# 1 method for generic function \"check_atoms_for_interactions\":\n",
       "check_atoms_for_interactions(res::MIToS.PDB.PDBResidue) at /home/diego/.julia/v0.4/MIToS/src/PDB/AtomsData.jl:430\n",
       "```\n"
      ]
     },
     "execution_count": 22,
     "metadata": {},
     "output_type": "execute_result"
    }
   ],
   "source": [
    "?MIToS.PDB.check_atoms_for_interactions"
   ]
  },
  {
   "cell_type": "code",
   "execution_count": 23,
   "metadata": {
    "collapsed": false
   },
   "outputs": [
    {
     "data": {
      "text/latex": [
       "No documentation found.\n",
       "\\texttt{MIToS.PDB.ishydrophobic} is a generic \\texttt{Function}.\n",
       "\\begin{verbatim}\n",
       "# 1 method for generic function \"ishydrophobic\":\n",
       "ishydrophobic(a::MIToS.PDB.PDBAtom, resname_a::ASCIIString) at /home/diego/.julia/v0.4/MIToS/src/PDB/Interaction.jl:5\n",
       "\\end{verbatim}\n"
      ],
      "text/markdown": [
       "No documentation found.\n",
       "\n",
       "`MIToS.PDB.ishydrophobic` is a generic `Function`.\n",
       "\n",
       "```julia\n",
       "# 1 method for generic function \"ishydrophobic\":\n",
       "ishydrophobic(a::MIToS.PDB.PDBAtom, resname_a::ASCIIString) at /home/diego/.julia/v0.4/MIToS/src/PDB/Interaction.jl:5\n",
       "```\n"
      ],
      "text/plain": [
       "No documentation found.\n",
       "\n",
       "`MIToS.PDB.ishydrophobic` is a generic `Function`.\n",
       "\n",
       "```julia\n",
       "# 1 method for generic function \"ishydrophobic\":\n",
       "ishydrophobic(a::MIToS.PDB.PDBAtom, resname_a::ASCIIString) at /home/diego/.julia/v0.4/MIToS/src/PDB/Interaction.jl:5\n",
       "```\n"
      ]
     },
     "execution_count": 23,
     "metadata": {},
     "output_type": "execute_result"
    }
   ],
   "source": [
    "?MIToS.PDB.ishydrophobic"
   ]
  },
  {
   "cell_type": "code",
   "execution_count": 24,
   "metadata": {
    "collapsed": false
   },
   "outputs": [
    {
     "data": {
      "text/latex": [
       "No documentation found.\n",
       "\\texttt{MIToS.PDB.isaromatic} is a generic \\texttt{Function}.\n",
       "\\begin{verbatim}\n",
       "# 1 method for generic function \"isaromatic\":\n",
       "isaromatic(a::MIToS.PDB.PDBAtom, resname_a::ASCIIString) at /home/diego/.julia/v0.4/MIToS/src/PDB/Interaction.jl:7\n",
       "\\end{verbatim}\n"
      ],
      "text/markdown": [
       "No documentation found.\n",
       "\n",
       "`MIToS.PDB.isaromatic` is a generic `Function`.\n",
       "\n",
       "```julia\n",
       "# 1 method for generic function \"isaromatic\":\n",
       "isaromatic(a::MIToS.PDB.PDBAtom, resname_a::ASCIIString) at /home/diego/.julia/v0.4/MIToS/src/PDB/Interaction.jl:7\n",
       "```\n"
      ],
      "text/plain": [
       "No documentation found.\n",
       "\n",
       "`MIToS.PDB.isaromatic` is a generic `Function`.\n",
       "\n",
       "```julia\n",
       "# 1 method for generic function \"isaromatic\":\n",
       "isaromatic(a::MIToS.PDB.PDBAtom, resname_a::ASCIIString) at /home/diego/.julia/v0.4/MIToS/src/PDB/Interaction.jl:7\n",
       "```\n"
      ]
     },
     "execution_count": 24,
     "metadata": {},
     "output_type": "execute_result"
    }
   ],
   "source": [
    "?MIToS.PDB.isaromatic"
   ]
  },
  {
   "cell_type": "code",
   "execution_count": 25,
   "metadata": {
    "collapsed": false
   },
   "outputs": [
    {
     "data": {
      "text/latex": [
       "No documentation found.\n",
       "\\texttt{MIToS.PDB.iscationic} is a generic \\texttt{Function}.\n",
       "\\begin{verbatim}\n",
       "# 1 method for generic function \"iscationic\":\n",
       "iscationic(a::MIToS.PDB.PDBAtom, resname_a::ASCIIString) at /home/diego/.julia/v0.4/MIToS/src/PDB/Interaction.jl:9\n",
       "\\end{verbatim}\n"
      ],
      "text/markdown": [
       "No documentation found.\n",
       "\n",
       "`MIToS.PDB.iscationic` is a generic `Function`.\n",
       "\n",
       "```julia\n",
       "# 1 method for generic function \"iscationic\":\n",
       "iscationic(a::MIToS.PDB.PDBAtom, resname_a::ASCIIString) at /home/diego/.julia/v0.4/MIToS/src/PDB/Interaction.jl:9\n",
       "```\n"
      ],
      "text/plain": [
       "No documentation found.\n",
       "\n",
       "`MIToS.PDB.iscationic` is a generic `Function`.\n",
       "\n",
       "```julia\n",
       "# 1 method for generic function \"iscationic\":\n",
       "iscationic(a::MIToS.PDB.PDBAtom, resname_a::ASCIIString) at /home/diego/.julia/v0.4/MIToS/src/PDB/Interaction.jl:9\n",
       "```\n"
      ]
     },
     "execution_count": 25,
     "metadata": {},
     "output_type": "execute_result"
    }
   ],
   "source": [
    "?MIToS.PDB.iscationic"
   ]
  },
  {
   "cell_type": "code",
   "execution_count": 26,
   "metadata": {
    "collapsed": false
   },
   "outputs": [
    {
     "data": {
      "text/latex": [
       "No documentation found.\n",
       "\\texttt{MIToS.PDB.isanionic} is a generic \\texttt{Function}.\n",
       "\\begin{verbatim}\n",
       "# 1 method for generic function \"isanionic\":\n",
       "isanionic(a::MIToS.PDB.PDBAtom, resname_a::ASCIIString) at /home/diego/.julia/v0.4/MIToS/src/PDB/Interaction.jl:11\n",
       "\\end{verbatim}\n"
      ],
      "text/markdown": [
       "No documentation found.\n",
       "\n",
       "`MIToS.PDB.isanionic` is a generic `Function`.\n",
       "\n",
       "```julia\n",
       "# 1 method for generic function \"isanionic\":\n",
       "isanionic(a::MIToS.PDB.PDBAtom, resname_a::ASCIIString) at /home/diego/.julia/v0.4/MIToS/src/PDB/Interaction.jl:11\n",
       "```\n"
      ],
      "text/plain": [
       "No documentation found.\n",
       "\n",
       "`MIToS.PDB.isanionic` is a generic `Function`.\n",
       "\n",
       "```julia\n",
       "# 1 method for generic function \"isanionic\":\n",
       "isanionic(a::MIToS.PDB.PDBAtom, resname_a::ASCIIString) at /home/diego/.julia/v0.4/MIToS/src/PDB/Interaction.jl:11\n",
       "```\n"
      ]
     },
     "execution_count": 26,
     "metadata": {},
     "output_type": "execute_result"
    }
   ],
   "source": [
    "?MIToS.PDB.isanionic"
   ]
  },
  {
   "cell_type": "code",
   "execution_count": 27,
   "metadata": {
    "collapsed": false
   },
   "outputs": [
    {
     "data": {
      "text/latex": [
       "No documentation found.\n",
       "\\texttt{MIToS.PDB.ishbonddonor} is a generic \\texttt{Function}.\n",
       "\\begin{verbatim}\n",
       "# 1 method for generic function \"ishbonddonor\":\n",
       "ishbonddonor(a::MIToS.PDB.PDBAtom, resname_a::ASCIIString) at /home/diego/.julia/v0.4/MIToS/src/PDB/Interaction.jl:13\n",
       "\\end{verbatim}\n"
      ],
      "text/markdown": [
       "No documentation found.\n",
       "\n",
       "`MIToS.PDB.ishbonddonor` is a generic `Function`.\n",
       "\n",
       "```julia\n",
       "# 1 method for generic function \"ishbonddonor\":\n",
       "ishbonddonor(a::MIToS.PDB.PDBAtom, resname_a::ASCIIString) at /home/diego/.julia/v0.4/MIToS/src/PDB/Interaction.jl:13\n",
       "```\n"
      ],
      "text/plain": [
       "No documentation found.\n",
       "\n",
       "`MIToS.PDB.ishbonddonor` is a generic `Function`.\n",
       "\n",
       "```julia\n",
       "# 1 method for generic function \"ishbonddonor\":\n",
       "ishbonddonor(a::MIToS.PDB.PDBAtom, resname_a::ASCIIString) at /home/diego/.julia/v0.4/MIToS/src/PDB/Interaction.jl:13\n",
       "```\n"
      ]
     },
     "execution_count": 27,
     "metadata": {},
     "output_type": "execute_result"
    }
   ],
   "source": [
    "?MIToS.PDB.ishbonddonor"
   ]
  },
  {
   "cell_type": "code",
   "execution_count": 28,
   "metadata": {
    "collapsed": false
   },
   "outputs": [
    {
     "data": {
      "text/latex": [
       "No documentation found.\n",
       "\\texttt{MIToS.PDB.ishbondacceptor} is a generic \\texttt{Function}.\n",
       "\\begin{verbatim}\n",
       "# 1 method for generic function \"ishbondacceptor\":\n",
       "ishbondacceptor(a::MIToS.PDB.PDBAtom, resname_a::ASCIIString) at /home/diego/.julia/v0.4/MIToS/src/PDB/Interaction.jl:15\n",
       "\\end{verbatim}\n"
      ],
      "text/markdown": [
       "No documentation found.\n",
       "\n",
       "`MIToS.PDB.ishbondacceptor` is a generic `Function`.\n",
       "\n",
       "```julia\n",
       "# 1 method for generic function \"ishbondacceptor\":\n",
       "ishbondacceptor(a::MIToS.PDB.PDBAtom, resname_a::ASCIIString) at /home/diego/.julia/v0.4/MIToS/src/PDB/Interaction.jl:15\n",
       "```\n"
      ],
      "text/plain": [
       "No documentation found.\n",
       "\n",
       "`MIToS.PDB.ishbondacceptor` is a generic `Function`.\n",
       "\n",
       "```julia\n",
       "# 1 method for generic function \"ishbondacceptor\":\n",
       "ishbondacceptor(a::MIToS.PDB.PDBAtom, resname_a::ASCIIString) at /home/diego/.julia/v0.4/MIToS/src/PDB/Interaction.jl:15\n",
       "```\n"
      ]
     },
     "execution_count": 28,
     "metadata": {},
     "output_type": "execute_result"
    }
   ],
   "source": [
    "?MIToS.PDB.ishbondacceptor"
   ]
  },
  {
   "cell_type": "code",
   "execution_count": 29,
   "metadata": {
    "collapsed": false
   },
   "outputs": [
    {
     "data": {
      "text/latex": [
       "No documentation found.\n",
       "\\texttt{MIToS.PDB.hydrogenbond} is a generic \\texttt{Function}.\n",
       "\\begin{verbatim}\n",
       "# 1 method for generic function \"hydrogenbond\":\n",
       "hydrogenbond(a::MIToS.PDB.PDBResidue, b::MIToS.PDB.PDBResidue) at /home/diego/.julia/v0.4/MIToS/src/PDB/Interaction.jl:227\n",
       "\\end{verbatim}\n"
      ],
      "text/markdown": [
       "No documentation found.\n",
       "\n",
       "`MIToS.PDB.hydrogenbond` is a generic `Function`.\n",
       "\n",
       "```julia\n",
       "# 1 method for generic function \"hydrogenbond\":\n",
       "hydrogenbond(a::MIToS.PDB.PDBResidue, b::MIToS.PDB.PDBResidue) at /home/diego/.julia/v0.4/MIToS/src/PDB/Interaction.jl:227\n",
       "```\n"
      ],
      "text/plain": [
       "No documentation found.\n",
       "\n",
       "`MIToS.PDB.hydrogenbond` is a generic `Function`.\n",
       "\n",
       "```julia\n",
       "# 1 method for generic function \"hydrogenbond\":\n",
       "hydrogenbond(a::MIToS.PDB.PDBResidue, b::MIToS.PDB.PDBResidue) at /home/diego/.julia/v0.4/MIToS/src/PDB/Interaction.jl:227\n",
       "```\n"
      ]
     },
     "execution_count": 29,
     "metadata": {},
     "output_type": "execute_result"
    }
   ],
   "source": [
    "?MIToS.PDB.hydrogenbond"
   ]
  },
  {
   "cell_type": "code",
   "execution_count": 30,
   "metadata": {
    "collapsed": false
   },
   "outputs": [
    {
     "data": {
      "text/latex": [
       "Returns dist <= 0.5 if the atoms aren't in vanderwaalsradius\n"
      ],
      "text/markdown": [
       "Returns dist <= 0.5 if the atoms aren't in vanderwaalsradius\n"
      ],
      "text/plain": [
       "Returns dist <= 0.5 if the atoms aren't in vanderwaalsradius\n"
      ]
     },
     "execution_count": 30,
     "metadata": {},
     "output_type": "execute_result"
    }
   ],
   "source": [
    "?MIToS.PDB.vanderwaals"
   ]
  },
  {
   "cell_type": "code",
   "execution_count": 31,
   "metadata": {
    "collapsed": false
   },
   "outputs": [
    {
     "data": {
      "text/latex": [
       "Returns true if the distance between the atoms is less than the sum of the vanderwaalsradius of the atoms. If the atoms aren't on the list (i.e. OXT), the vanderwaalsradius of the element is used. If there is not data in the dict,  dist = 0.0 is used.\n"
      ],
      "text/markdown": [
       "Returns true if the distance between the atoms is less than the sum of the vanderwaalsradius of the atoms. If the atoms aren't on the list (i.e. OXT), the vanderwaalsradius of the element is used. If there is not data in the dict,  dist = 0.0 is used.\n"
      ],
      "text/plain": [
       "Returns true if the distance between the atoms is less than the sum of the vanderwaalsradius of the atoms. If the atoms aren't on the list (i.e. OXT), the vanderwaalsradius of the element is used. If there is not data in the dict,  dist = 0.0 is used.\n"
      ]
     },
     "execution_count": 31,
     "metadata": {},
     "output_type": "execute_result"
    }
   ],
   "source": [
    "?MIToS.PDB.vanderwaalsclash"
   ]
  },
  {
   "cell_type": "code",
   "execution_count": 32,
   "metadata": {
    "collapsed": false
   },
   "outputs": [
    {
     "data": {
      "text/latex": [
       "No documentation found.\n",
       "\\texttt{MIToS.PDB.covalent} is a generic \\texttt{Function}.\n",
       "\\begin{verbatim}\n",
       "# 3 methods for generic function \"covalent\":\n",
       "covalent(a::MIToS.PDB.PDBAtom, b::MIToS.PDB.PDBAtom) at /home/diego/.julia/v0.4/MIToS/src/PDB/Interaction.jl:71\n",
       "covalent(a::MIToS.PDB.PDBAtom, b::MIToS.PDB.PDBAtom, resname_a, resname_b) at /home/diego/.julia/v0.4/MIToS/src/PDB/Interaction.jl:67\n",
       "covalent(a::MIToS.PDB.PDBResidue, b::MIToS.PDB.PDBResidue) at /home/diego/.julia/v0.4/MIToS/src/PDB/Interaction.jl:73\n",
       "\\end{verbatim}\n"
      ],
      "text/markdown": [
       "No documentation found.\n",
       "\n",
       "`MIToS.PDB.covalent` is a generic `Function`.\n",
       "\n",
       "```julia\n",
       "# 3 methods for generic function \"covalent\":\n",
       "covalent(a::MIToS.PDB.PDBAtom, b::MIToS.PDB.PDBAtom) at /home/diego/.julia/v0.4/MIToS/src/PDB/Interaction.jl:71\n",
       "covalent(a::MIToS.PDB.PDBAtom, b::MIToS.PDB.PDBAtom, resname_a, resname_b) at /home/diego/.julia/v0.4/MIToS/src/PDB/Interaction.jl:67\n",
       "covalent(a::MIToS.PDB.PDBResidue, b::MIToS.PDB.PDBResidue) at /home/diego/.julia/v0.4/MIToS/src/PDB/Interaction.jl:73\n",
       "```\n"
      ],
      "text/plain": [
       "No documentation found.\n",
       "\n",
       "`MIToS.PDB.covalent` is a generic `Function`.\n",
       "\n",
       "```julia\n",
       "# 3 methods for generic function \"covalent\":\n",
       "covalent(a::MIToS.PDB.PDBAtom, b::MIToS.PDB.PDBAtom) at /home/diego/.julia/v0.4/MIToS/src/PDB/Interaction.jl:71\n",
       "covalent(a::MIToS.PDB.PDBAtom, b::MIToS.PDB.PDBAtom, resname_a, resname_b) at /home/diego/.julia/v0.4/MIToS/src/PDB/Interaction.jl:67\n",
       "covalent(a::MIToS.PDB.PDBResidue, b::MIToS.PDB.PDBResidue) at /home/diego/.julia/v0.4/MIToS/src/PDB/Interaction.jl:73\n",
       "```\n"
      ]
     },
     "execution_count": 32,
     "metadata": {},
     "output_type": "execute_result"
    }
   ],
   "source": [
    "?MIToS.PDB.covalent"
   ]
  },
  {
   "cell_type": "code",
   "execution_count": 33,
   "metadata": {
    "collapsed": false
   },
   "outputs": [
    {
     "data": {
      "text/latex": [
       "No documentation found.\n",
       "\\texttt{MIToS.PDB.disulphide} is a generic \\texttt{Function}.\n",
       "\\begin{verbatim}\n",
       "# 2 methods for generic function \"disulphide\":\n",
       "disulphide(a::MIToS.PDB.PDBAtom, b::MIToS.PDB.PDBAtom, resname_a, resname_b) at /home/diego/.julia/v0.4/MIToS/src/PDB/Interaction.jl:81\n",
       "disulphide(a::MIToS.PDB.PDBResidue, b::MIToS.PDB.PDBResidue) at /home/diego/.julia/v0.4/MIToS/src/PDB/Interaction.jl:87\n",
       "\\end{verbatim}\n"
      ],
      "text/markdown": [
       "No documentation found.\n",
       "\n",
       "`MIToS.PDB.disulphide` is a generic `Function`.\n",
       "\n",
       "```julia\n",
       "# 2 methods for generic function \"disulphide\":\n",
       "disulphide(a::MIToS.PDB.PDBAtom, b::MIToS.PDB.PDBAtom, resname_a, resname_b) at /home/diego/.julia/v0.4/MIToS/src/PDB/Interaction.jl:81\n",
       "disulphide(a::MIToS.PDB.PDBResidue, b::MIToS.PDB.PDBResidue) at /home/diego/.julia/v0.4/MIToS/src/PDB/Interaction.jl:87\n",
       "```\n"
      ],
      "text/plain": [
       "No documentation found.\n",
       "\n",
       "`MIToS.PDB.disulphide` is a generic `Function`.\n",
       "\n",
       "```julia\n",
       "# 2 methods for generic function \"disulphide\":\n",
       "disulphide(a::MIToS.PDB.PDBAtom, b::MIToS.PDB.PDBAtom, resname_a, resname_b) at /home/diego/.julia/v0.4/MIToS/src/PDB/Interaction.jl:81\n",
       "disulphide(a::MIToS.PDB.PDBResidue, b::MIToS.PDB.PDBResidue) at /home/diego/.julia/v0.4/MIToS/src/PDB/Interaction.jl:87\n",
       "```\n"
      ]
     },
     "execution_count": 33,
     "metadata": {},
     "output_type": "execute_result"
    }
   ],
   "source": [
    "?MIToS.PDB.disulphide"
   ]
  },
  {
   "cell_type": "code",
   "execution_count": 34,
   "metadata": {
    "collapsed": false
   },
   "outputs": [
    {
     "data": {
      "text/latex": [
       "No documentation found.\n",
       "\\texttt{MIToS.PDB.aromaticsulphur} is a generic \\texttt{Function}.\n",
       "\\begin{verbatim}\n",
       "# 2 methods for generic function \"aromaticsulphur\":\n",
       "aromaticsulphur(a::MIToS.PDB.PDBAtom, b::MIToS.PDB.PDBAtom, resname_a, resname_b) at /home/diego/.julia/v0.4/MIToS/src/PDB/Interaction.jl:95\n",
       "aromaticsulphur(a::MIToS.PDB.PDBResidue, b::MIToS.PDB.PDBResidue) at /home/diego/.julia/v0.4/MIToS/src/PDB/Interaction.jl:103\n",
       "\\end{verbatim}\n"
      ],
      "text/markdown": [
       "No documentation found.\n",
       "\n",
       "`MIToS.PDB.aromaticsulphur` is a generic `Function`.\n",
       "\n",
       "```julia\n",
       "# 2 methods for generic function \"aromaticsulphur\":\n",
       "aromaticsulphur(a::MIToS.PDB.PDBAtom, b::MIToS.PDB.PDBAtom, resname_a, resname_b) at /home/diego/.julia/v0.4/MIToS/src/PDB/Interaction.jl:95\n",
       "aromaticsulphur(a::MIToS.PDB.PDBResidue, b::MIToS.PDB.PDBResidue) at /home/diego/.julia/v0.4/MIToS/src/PDB/Interaction.jl:103\n",
       "```\n"
      ],
      "text/plain": [
       "No documentation found.\n",
       "\n",
       "`MIToS.PDB.aromaticsulphur` is a generic `Function`.\n",
       "\n",
       "```julia\n",
       "# 2 methods for generic function \"aromaticsulphur\":\n",
       "aromaticsulphur(a::MIToS.PDB.PDBAtom, b::MIToS.PDB.PDBAtom, resname_a, resname_b) at /home/diego/.julia/v0.4/MIToS/src/PDB/Interaction.jl:95\n",
       "aromaticsulphur(a::MIToS.PDB.PDBResidue, b::MIToS.PDB.PDBResidue) at /home/diego/.julia/v0.4/MIToS/src/PDB/Interaction.jl:103\n",
       "```\n"
      ]
     },
     "execution_count": 34,
     "metadata": {},
     "output_type": "execute_result"
    }
   ],
   "source": [
    "?MIToS.PDB.aromaticsulphur"
   ]
  },
  {
   "cell_type": "code",
   "execution_count": 35,
   "metadata": {
    "collapsed": false
   },
   "outputs": [
    {
     "data": {
      "text/latex": [
       "No documentation found.\n",
       "\\texttt{MIToS.PDB.pication} is a generic \\texttt{Function}.\n",
       "\\begin{verbatim}\n",
       "# 2 methods for generic function \"pication\":\n",
       "pication(a::MIToS.PDB.PDBAtom, b::MIToS.PDB.PDBAtom, resname_a, resname_b) at /home/diego/.julia/v0.4/MIToS/src/PDB/Interaction.jl:109\n",
       "pication(a::MIToS.PDB.PDBResidue, b::MIToS.PDB.PDBResidue) at /home/diego/.julia/v0.4/MIToS/src/PDB/Interaction.jl:117\n",
       "\\end{verbatim}\n"
      ],
      "text/markdown": [
       "No documentation found.\n",
       "\n",
       "`MIToS.PDB.pication` is a generic `Function`.\n",
       "\n",
       "```julia\n",
       "# 2 methods for generic function \"pication\":\n",
       "pication(a::MIToS.PDB.PDBAtom, b::MIToS.PDB.PDBAtom, resname_a, resname_b) at /home/diego/.julia/v0.4/MIToS/src/PDB/Interaction.jl:109\n",
       "pication(a::MIToS.PDB.PDBResidue, b::MIToS.PDB.PDBResidue) at /home/diego/.julia/v0.4/MIToS/src/PDB/Interaction.jl:117\n",
       "```\n"
      ],
      "text/plain": [
       "No documentation found.\n",
       "\n",
       "`MIToS.PDB.pication` is a generic `Function`.\n",
       "\n",
       "```julia\n",
       "# 2 methods for generic function \"pication\":\n",
       "pication(a::MIToS.PDB.PDBAtom, b::MIToS.PDB.PDBAtom, resname_a, resname_b) at /home/diego/.julia/v0.4/MIToS/src/PDB/Interaction.jl:109\n",
       "pication(a::MIToS.PDB.PDBResidue, b::MIToS.PDB.PDBResidue) at /home/diego/.julia/v0.4/MIToS/src/PDB/Interaction.jl:117\n",
       "```\n"
      ]
     },
     "execution_count": 35,
     "metadata": {},
     "output_type": "execute_result"
    }
   ],
   "source": [
    "?MIToS.PDB.pication"
   ]
  },
  {
   "cell_type": "code",
   "execution_count": 36,
   "metadata": {
    "collapsed": false
   },
   "outputs": [
    {
     "data": {
      "text/latex": [
       "No documentation found.\n",
       "\\texttt{MIToS.PDB.aromatic} is a generic \\texttt{Function}.\n",
       "\\begin{verbatim}\n",
       "# 1 method for generic function \"aromatic\":\n",
       "aromatic(a::MIToS.PDB.PDBResidue, b::MIToS.PDB.PDBResidue) at /home/diego/.julia/v0.4/MIToS/src/PDB/Interaction.jl:123\n",
       "\\end{verbatim}\n"
      ],
      "text/markdown": [
       "No documentation found.\n",
       "\n",
       "`MIToS.PDB.aromatic` is a generic `Function`.\n",
       "\n",
       "```julia\n",
       "# 1 method for generic function \"aromatic\":\n",
       "aromatic(a::MIToS.PDB.PDBResidue, b::MIToS.PDB.PDBResidue) at /home/diego/.julia/v0.4/MIToS/src/PDB/Interaction.jl:123\n",
       "```\n"
      ],
      "text/plain": [
       "No documentation found.\n",
       "\n",
       "`MIToS.PDB.aromatic` is a generic `Function`.\n",
       "\n",
       "```julia\n",
       "# 1 method for generic function \"aromatic\":\n",
       "aromatic(a::MIToS.PDB.PDBResidue, b::MIToS.PDB.PDBResidue) at /home/diego/.julia/v0.4/MIToS/src/PDB/Interaction.jl:123\n",
       "```\n"
      ]
     },
     "execution_count": 36,
     "metadata": {},
     "output_type": "execute_result"
    }
   ],
   "source": [
    "?MIToS.PDB.aromatic"
   ]
  },
  {
   "cell_type": "code",
   "execution_count": 37,
   "metadata": {
    "collapsed": false
   },
   "outputs": [
    {
     "data": {
      "text/latex": [
       "No documentation found.\n",
       "\\texttt{MIToS.PDB.ionic} is a generic \\texttt{Function}.\n",
       "\\begin{verbatim}\n",
       "# 2 methods for generic function \"ionic\":\n",
       "ionic(a::MIToS.PDB.PDBAtom, b::MIToS.PDB.PDBAtom, resname_a, resname_b) at /home/diego/.julia/v0.4/MIToS/src/PDB/Interaction.jl:135\n",
       "ionic(a::MIToS.PDB.PDBResidue, b::MIToS.PDB.PDBResidue) at /home/diego/.julia/v0.4/MIToS/src/PDB/Interaction.jl:143\n",
       "\\end{verbatim}\n"
      ],
      "text/markdown": [
       "No documentation found.\n",
       "\n",
       "`MIToS.PDB.ionic` is a generic `Function`.\n",
       "\n",
       "```julia\n",
       "# 2 methods for generic function \"ionic\":\n",
       "ionic(a::MIToS.PDB.PDBAtom, b::MIToS.PDB.PDBAtom, resname_a, resname_b) at /home/diego/.julia/v0.4/MIToS/src/PDB/Interaction.jl:135\n",
       "ionic(a::MIToS.PDB.PDBResidue, b::MIToS.PDB.PDBResidue) at /home/diego/.julia/v0.4/MIToS/src/PDB/Interaction.jl:143\n",
       "```\n"
      ],
      "text/plain": [
       "No documentation found.\n",
       "\n",
       "`MIToS.PDB.ionic` is a generic `Function`.\n",
       "\n",
       "```julia\n",
       "# 2 methods for generic function \"ionic\":\n",
       "ionic(a::MIToS.PDB.PDBAtom, b::MIToS.PDB.PDBAtom, resname_a, resname_b) at /home/diego/.julia/v0.4/MIToS/src/PDB/Interaction.jl:135\n",
       "ionic(a::MIToS.PDB.PDBResidue, b::MIToS.PDB.PDBResidue) at /home/diego/.julia/v0.4/MIToS/src/PDB/Interaction.jl:143\n",
       "```\n"
      ]
     },
     "execution_count": 37,
     "metadata": {},
     "output_type": "execute_result"
    }
   ],
   "source": [
    "?MIToS.PDB.ionic"
   ]
  },
  {
   "cell_type": "code",
   "execution_count": 38,
   "metadata": {
    "collapsed": false
   },
   "outputs": [
    {
     "data": {
      "text/latex": [
       "No documentation found.\n",
       "\\texttt{MIToS.PDB.hydrophobic} is a generic \\texttt{Function}.\n",
       "\\begin{verbatim}\n",
       "# 2 methods for generic function \"hydrophobic\":\n",
       "hydrophobic(a::MIToS.PDB.PDBAtom, b::MIToS.PDB.PDBAtom, resname_a, resname_b) at /home/diego/.julia/v0.4/MIToS/src/PDB/Interaction.jl:149\n",
       "hydrophobic(a::MIToS.PDB.PDBResidue, b::MIToS.PDB.PDBResidue) at /home/diego/.julia/v0.4/MIToS/src/PDB/Interaction.jl:155\n",
       "\\end{verbatim}\n"
      ],
      "text/markdown": [
       "No documentation found.\n",
       "\n",
       "`MIToS.PDB.hydrophobic` is a generic `Function`.\n",
       "\n",
       "```julia\n",
       "# 2 methods for generic function \"hydrophobic\":\n",
       "hydrophobic(a::MIToS.PDB.PDBAtom, b::MIToS.PDB.PDBAtom, resname_a, resname_b) at /home/diego/.julia/v0.4/MIToS/src/PDB/Interaction.jl:149\n",
       "hydrophobic(a::MIToS.PDB.PDBResidue, b::MIToS.PDB.PDBResidue) at /home/diego/.julia/v0.4/MIToS/src/PDB/Interaction.jl:155\n",
       "```\n"
      ],
      "text/plain": [
       "No documentation found.\n",
       "\n",
       "`MIToS.PDB.hydrophobic` is a generic `Function`.\n",
       "\n",
       "```julia\n",
       "# 2 methods for generic function \"hydrophobic\":\n",
       "hydrophobic(a::MIToS.PDB.PDBAtom, b::MIToS.PDB.PDBAtom, resname_a, resname_b) at /home/diego/.julia/v0.4/MIToS/src/PDB/Interaction.jl:149\n",
       "hydrophobic(a::MIToS.PDB.PDBResidue, b::MIToS.PDB.PDBResidue) at /home/diego/.julia/v0.4/MIToS/src/PDB/Interaction.jl:155\n",
       "```\n"
      ]
     },
     "execution_count": 38,
     "metadata": {},
     "output_type": "execute_result"
    }
   ],
   "source": [
    "?MIToS.PDB.hydrophobic"
   ]
  },
  {
   "cell_type": "code",
   "execution_count": 39,
   "metadata": {
    "collapsed": false
   },
   "outputs": [
    {
     "data": {
      "text/latex": [
       "No documentation found.\n",
       "\\texttt{MIToS.PDB.stridehydrogenbond} is a generic \\texttt{Function}.\n",
       "\\begin{verbatim}\n",
       "# 1 method for generic function \"stridehydrogenbond\":\n",
       "stridehydrogenbond(filename::ASCIIString) at /home/diego/.julia/v0.4/MIToS/src/PDB/Interaction.jl:233\n",
       "\\end{verbatim}\n"
      ],
      "text/markdown": [
       "No documentation found.\n",
       "\n",
       "`MIToS.PDB.stridehydrogenbond` is a generic `Function`.\n",
       "\n",
       "```julia\n",
       "# 1 method for generic function \"stridehydrogenbond\":\n",
       "stridehydrogenbond(filename::ASCIIString) at /home/diego/.julia/v0.4/MIToS/src/PDB/Interaction.jl:233\n",
       "```\n"
      ],
      "text/plain": [
       "No documentation found.\n",
       "\n",
       "`MIToS.PDB.stridehydrogenbond` is a generic `Function`.\n",
       "\n",
       "```julia\n",
       "# 1 method for generic function \"stridehydrogenbond\":\n",
       "stridehydrogenbond(filename::ASCIIString) at /home/diego/.julia/v0.4/MIToS/src/PDB/Interaction.jl:233\n",
       "```\n"
      ]
     },
     "execution_count": 39,
     "metadata": {},
     "output_type": "execute_result"
    }
   ],
   "source": [
    "?MIToS.PDB.stridehydrogenbond"
   ]
  },
  {
   "cell_type": "code",
   "execution_count": 40,
   "metadata": {
    "collapsed": false
   },
   "outputs": [
    {
     "data": {
      "text/latex": [
       "No documentation found.\n",
       "\\texttt{MIToS.PDB.chimerahydrogenbond} is a generic \\texttt{Function}.\n",
       "\\begin{verbatim}\n",
       "# 1 method for generic function \"chimerahydrogenbond\":\n",
       "chimerahydrogenbond(filename::ASCIIString) at /home/diego/.julia/v0.4/MIToS/src/PDB/Interaction.jl:248\n",
       "\\end{verbatim}\n"
      ],
      "text/markdown": [
       "No documentation found.\n",
       "\n",
       "`MIToS.PDB.chimerahydrogenbond` is a generic `Function`.\n",
       "\n",
       "```julia\n",
       "# 1 method for generic function \"chimerahydrogenbond\":\n",
       "chimerahydrogenbond(filename::ASCIIString) at /home/diego/.julia/v0.4/MIToS/src/PDB/Interaction.jl:248\n",
       "```\n"
      ],
      "text/plain": [
       "No documentation found.\n",
       "\n",
       "`MIToS.PDB.chimerahydrogenbond` is a generic `Function`.\n",
       "\n",
       "```julia\n",
       "# 1 method for generic function \"chimerahydrogenbond\":\n",
       "chimerahydrogenbond(filename::ASCIIString) at /home/diego/.julia/v0.4/MIToS/src/PDB/Interaction.jl:248\n",
       "```\n"
      ]
     },
     "execution_count": 40,
     "metadata": {},
     "output_type": "execute_result"
    }
   ],
   "source": [
    "?MIToS.PDB.chimerahydrogenbond"
   ]
  },
  {
   "cell_type": "markdown",
   "metadata": {},
   "source": [
    "<a href=\"#\"><i class=\"fa fa-arrow-up\"></i></a>\n",
    "\n",
    "### Selections"
   ]
  },
  {
   "cell_type": "code",
   "execution_count": 48,
   "metadata": {
    "collapsed": false
   },
   "outputs": [
    {
     "data": {
      "text/latex": [
       "No documentation found.\n",
       "\\texttt{MIToS.PDB.residuesdict} is a generic \\texttt{Function}.\n",
       "\\begin{verbatim}\n",
       "# 1 method for generic function \"residuesdict\":\n",
       "residuesdict(residue_list, model, chain, group, residue) at /home/diego/.julia/v0.4/MIToS/src/PDB/PDBResidues.jl:126\n",
       "\\end{verbatim}\n"
      ],
      "text/markdown": [
       "No documentation found.\n",
       "\n",
       "`MIToS.PDB.residuesdict` is a generic `Function`.\n",
       "\n",
       "```julia\n",
       "# 1 method for generic function \"residuesdict\":\n",
       "residuesdict(residue_list, model, chain, group, residue) at /home/diego/.julia/v0.4/MIToS/src/PDB/PDBResidues.jl:126\n",
       "```\n"
      ],
      "text/plain": [
       "No documentation found.\n",
       "\n",
       "`MIToS.PDB.residuesdict` is a generic `Function`.\n",
       "\n",
       "```julia\n",
       "# 1 method for generic function \"residuesdict\":\n",
       "residuesdict(residue_list, model, chain, group, residue) at /home/diego/.julia/v0.4/MIToS/src/PDB/PDBResidues.jl:126\n",
       "```\n"
      ]
     },
     "execution_count": 48,
     "metadata": {},
     "output_type": "execute_result"
    }
   ],
   "source": [
    "?MIToS.PDB.residuesdict"
   ]
  },
  {
   "cell_type": "code",
   "execution_count": 46,
   "metadata": {
    "collapsed": false
   },
   "outputs": [
    {
     "data": {
      "text/latex": [
       "No documentation found.\n",
       "\\texttt{MIToS.PDB.residues} is a generic \\texttt{Function}.\n",
       "\\begin{verbatim}\n",
       "# 1 method for generic function \"residues\":\n",
       "residues(residue_list, model, chain, group, residue) at /home/diego/.julia/v0.4/MIToS/src/PDB/PDBResidues.jl:111\n",
       "\\end{verbatim}\n"
      ],
      "text/markdown": [
       "No documentation found.\n",
       "\n",
       "`MIToS.PDB.residues` is a generic `Function`.\n",
       "\n",
       "```julia\n",
       "# 1 method for generic function \"residues\":\n",
       "residues(residue_list, model, chain, group, residue) at /home/diego/.julia/v0.4/MIToS/src/PDB/PDBResidues.jl:111\n",
       "```\n"
      ],
      "text/plain": [
       "No documentation found.\n",
       "\n",
       "`MIToS.PDB.residues` is a generic `Function`.\n",
       "\n",
       "```julia\n",
       "# 1 method for generic function \"residues\":\n",
       "residues(residue_list, model, chain, group, residue) at /home/diego/.julia/v0.4/MIToS/src/PDB/PDBResidues.jl:111\n",
       "```\n"
      ]
     },
     "execution_count": 46,
     "metadata": {},
     "output_type": "execute_result"
    }
   ],
   "source": [
    "?MIToS.PDB.residues"
   ]
  },
  {
   "cell_type": "code",
   "execution_count": 47,
   "metadata": {
    "collapsed": false
   },
   "outputs": [
    {
     "data": {
      "text/latex": [
       "No documentation found.\n",
       "\\texttt{MIToS.PDB.atoms} is a generic \\texttt{Function}.\n",
       "\\begin{verbatim}\n",
       "# 1 method for generic function \"atoms\":\n",
       "atoms(residue_list, model, chain, group, residue, atom) at /home/diego/.julia/v0.4/MIToS/src/PDB/PDBResidues.jl:150\n",
       "\\end{verbatim}\n"
      ],
      "text/markdown": [
       "No documentation found.\n",
       "\n",
       "`MIToS.PDB.atoms` is a generic `Function`.\n",
       "\n",
       "```julia\n",
       "# 1 method for generic function \"atoms\":\n",
       "atoms(residue_list, model, chain, group, residue, atom) at /home/diego/.julia/v0.4/MIToS/src/PDB/PDBResidues.jl:150\n",
       "```\n"
      ],
      "text/plain": [
       "No documentation found.\n",
       "\n",
       "`MIToS.PDB.atoms` is a generic `Function`.\n",
       "\n",
       "```julia\n",
       "# 1 method for generic function \"atoms\":\n",
       "atoms(residue_list, model, chain, group, residue, atom) at /home/diego/.julia/v0.4/MIToS/src/PDB/PDBResidues.jl:150\n",
       "```\n"
      ]
     },
     "execution_count": 47,
     "metadata": {},
     "output_type": "execute_result"
    }
   ],
   "source": [
    "?MIToS.PDB.atoms"
   ]
  },
  {
   "cell_type": "code",
   "execution_count": 41,
   "metadata": {
    "collapsed": false
   },
   "outputs": [
    {
     "data": {
      "text/latex": [
       "No documentation found.\n",
       "\\texttt{MIToS.PDB.findheavy} is a generic \\texttt{Function}.\n",
       "\\begin{verbatim}\n",
       "# 1 method for generic function \"findheavy\":\n",
       "findheavy(res::MIToS.PDB.PDBResidue) at /home/diego/.julia/v0.4/MIToS/src/PDB/PDBResidues.jl:172\n",
       "\\end{verbatim}\n"
      ],
      "text/markdown": [
       "No documentation found.\n",
       "\n",
       "`MIToS.PDB.findheavy` is a generic `Function`.\n",
       "\n",
       "```julia\n",
       "# 1 method for generic function \"findheavy\":\n",
       "findheavy(res::MIToS.PDB.PDBResidue) at /home/diego/.julia/v0.4/MIToS/src/PDB/PDBResidues.jl:172\n",
       "```\n"
      ],
      "text/plain": [
       "No documentation found.\n",
       "\n",
       "`MIToS.PDB.findheavy` is a generic `Function`.\n",
       "\n",
       "```julia\n",
       "# 1 method for generic function \"findheavy\":\n",
       "findheavy(res::MIToS.PDB.PDBResidue) at /home/diego/.julia/v0.4/MIToS/src/PDB/PDBResidues.jl:172\n",
       "```\n"
      ]
     },
     "execution_count": 41,
     "metadata": {},
     "output_type": "execute_result"
    }
   ],
   "source": [
    "?MIToS.PDB.findheavy"
   ]
  },
  {
   "cell_type": "code",
   "execution_count": 42,
   "metadata": {
    "collapsed": false
   },
   "outputs": [
    {
     "data": {
      "text/latex": [
       "No documentation found.\n",
       "\\texttt{MIToS.PDB.findatoms} is a generic \\texttt{Function}.\n",
       "\\begin{verbatim}\n",
       "# 1 method for generic function \"findatoms\":\n",
       "findatoms(res::MIToS.PDB.PDBResidue, atom::ASCIIString) at /home/diego/.julia/v0.4/MIToS/src/PDB/PDBResidues.jl:185\n",
       "\\end{verbatim}\n"
      ],
      "text/markdown": [
       "No documentation found.\n",
       "\n",
       "`MIToS.PDB.findatoms` is a generic `Function`.\n",
       "\n",
       "```julia\n",
       "# 1 method for generic function \"findatoms\":\n",
       "findatoms(res::MIToS.PDB.PDBResidue, atom::ASCIIString) at /home/diego/.julia/v0.4/MIToS/src/PDB/PDBResidues.jl:185\n",
       "```\n"
      ],
      "text/plain": [
       "No documentation found.\n",
       "\n",
       "`MIToS.PDB.findatoms` is a generic `Function`.\n",
       "\n",
       "```julia\n",
       "# 1 method for generic function \"findatoms\":\n",
       "findatoms(res::MIToS.PDB.PDBResidue, atom::ASCIIString) at /home/diego/.julia/v0.4/MIToS/src/PDB/PDBResidues.jl:185\n",
       "```\n"
      ]
     },
     "execution_count": 42,
     "metadata": {},
     "output_type": "execute_result"
    }
   ],
   "source": [
    "?MIToS.PDB.findatoms"
   ]
  },
  {
   "cell_type": "code",
   "execution_count": 43,
   "metadata": {
    "collapsed": false
   },
   "outputs": [
    {
     "data": {
      "text/latex": [
       "Returns a vector of indices for CB (CA for GLY)\n"
      ],
      "text/markdown": [
       "Returns a vector of indices for CB (CA for GLY)\n"
      ],
      "text/plain": [
       "Returns a vector of indices for CB (CA for GLY)\n"
      ]
     },
     "execution_count": 43,
     "metadata": {},
     "output_type": "execute_result"
    }
   ],
   "source": [
    "?MIToS.PDB.findCB"
   ]
  },
  {
   "cell_type": "code",
   "execution_count": 44,
   "metadata": {
    "collapsed": false
   },
   "outputs": [
    {
     "data": {
      "text/latex": [
       "No documentation found.\n",
       "\\texttt{MIToS.PDB.bestoccupancy!} is a generic \\texttt{Function}.\n",
       "\\begin{verbatim}\n",
       "# 1 method for generic function \"bestoccupancy!\":\n",
       "bestoccupancy!(atoms::Array{MIToS.PDB.PDBAtom,1}) at /home/diego/.julia/v0.4/MIToS/src/PDB/PDBResidues.jl:388\n",
       "\\end{verbatim}\n"
      ],
      "text/markdown": [
       "No documentation found.\n",
       "\n",
       "`MIToS.PDB.bestoccupancy!` is a generic `Function`.\n",
       "\n",
       "```julia\n",
       "# 1 method for generic function \"bestoccupancy!\":\n",
       "bestoccupancy!(atoms::Array{MIToS.PDB.PDBAtom,1}) at /home/diego/.julia/v0.4/MIToS/src/PDB/PDBResidues.jl:388\n",
       "```\n"
      ],
      "text/plain": [
       "No documentation found.\n",
       "\n",
       "`MIToS.PDB.bestoccupancy!` is a generic `Function`.\n",
       "\n",
       "```julia\n",
       "# 1 method for generic function \"bestoccupancy!\":\n",
       "bestoccupancy!(atoms::Array{MIToS.PDB.PDBAtom,1}) at /home/diego/.julia/v0.4/MIToS/src/PDB/PDBResidues.jl:388\n",
       "```\n"
      ]
     },
     "execution_count": 44,
     "metadata": {},
     "output_type": "execute_result"
    }
   ],
   "source": [
    "?MIToS.PDB.bestoccupancy!"
   ]
  },
  {
   "cell_type": "code",
   "execution_count": 45,
   "metadata": {
    "collapsed": false
   },
   "outputs": [
    {
     "data": {
      "text/latex": [
       "No documentation found.\n",
       "\\texttt{MIToS.PDB.selectbestoccupancy} is a generic \\texttt{Function}.\n",
       "\\begin{verbatim}\n",
       "# 1 method for generic function \"selectbestoccupancy\":\n",
       "selectbestoccupancy(res::MIToS.PDB.PDBResidue, indices::Array{Int64,1}) at /home/diego/.julia/v0.4/MIToS/src/PDB/PDBResidues.jl:213\n",
       "\\end{verbatim}\n"
      ],
      "text/markdown": [
       "No documentation found.\n",
       "\n",
       "`MIToS.PDB.selectbestoccupancy` is a generic `Function`.\n",
       "\n",
       "```julia\n",
       "# 1 method for generic function \"selectbestoccupancy\":\n",
       "selectbestoccupancy(res::MIToS.PDB.PDBResidue, indices::Array{Int64,1}) at /home/diego/.julia/v0.4/MIToS/src/PDB/PDBResidues.jl:213\n",
       "```\n"
      ],
      "text/plain": [
       "No documentation found.\n",
       "\n",
       "`MIToS.PDB.selectbestoccupancy` is a generic `Function`.\n",
       "\n",
       "```julia\n",
       "# 1 method for generic function \"selectbestoccupancy\":\n",
       "selectbestoccupancy(res::MIToS.PDB.PDBResidue, indices::Array{Int64,1}) at /home/diego/.julia/v0.4/MIToS/src/PDB/PDBResidues.jl:213\n",
       "```\n"
      ]
     },
     "execution_count": 45,
     "metadata": {},
     "output_type": "execute_result"
    }
   ],
   "source": [
    "?MIToS.PDB.selectbestoccupancy"
   ]
  },
  {
   "cell_type": "markdown",
   "metadata": {},
   "source": [
    "<a href=\"#\"><i class=\"fa fa-arrow-up\"></i></a>\n",
    "\n",
    "### Imported from MIToS.Utils"
   ]
  },
  {
   "cell_type": "code",
   "execution_count": 49,
   "metadata": {
    "collapsed": false
   },
   "outputs": [
    {
     "data": {
      "text/latex": [
       "Returns a vector of Nullables with the captures of the \\texttt{field}s. Null if any test fails or the object hasn't the \\texttt{field}.\n",
       "\\texttt{collectcaptures(vector::AbstractVector{SIFTSResidue}, db_capture, field, db_test, tests)}\n",
       "Calls the \\texttt{capture} function and returns a vector of \\texttt{Nullable}s with the captured \\texttt{field}s. The element is null if any test fails or the object hasn't the \\texttt{field}.\n"
      ],
      "text/markdown": [
       "Returns a vector of Nullables with the captures of the `field`s. Null if any test fails or the object hasn't the `field`.\n",
       "\n",
       "`collectcaptures(vector::AbstractVector{SIFTSResidue}, db_capture, field, db_test, tests)`\n",
       "\n",
       "Calls the `capture` function and returns a vector of `Nullable`s with the captured `field`s. The element is null if any test fails or the object hasn't the `field`.\n"
      ],
      "text/plain": [
       "Returns a vector of Nullables with the captures of the `field`s. Null if any test fails or the object hasn't the `field`.\n",
       "\n",
       "`collectcaptures(vector::AbstractVector{SIFTSResidue}, db_capture, field, db_test, tests)`\n",
       "\n",
       "Calls the `capture` function and returns a vector of `Nullable`s with the captured `field`s. The element is null if any test fails or the object hasn't the `field`.\n"
      ]
     },
     "execution_count": 49,
     "metadata": {},
     "output_type": "execute_result"
    }
   ],
   "source": [
    "?MIToS.PDB.collectcaptures"
   ]
  },
  {
   "cell_type": "code",
   "execution_count": 50,
   "metadata": {
    "collapsed": false
   },
   "outputs": [
    {
     "data": {
      "text/latex": [
       "Returns \\texttt{true} if all the tests are satisfied\n",
       "Returns \\texttt{true} if the tests are successfully passed for that \\texttt{DataBase} sub-type on that \\texttt{SIFTSResidue}.\n"
      ],
      "text/markdown": [
       "Returns `true` if all the tests are satisfied\n",
       "\n",
       "Returns `true` if the tests are successfully passed for that `DataBase` sub-type on that `SIFTSResidue`.\n"
      ],
      "text/plain": [
       "Returns `true` if all the tests are satisfied\n",
       "\n",
       "Returns `true` if the tests are successfully passed for that `DataBase` sub-type on that `SIFTSResidue`.\n"
      ]
     },
     "execution_count": 50,
     "metadata": {},
     "output_type": "execute_result"
    }
   ],
   "source": [
    "?MIToS.PDB.isobject"
   ]
  },
  {
   "cell_type": "code",
   "execution_count": 51,
   "metadata": {
    "collapsed": false
   },
   "outputs": [
    {
     "data": {
      "text/latex": [
       "Returns a vector of the indexes for which \\texttt{isobject} is true.\n"
      ],
      "text/markdown": [
       "Returns a vector of the indexes for which `isobject` is true.\n"
      ],
      "text/plain": [
       "Returns a vector of the indexes for which `isobject` is true.\n"
      ]
     },
     "execution_count": 51,
     "metadata": {},
     "output_type": "execute_result"
    }
   ],
   "source": [
    "?MIToS.PDB.findobjects"
   ]
  },
  {
   "cell_type": "code",
   "execution_count": 52,
   "metadata": {
    "collapsed": false
   },
   "outputs": [
    {
     "data": {
      "text/latex": [
       "Returns a vector with the objects for which \\texttt{isobject} is true given the Tests.\n"
      ],
      "text/markdown": [
       "Returns a vector with the objects for which `isobject` is true given the Tests.\n"
      ],
      "text/plain": [
       "Returns a vector with the objects for which `isobject` is true given the Tests.\n"
      ]
     },
     "execution_count": 52,
     "metadata": {},
     "output_type": "execute_result"
    }
   ],
   "source": [
    "?MIToS.PDB.collectobjects"
   ]
  },
  {
   "cell_type": "markdown",
   "metadata": {},
   "source": [
    "<a href=\"#\"><i class=\"fa fa-arrow-up\"></i></a>\n",
    "\n",
    "### Imported from Base"
   ]
  },
  {
   "cell_type": "code",
   "execution_count": 53,
   "metadata": {
    "collapsed": false
   },
   "outputs": [
    {
     "data": {
      "text/latex": [
       "\\begin{verbatim}\n",
       "parse(str, start; greedy=true, raise=true)\n",
       "\\end{verbatim}\n",
       "Parse the expression string and return an expression (which could later be passed to eval for execution). \\texttt{start} is the index of the first character to start parsing. If \\texttt{greedy} is \\texttt{true} (default), \\texttt{parse} will try to consume as much input as it can; otherwise, it will stop as soon as it has parsed a valid expression. Incomplete but otherwise syntactically valid expressions will return \\texttt{Expr(:incomplete, \"(error message)\")}. If \\texttt{raise} is \\texttt{true} (default), syntax errors other than incomplete expressions will raise an error. If \\texttt{raise} is \\texttt{false}, \\texttt{parse} will return an expression that will raise an error upon evaluation.\n",
       "\\begin{verbatim}\n",
       "parse(str; raise=true)\n",
       "\\end{verbatim}\n",
       "Parse the expression string greedily, returning a single expression. An error is thrown if there are additional characters after the first expression. If \\texttt{raise} is \\texttt{true} (default), syntax errors will raise an error; otherwise, \\texttt{parse} will return an expression that will raise an error upon evaluation.\n",
       "\\begin{verbatim}\n",
       "parse(type, str, [base])\n",
       "\\end{verbatim}\n",
       "Parse a string as a number. If the type is an integer type, then a base can be specified (the default is 10). If the type is a floating point type, the string is parsed as a decimal floating point number. If the string does not contain a valid number, an error is raised.\n",
       "\\begin{verbatim}\n",
       "parse(Colorant, desc)\n",
       "\\end{verbatim}\n",
       "Parse a color description.\n",
       "This parses subset of HTML/CSS color specifications. In particular, everything is supported but: \"currentColor\".\n",
       "It does support named colors (though it uses X11 named colors, which are slightly different than W3C named colors in some cases), \"rgb()\", \"hsl()\", \"\\#RGB\", and \"\\#RRGGBB' syntax.\n",
       "Args: - \\texttt{Colorant}: literal \"Colorant\" will parse according to the \\texttt{desc} string (usually returning an \\texttt{RGB}); any more specific choice will return a color of the specified type. - \\texttt{desc}: A color name or description.\n",
       "Returns:   An \\texttt{RGB{U8}} color, unless:     - \"hsl(h,s,l)\" was used, in which case an \\texttt{HSL} color;     - \"rgba(r,g,b,a)\" was used, in which case an \\texttt{RGBA} color;     - \"hsla(h,s,l,a)\" was used, in which case an \\texttt{HSLA} color;     - a specific \\texttt{Colorant} type was specified in the first argument\n",
       "\\texttt{parse(io::Union{IO, AbstractString}, format[, output; generatemapping::Bool=false, useidcoordinates::Bool=false, deletefullgaps::Bool=true ])}\n",
       "The keyword argument \\texttt{generatemapping} (\\texttt{false} by default) indicates if the mapping of the sequences (\"SeqMap\") and columns (\"ColMap\") and the number of columns in the original MSA (\"NCol\") should be generated and saved in the annotations. If \\texttt{useidcoordinates} is \\texttt{true} (default: \\texttt{false}) the sequence IDs of the form \"ID/start-end\" are parsed and used for determining the start and end positions when the mappings are generated. \\texttt{deletefullgaps} (\\texttt{true} by default) indicates if columns 100\\% gaps (generally inserts from a HMM) must be removed from the MSA. By default, the ambiguous or not standard residues are replaced by gaps (i.e. \\texttt{J} for leucine or isoleucine). But, if the keyword argument \\texttt{checkalphabet} is \\texttt{true} (\\texttt{false} by default), the sequences with residues that do not belong to the defined alphabet are deleted.\n",
       "Reads a text file of a PDB entry. Returns a list of PDBResidue (view MIToS.PDB.PDBResidues). Setting \\texttt{chain}, \\texttt{model}, \\texttt{group}, \\texttt{atomname} and \\texttt{onlyheavy} values can be used to select of a subset of all residues. Group can be ATOM or HETATM. If not set, all residues are returned.\n",
       "Reads a LightXML.XMLDocument representing a pdb file. Returns a list of PDBResidue (view MIToS.PDB.PDBResidues). Setting \\texttt{chain}, \\texttt{model}, \\texttt{group}, \\texttt{atomname} and \\texttt{onlyheavy} values can be used to select of a subset of all residues. If not set, all residues are returned.\n"
      ],
      "text/markdown": [
       "```\n",
       "parse(str, start; greedy=true, raise=true)\n",
       "```\n",
       "\n",
       "Parse the expression string and return an expression (which could later be passed to eval for execution). `start` is the index of the first character to start parsing. If `greedy` is `true` (default), `parse` will try to consume as much input as it can; otherwise, it will stop as soon as it has parsed a valid expression. Incomplete but otherwise syntactically valid expressions will return `Expr(:incomplete, \"(error message)\")`. If `raise` is `true` (default), syntax errors other than incomplete expressions will raise an error. If `raise` is `false`, `parse` will return an expression that will raise an error upon evaluation.\n",
       "\n",
       "```\n",
       "parse(str; raise=true)\n",
       "```\n",
       "\n",
       "Parse the expression string greedily, returning a single expression. An error is thrown if there are additional characters after the first expression. If `raise` is `true` (default), syntax errors will raise an error; otherwise, `parse` will return an expression that will raise an error upon evaluation.\n",
       "\n",
       "```\n",
       "parse(type, str, [base])\n",
       "```\n",
       "\n",
       "Parse a string as a number. If the type is an integer type, then a base can be specified (the default is 10). If the type is a floating point type, the string is parsed as a decimal floating point number. If the string does not contain a valid number, an error is raised.\n",
       "\n",
       "```\n",
       "parse(Colorant, desc)\n",
       "```\n",
       "\n",
       "Parse a color description.\n",
       "\n",
       "This parses subset of HTML/CSS color specifications. In particular, everything is supported but: \"currentColor\".\n",
       "\n",
       "It does support named colors (though it uses X11 named colors, which are slightly different than W3C named colors in some cases), \"rgb()\", \"hsl()\", \"#RGB\", and \"#RRGGBB' syntax.\n",
       "\n",
       "Args: - `Colorant`: literal \"Colorant\" will parse according to the `desc` string (usually returning an `RGB`); any more specific choice will return a color of the specified type. - `desc`: A color name or description.\n",
       "\n",
       "Returns:   An `RGB{U8}` color, unless:     - \"hsl(h,s,l)\" was used, in which case an `HSL` color;     - \"rgba(r,g,b,a)\" was used, in which case an `RGBA` color;     - \"hsla(h,s,l,a)\" was used, in which case an `HSLA` color;     - a specific `Colorant` type was specified in the first argument\n",
       "\n",
       "`parse(io::Union{IO, AbstractString}, format[, output; generatemapping::Bool=false, useidcoordinates::Bool=false, deletefullgaps::Bool=true ])`\n",
       "\n",
       "The keyword argument `generatemapping` (`false` by default) indicates if the mapping of the sequences (\"SeqMap\") and columns (\"ColMap\") and the number of columns in the original MSA (\"NCol\") should be generated and saved in the annotations. If `useidcoordinates` is `true` (default: `false`) the sequence IDs of the form \"ID/start-end\" are parsed and used for determining the start and end positions when the mappings are generated. `deletefullgaps` (`true` by default) indicates if columns 100% gaps (generally inserts from a HMM) must be removed from the MSA. By default, the ambiguous or not standard residues are replaced by gaps (i.e. `J` for leucine or isoleucine). But, if the keyword argument `checkalphabet` is `true` (`false` by default), the sequences with residues that do not belong to the defined alphabet are deleted.\n",
       "\n",
       "Reads a text file of a PDB entry. Returns a list of PDBResidue (view MIToS.PDB.PDBResidues). Setting `chain`, `model`, `group`, `atomname` and `onlyheavy` values can be used to select of a subset of all residues. Group can be ATOM or HETATM. If not set, all residues are returned.\n",
       "\n",
       "Reads a LightXML.XMLDocument representing a pdb file. Returns a list of PDBResidue (view MIToS.PDB.PDBResidues). Setting `chain`, `model`, `group`, `atomname` and `onlyheavy` values can be used to select of a subset of all residues. If not set, all residues are returned.\n"
      ],
      "text/plain": [
       "```\n",
       "parse(str, start; greedy=true, raise=true)\n",
       "```\n",
       "\n",
       "Parse the expression string and return an expression (which could later be passed to eval for execution). `start` is the index of the first character to start parsing. If `greedy` is `true` (default), `parse` will try to consume as much input as it can; otherwise, it will stop as soon as it has parsed a valid expression. Incomplete but otherwise syntactically valid expressions will return `Expr(:incomplete, \"(error message)\")`. If `raise` is `true` (default), syntax errors other than incomplete expressions will raise an error. If `raise` is `false`, `parse` will return an expression that will raise an error upon evaluation.\n",
       "\n",
       "```\n",
       "parse(str; raise=true)\n",
       "```\n",
       "\n",
       "Parse the expression string greedily, returning a single expression. An error is thrown if there are additional characters after the first expression. If `raise` is `true` (default), syntax errors will raise an error; otherwise, `parse` will return an expression that will raise an error upon evaluation.\n",
       "\n",
       "```\n",
       "parse(type, str, [base])\n",
       "```\n",
       "\n",
       "Parse a string as a number. If the type is an integer type, then a base can be specified (the default is 10). If the type is a floating point type, the string is parsed as a decimal floating point number. If the string does not contain a valid number, an error is raised.\n",
       "\n",
       "```\n",
       "parse(Colorant, desc)\n",
       "```\n",
       "\n",
       "Parse a color description.\n",
       "\n",
       "This parses subset of HTML/CSS color specifications. In particular, everything is supported but: \"currentColor\".\n",
       "\n",
       "It does support named colors (though it uses X11 named colors, which are slightly different than W3C named colors in some cases), \"rgb()\", \"hsl()\", \"#RGB\", and \"#RRGGBB' syntax.\n",
       "\n",
       "Args: - `Colorant`: literal \"Colorant\" will parse according to the `desc` string (usually returning an `RGB`); any more specific choice will return a color of the specified type. - `desc`: A color name or description.\n",
       "\n",
       "Returns:   An `RGB{U8}` color, unless:     - \"hsl(h,s,l)\" was used, in which case an `HSL` color;     - \"rgba(r,g,b,a)\" was used, in which case an `RGBA` color;     - \"hsla(h,s,l,a)\" was used, in which case an `HSLA` color;     - a specific `Colorant` type was specified in the first argument\n",
       "\n",
       "`parse(io::Union{IO, AbstractString}, format[, output; generatemapping::Bool=false, useidcoordinates::Bool=false, deletefullgaps::Bool=true ])`\n",
       "\n",
       "The keyword argument `generatemapping` (`false` by default) indicates if the mapping of the sequences (\"SeqMap\") and columns (\"ColMap\") and the number of columns in the original MSA (\"NCol\") should be generated and saved in the annotations. If `useidcoordinates` is `true` (default: `false`) the sequence IDs of the form \"ID/start-end\" are parsed and used for determining the start and end positions when the mappings are generated. `deletefullgaps` (`true` by default) indicates if columns 100% gaps (generally inserts from a HMM) must be removed from the MSA. By default, the ambiguous or not standard residues are replaced by gaps (i.e. `J` for leucine or isoleucine). But, if the keyword argument `checkalphabet` is `true` (`false` by default), the sequences with residues that do not belong to the defined alphabet are deleted.\n",
       "\n",
       "Reads a text file of a PDB entry. Returns a list of PDBResidue (view MIToS.PDB.PDBResidues). Setting `chain`, `model`, `group`, `atomname` and `onlyheavy` values can be used to select of a subset of all residues. Group can be ATOM or HETATM. If not set, all residues are returned.\n",
       "\n",
       "Reads a LightXML.XMLDocument representing a pdb file. Returns a list of PDBResidue (view MIToS.PDB.PDBResidues). Setting `chain`, `model`, `group`, `atomname` and `onlyheavy` values can be used to select of a subset of all residues. If not set, all residues are returned.\n"
      ]
     },
     "execution_count": 53,
     "metadata": {},
     "output_type": "execute_result"
    }
   ],
   "source": [
    "?MIToS.PDB.parse"
   ]
  }
 ],
 "metadata": {
  "kernelspec": {
   "display_name": "Julia 0.4.1",
   "language": "julia",
   "name": "julia-0.4"
  },
  "language_info": {
   "file_extension": ".jl",
   "mimetype": "application/julia",
   "name": "julia",
   "version": "0.4.1"
  }
 },
 "nbformat": 4,
 "nbformat_minor": 0
}
