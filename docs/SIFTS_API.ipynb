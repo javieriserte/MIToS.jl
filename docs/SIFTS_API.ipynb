{
 "cells": [
  {
   "cell_type": "markdown",
   "metadata": {},
   "source": [
    "# PDB API\n",
    "\n",
    "- [Types](#Types)\n",
    "    - [SIFTS](#SIFTS)\n",
    "    - [Databases](#Databases)\n",
    "    - [Formats](#Formats)\n",
    "    - [Utils](#Utils)\n",
    "- [Methods](#Methods)\n",
    "    - [Imported from MIToS.Utils](#Imported-from-MIToS.Utils)\n",
    "    - [Imported from Base](#Imported-from-Base)"
   ]
  },
  {
   "cell_type": "code",
   "execution_count": 1,
   "metadata": {
    "collapsed": false
   },
   "outputs": [],
   "source": [
    "using MIToS.SIFTS"
   ]
  },
  {
   "cell_type": "code",
   "execution_count": 2,
   "metadata": {
    "collapsed": false
   },
   "outputs": [
    {
     "data": {
      "text/latex": [
       "The \\texttt{SIFTS} module of MIToS allows to obtain the residue-level mapping between databases stored in the SIFTS XML files. It makes easy to assign PDB residues to UniProt/Pfam positions. Given the fact that pairwise alignments can lead to misleading association between residues in both sequences, SIFTS offers  more reliable association between sequence and structure residue numbers.\n",
       "\\textbf{Features}\n",
       "\\begin{itemize}\n",
       "\\item Download and parse SIFTS XML files\n",
       "\\item Store residue-level mapping in Julia\n",
       "\\item Easy generation of \\texttt{Dict}s between residues numbers\n",
       "\\end{itemize}\n",
       "\\begin{verbatim}\n",
       "\n",
       "using MIToS.SIFTS\n",
       "\\end{verbatim}\n"
      ],
      "text/markdown": [
       "The `SIFTS` module of MIToS allows to obtain the residue-level mapping between databases stored in the SIFTS XML files. It makes easy to assign PDB residues to UniProt/Pfam positions. Given the fact that pairwise alignments can lead to misleading association between residues in both sequences, SIFTS offers  more reliable association between sequence and structure residue numbers.\n",
       "\n",
       "**Features**\n",
       "\n",
       "  * Download and parse SIFTS XML files\n",
       "  * Store residue-level mapping in Julia\n",
       "  * Easy generation of `Dict`s between residues numbers\n",
       "\n",
       "```julia\n",
       "\n",
       "using MIToS.SIFTS\n",
       "```\n"
      ],
      "text/plain": [
       "The `SIFTS` module of MIToS allows to obtain the residue-level mapping between databases stored in the SIFTS XML files. It makes easy to assign PDB residues to UniProt/Pfam positions. Given the fact that pairwise alignments can lead to misleading association between residues in both sequences, SIFTS offers  more reliable association between sequence and structure residue numbers.\n",
       "\n",
       "**Features**\n",
       "\n",
       "  * Download and parse SIFTS XML files\n",
       "  * Store residue-level mapping in Julia\n",
       "  * Easy generation of `Dict`s between residues numbers\n",
       "\n",
       "```julia\n",
       "\n",
       "using MIToS.SIFTS\n",
       "```\n"
      ]
     },
     "execution_count": 2,
     "metadata": {},
     "output_type": "execute_result"
    }
   ],
   "source": [
    "?MIToS.SIFTS"
   ]
  },
  {
   "cell_type": "markdown",
   "metadata": {},
   "source": [
    "<div class=\"panel panel-info\">\n",
    "    <div class=\"panel-heading\">\n",
    "        <strong>Julia help mode</strong>\n",
    "    </div>\n",
    "    <div class=\"panel-body\">\n",
    "        <p>If you type <code>?</code> at the beginning of the Julia REPL line, you will enter in the Julia help mode. In this mode, Julia prints the help or <strong>documentation</strong> of the entered element. This is a nice way of getting information about MIToS functions, types, etc. from Julia.</p>\n",
    "    </div>\n",
    "</div>"
   ]
  },
  {
   "cell_type": "markdown",
   "metadata": {},
   "source": [
    "<a href=\"#\"><i class=\"fa fa-arrow-up\"></i></a>\n",
    "\n",
    "## Types"
   ]
  },
  {
   "cell_type": "code",
   "execution_count": 3,
   "metadata": {
    "collapsed": false
   },
   "outputs": [
    {
     "name": "stderr",
     "output_type": "stream",
     "text": [
      "WARNING: both DataArrays and StatsBase export \"autocor\"; uses of it in module DataFrames must be qualified\n",
      "WARNING: both DataArrays and StatsBase export \"inverse_rle\"; uses of it in module DataFrames must be qualified\n",
      "WARNING: both DataArrays and StatsBase export \"rle\"; uses of it in module DataFrames must be qualified\n"
     ]
    },
    {
     "data": {
      "text/latex": [
       "No documentation found.\n",
       "\\textbf{Summary:}\n",
       "\\begin{verbatim}\n",
       "abstract MIToS.SIFTS.DataBase <: Any\n",
       "\\end{verbatim}\n",
       "\\textbf{Subtypes:}\n",
       "\\begin{verbatim}\n",
       "MIToS.SIFTS.dbCATH\n",
       "MIToS.SIFTS.dbInterPro\n",
       "MIToS.SIFTS.dbNCBI\n",
       "MIToS.SIFTS.dbPDB\n",
       "MIToS.SIFTS.dbPDBe\n",
       "MIToS.SIFTS.dbPfam\n",
       "MIToS.SIFTS.dbSCOP\n",
       "MIToS.SIFTS.dbUniProt\n",
       "\\end{verbatim}\n"
      ],
      "text/markdown": [
       "No documentation found.\n",
       "\n",
       "**Summary:**\n",
       "\n",
       "```julia\n",
       "abstract MIToS.SIFTS.DataBase <: Any\n",
       "```\n",
       "\n",
       "**Subtypes:**\n",
       "\n",
       "```julia\n",
       "MIToS.SIFTS.dbCATH\n",
       "MIToS.SIFTS.dbInterPro\n",
       "MIToS.SIFTS.dbNCBI\n",
       "MIToS.SIFTS.dbPDB\n",
       "MIToS.SIFTS.dbPDBe\n",
       "MIToS.SIFTS.dbPfam\n",
       "MIToS.SIFTS.dbSCOP\n",
       "MIToS.SIFTS.dbUniProt\n",
       "```\n"
      ],
      "text/plain": [
       "No documentation found.\n",
       "\n",
       "**Summary:**\n",
       "\n",
       "```julia\n",
       "abstract MIToS.SIFTS.DataBase <: Any\n",
       "```\n",
       "\n",
       "**Subtypes:**\n",
       "\n",
       "```julia\n",
       "MIToS.SIFTS.dbCATH\n",
       "MIToS.SIFTS.dbInterPro\n",
       "MIToS.SIFTS.dbNCBI\n",
       "MIToS.SIFTS.dbPDB\n",
       "MIToS.SIFTS.dbPDBe\n",
       "MIToS.SIFTS.dbPfam\n",
       "MIToS.SIFTS.dbSCOP\n",
       "MIToS.SIFTS.dbUniProt\n",
       "```\n"
      ]
     },
     "execution_count": 3,
     "metadata": {},
     "output_type": "execute_result"
    }
   ],
   "source": [
    "?MIToS.SIFTS.DataBase"
   ]
  },
  {
   "cell_type": "markdown",
   "metadata": {},
   "source": [
    "<a href=\"#\"><i class=\"fa fa-arrow-up\"></i></a>\n",
    "\n",
    "### SIFTS"
   ]
  },
  {
   "cell_type": "code",
   "execution_count": 4,
   "metadata": {
    "collapsed": false
   },
   "outputs": [
    {
     "data": {
      "text/latex": [
       "No documentation found.\n",
       "\\textbf{Summary:}\n",
       "\\begin{verbatim}\n",
       "immutable MIToS.SIFTS.SIFTSResidue <: Any\n",
       "\\end{verbatim}\n",
       "\\textbf{Fields:}\n",
       "\\begin{verbatim}\n",
       "PDBe     :: MIToS.SIFTS.dbPDBe\n",
       "UniProt  :: Nullable{MIToS.SIFTS.dbUniProt}\n",
       "Pfam     :: Nullable{MIToS.SIFTS.dbPfam}\n",
       "NCBI     :: Nullable{MIToS.SIFTS.dbNCBI}\n",
       "InterPro :: Array{MIToS.SIFTS.dbInterPro,1}\n",
       "PDB      :: Nullable{MIToS.SIFTS.dbPDB}\n",
       "SCOP     :: Nullable{MIToS.SIFTS.dbSCOP}\n",
       "CATH     :: Nullable{MIToS.SIFTS.dbCATH}\n",
       "missing  :: Bool\n",
       "\\end{verbatim}\n"
      ],
      "text/markdown": [
       "No documentation found.\n",
       "\n",
       "**Summary:**\n",
       "\n",
       "```julia\n",
       "immutable MIToS.SIFTS.SIFTSResidue <: Any\n",
       "```\n",
       "\n",
       "**Fields:**\n",
       "\n",
       "```julia\n",
       "PDBe     :: MIToS.SIFTS.dbPDBe\n",
       "UniProt  :: Nullable{MIToS.SIFTS.dbUniProt}\n",
       "Pfam     :: Nullable{MIToS.SIFTS.dbPfam}\n",
       "NCBI     :: Nullable{MIToS.SIFTS.dbNCBI}\n",
       "InterPro :: Array{MIToS.SIFTS.dbInterPro,1}\n",
       "PDB      :: Nullable{MIToS.SIFTS.dbPDB}\n",
       "SCOP     :: Nullable{MIToS.SIFTS.dbSCOP}\n",
       "CATH     :: Nullable{MIToS.SIFTS.dbCATH}\n",
       "missing  :: Bool\n",
       "```\n"
      ],
      "text/plain": [
       "No documentation found.\n",
       "\n",
       "**Summary:**\n",
       "\n",
       "```julia\n",
       "immutable MIToS.SIFTS.SIFTSResidue <: Any\n",
       "```\n",
       "\n",
       "**Fields:**\n",
       "\n",
       "```julia\n",
       "PDBe     :: MIToS.SIFTS.dbPDBe\n",
       "UniProt  :: Nullable{MIToS.SIFTS.dbUniProt}\n",
       "Pfam     :: Nullable{MIToS.SIFTS.dbPfam}\n",
       "NCBI     :: Nullable{MIToS.SIFTS.dbNCBI}\n",
       "InterPro :: Array{MIToS.SIFTS.dbInterPro,1}\n",
       "PDB      :: Nullable{MIToS.SIFTS.dbPDB}\n",
       "SCOP     :: Nullable{MIToS.SIFTS.dbSCOP}\n",
       "CATH     :: Nullable{MIToS.SIFTS.dbCATH}\n",
       "missing  :: Bool\n",
       "```\n"
      ]
     },
     "execution_count": 4,
     "metadata": {},
     "output_type": "execute_result"
    }
   ],
   "source": [
    "?MIToS.SIFTS.SIFTSResidue"
   ]
  },
  {
   "cell_type": "markdown",
   "metadata": {},
   "source": [
    "<a href=\"#\"><i class=\"fa fa-arrow-up\"></i></a>\n",
    "\n",
    "### Databases"
   ]
  },
  {
   "cell_type": "code",
   "execution_count": 5,
   "metadata": {
    "collapsed": false
   },
   "outputs": [
    {
     "data": {
      "text/latex": [
       "No documentation found.\n",
       "\\textbf{Summary:}\n",
       "\\begin{verbatim}\n",
       "immutable MIToS.SIFTS.dbPDBe <: MIToS.SIFTS.DataBase\n",
       "\\end{verbatim}\n",
       "\\textbf{Fields:}\n",
       "\\begin{verbatim}\n",
       "number :: Int64\n",
       "name   :: ASCIIString\n",
       "\\end{verbatim}\n"
      ],
      "text/markdown": [
       "No documentation found.\n",
       "\n",
       "**Summary:**\n",
       "\n",
       "```julia\n",
       "immutable MIToS.SIFTS.dbPDBe <: MIToS.SIFTS.DataBase\n",
       "```\n",
       "\n",
       "**Fields:**\n",
       "\n",
       "```julia\n",
       "number :: Int64\n",
       "name   :: ASCIIString\n",
       "```\n"
      ],
      "text/plain": [
       "No documentation found.\n",
       "\n",
       "**Summary:**\n",
       "\n",
       "```julia\n",
       "immutable MIToS.SIFTS.dbPDBe <: MIToS.SIFTS.DataBase\n",
       "```\n",
       "\n",
       "**Fields:**\n",
       "\n",
       "```julia\n",
       "number :: Int64\n",
       "name   :: ASCIIString\n",
       "```\n"
      ]
     },
     "execution_count": 5,
     "metadata": {},
     "output_type": "execute_result"
    }
   ],
   "source": [
    "?MIToS.SIFTS.dbPDBe"
   ]
  },
  {
   "cell_type": "code",
   "execution_count": 6,
   "metadata": {
    "collapsed": false
   },
   "outputs": [
    {
     "data": {
      "text/latex": [
       "No documentation found.\n",
       "\\textbf{Summary:}\n",
       "\\begin{verbatim}\n",
       "immutable MIToS.SIFTS.dbInterPro <: MIToS.SIFTS.DataBase\n",
       "\\end{verbatim}\n",
       "\\textbf{Fields:}\n",
       "\\begin{verbatim}\n",
       "id       :: ASCIIString\n",
       "number   :: ASCIIString\n",
       "name     :: ASCIIString\n",
       "evidence :: ASCIIString\n",
       "\\end{verbatim}\n"
      ],
      "text/markdown": [
       "No documentation found.\n",
       "\n",
       "**Summary:**\n",
       "\n",
       "```julia\n",
       "immutable MIToS.SIFTS.dbInterPro <: MIToS.SIFTS.DataBase\n",
       "```\n",
       "\n",
       "**Fields:**\n",
       "\n",
       "```julia\n",
       "id       :: ASCIIString\n",
       "number   :: ASCIIString\n",
       "name     :: ASCIIString\n",
       "evidence :: ASCIIString\n",
       "```\n"
      ],
      "text/plain": [
       "No documentation found.\n",
       "\n",
       "**Summary:**\n",
       "\n",
       "```julia\n",
       "immutable MIToS.SIFTS.dbInterPro <: MIToS.SIFTS.DataBase\n",
       "```\n",
       "\n",
       "**Fields:**\n",
       "\n",
       "```julia\n",
       "id       :: ASCIIString\n",
       "number   :: ASCIIString\n",
       "name     :: ASCIIString\n",
       "evidence :: ASCIIString\n",
       "```\n"
      ]
     },
     "execution_count": 6,
     "metadata": {},
     "output_type": "execute_result"
    }
   ],
   "source": [
    "?MIToS.SIFTS.dbInterPro"
   ]
  },
  {
   "cell_type": "code",
   "execution_count": 7,
   "metadata": {
    "collapsed": false
   },
   "outputs": [
    {
     "data": {
      "text/latex": [
       "No documentation found.\n",
       "\\textbf{Summary:}\n",
       "\\begin{verbatim}\n",
       "immutable MIToS.SIFTS.dbUniProt <: MIToS.SIFTS.DataBase\n",
       "\\end{verbatim}\n",
       "\\textbf{Fields:}\n",
       "\\begin{verbatim}\n",
       "id     :: ASCIIString\n",
       "number :: Int64\n",
       "name   :: ASCIIString\n",
       "\\end{verbatim}\n"
      ],
      "text/markdown": [
       "No documentation found.\n",
       "\n",
       "**Summary:**\n",
       "\n",
       "```julia\n",
       "immutable MIToS.SIFTS.dbUniProt <: MIToS.SIFTS.DataBase\n",
       "```\n",
       "\n",
       "**Fields:**\n",
       "\n",
       "```julia\n",
       "id     :: ASCIIString\n",
       "number :: Int64\n",
       "name   :: ASCIIString\n",
       "```\n"
      ],
      "text/plain": [
       "No documentation found.\n",
       "\n",
       "**Summary:**\n",
       "\n",
       "```julia\n",
       "immutable MIToS.SIFTS.dbUniProt <: MIToS.SIFTS.DataBase\n",
       "```\n",
       "\n",
       "**Fields:**\n",
       "\n",
       "```julia\n",
       "id     :: ASCIIString\n",
       "number :: Int64\n",
       "name   :: ASCIIString\n",
       "```\n"
      ]
     },
     "execution_count": 7,
     "metadata": {},
     "output_type": "execute_result"
    }
   ],
   "source": [
    "?MIToS.SIFTS.dbUniProt"
   ]
  },
  {
   "cell_type": "code",
   "execution_count": 8,
   "metadata": {
    "collapsed": false
   },
   "outputs": [
    {
     "data": {
      "text/latex": [
       "No documentation found.\n",
       "\\textbf{Summary:}\n",
       "\\begin{verbatim}\n",
       "immutable MIToS.SIFTS.dbPfam <: MIToS.SIFTS.DataBase\n",
       "\\end{verbatim}\n",
       "\\textbf{Fields:}\n",
       "\\begin{verbatim}\n",
       "id     :: ASCIIString\n",
       "number :: Int64\n",
       "name   :: ASCIIString\n",
       "\\end{verbatim}\n"
      ],
      "text/markdown": [
       "No documentation found.\n",
       "\n",
       "**Summary:**\n",
       "\n",
       "```julia\n",
       "immutable MIToS.SIFTS.dbPfam <: MIToS.SIFTS.DataBase\n",
       "```\n",
       "\n",
       "**Fields:**\n",
       "\n",
       "```julia\n",
       "id     :: ASCIIString\n",
       "number :: Int64\n",
       "name   :: ASCIIString\n",
       "```\n"
      ],
      "text/plain": [
       "No documentation found.\n",
       "\n",
       "**Summary:**\n",
       "\n",
       "```julia\n",
       "immutable MIToS.SIFTS.dbPfam <: MIToS.SIFTS.DataBase\n",
       "```\n",
       "\n",
       "**Fields:**\n",
       "\n",
       "```julia\n",
       "id     :: ASCIIString\n",
       "number :: Int64\n",
       "name   :: ASCIIString\n",
       "```\n"
      ]
     },
     "execution_count": 8,
     "metadata": {},
     "output_type": "execute_result"
    }
   ],
   "source": [
    "?MIToS.SIFTS.dbPfam"
   ]
  },
  {
   "cell_type": "code",
   "execution_count": 9,
   "metadata": {
    "collapsed": false
   },
   "outputs": [
    {
     "data": {
      "text/latex": [
       "No documentation found.\n",
       "\\textbf{Summary:}\n",
       "\\begin{verbatim}\n",
       "immutable MIToS.SIFTS.dbNCBI <: MIToS.SIFTS.DataBase\n",
       "\\end{verbatim}\n",
       "\\textbf{Fields:}\n",
       "\\begin{verbatim}\n",
       "id     :: ASCIIString\n",
       "number :: Int64\n",
       "name   :: ASCIIString\n",
       "\\end{verbatim}\n"
      ],
      "text/markdown": [
       "No documentation found.\n",
       "\n",
       "**Summary:**\n",
       "\n",
       "```julia\n",
       "immutable MIToS.SIFTS.dbNCBI <: MIToS.SIFTS.DataBase\n",
       "```\n",
       "\n",
       "**Fields:**\n",
       "\n",
       "```julia\n",
       "id     :: ASCIIString\n",
       "number :: Int64\n",
       "name   :: ASCIIString\n",
       "```\n"
      ],
      "text/plain": [
       "No documentation found.\n",
       "\n",
       "**Summary:**\n",
       "\n",
       "```julia\n",
       "immutable MIToS.SIFTS.dbNCBI <: MIToS.SIFTS.DataBase\n",
       "```\n",
       "\n",
       "**Fields:**\n",
       "\n",
       "```julia\n",
       "id     :: ASCIIString\n",
       "number :: Int64\n",
       "name   :: ASCIIString\n",
       "```\n"
      ]
     },
     "execution_count": 9,
     "metadata": {},
     "output_type": "execute_result"
    }
   ],
   "source": [
    "?MIToS.SIFTS.dbNCBI"
   ]
  },
  {
   "cell_type": "code",
   "execution_count": 10,
   "metadata": {
    "collapsed": false
   },
   "outputs": [
    {
     "data": {
      "text/latex": [
       "No documentation found.\n",
       "\\textbf{Summary:}\n",
       "\\begin{verbatim}\n",
       "immutable MIToS.SIFTS.dbPDB <: MIToS.SIFTS.DataBase\n",
       "\\end{verbatim}\n",
       "\\textbf{Fields:}\n",
       "\\begin{verbatim}\n",
       "id     :: ASCIIString\n",
       "number :: ASCIIString\n",
       "name   :: ASCIIString\n",
       "chain  :: ASCIIString\n",
       "\\end{verbatim}\n"
      ],
      "text/markdown": [
       "No documentation found.\n",
       "\n",
       "**Summary:**\n",
       "\n",
       "```julia\n",
       "immutable MIToS.SIFTS.dbPDB <: MIToS.SIFTS.DataBase\n",
       "```\n",
       "\n",
       "**Fields:**\n",
       "\n",
       "```julia\n",
       "id     :: ASCIIString\n",
       "number :: ASCIIString\n",
       "name   :: ASCIIString\n",
       "chain  :: ASCIIString\n",
       "```\n"
      ],
      "text/plain": [
       "No documentation found.\n",
       "\n",
       "**Summary:**\n",
       "\n",
       "```julia\n",
       "immutable MIToS.SIFTS.dbPDB <: MIToS.SIFTS.DataBase\n",
       "```\n",
       "\n",
       "**Fields:**\n",
       "\n",
       "```julia\n",
       "id     :: ASCIIString\n",
       "number :: ASCIIString\n",
       "name   :: ASCIIString\n",
       "chain  :: ASCIIString\n",
       "```\n"
      ]
     },
     "execution_count": 10,
     "metadata": {},
     "output_type": "execute_result"
    }
   ],
   "source": [
    "?MIToS.SIFTS.dbPDB"
   ]
  },
  {
   "cell_type": "code",
   "execution_count": 11,
   "metadata": {
    "collapsed": false
   },
   "outputs": [
    {
     "data": {
      "text/latex": [
       "No documentation found.\n",
       "\\textbf{Summary:}\n",
       "\\begin{verbatim}\n",
       "immutable MIToS.SIFTS.dbCATH <: MIToS.SIFTS.DataBase\n",
       "\\end{verbatim}\n",
       "\\textbf{Fields:}\n",
       "\\begin{verbatim}\n",
       "id     :: ASCIIString\n",
       "number :: ASCIIString\n",
       "name   :: ASCIIString\n",
       "chain  :: ASCIIString\n",
       "\\end{verbatim}\n"
      ],
      "text/markdown": [
       "No documentation found.\n",
       "\n",
       "**Summary:**\n",
       "\n",
       "```julia\n",
       "immutable MIToS.SIFTS.dbCATH <: MIToS.SIFTS.DataBase\n",
       "```\n",
       "\n",
       "**Fields:**\n",
       "\n",
       "```julia\n",
       "id     :: ASCIIString\n",
       "number :: ASCIIString\n",
       "name   :: ASCIIString\n",
       "chain  :: ASCIIString\n",
       "```\n"
      ],
      "text/plain": [
       "No documentation found.\n",
       "\n",
       "**Summary:**\n",
       "\n",
       "```julia\n",
       "immutable MIToS.SIFTS.dbCATH <: MIToS.SIFTS.DataBase\n",
       "```\n",
       "\n",
       "**Fields:**\n",
       "\n",
       "```julia\n",
       "id     :: ASCIIString\n",
       "number :: ASCIIString\n",
       "name   :: ASCIIString\n",
       "chain  :: ASCIIString\n",
       "```\n"
      ]
     },
     "execution_count": 11,
     "metadata": {},
     "output_type": "execute_result"
    }
   ],
   "source": [
    "?MIToS.SIFTS.dbCATH"
   ]
  },
  {
   "cell_type": "code",
   "execution_count": 12,
   "metadata": {
    "collapsed": false
   },
   "outputs": [
    {
     "data": {
      "text/latex": [
       "No documentation found.\n",
       "\\textbf{Summary:}\n",
       "\\begin{verbatim}\n",
       "immutable MIToS.SIFTS.dbSCOP <: MIToS.SIFTS.DataBase\n",
       "\\end{verbatim}\n",
       "\\textbf{Fields:}\n",
       "\\begin{verbatim}\n",
       "id     :: ASCIIString\n",
       "number :: ASCIIString\n",
       "name   :: ASCIIString\n",
       "chain  :: ASCIIString\n",
       "\\end{verbatim}\n"
      ],
      "text/markdown": [
       "No documentation found.\n",
       "\n",
       "**Summary:**\n",
       "\n",
       "```julia\n",
       "immutable MIToS.SIFTS.dbSCOP <: MIToS.SIFTS.DataBase\n",
       "```\n",
       "\n",
       "**Fields:**\n",
       "\n",
       "```julia\n",
       "id     :: ASCIIString\n",
       "number :: ASCIIString\n",
       "name   :: ASCIIString\n",
       "chain  :: ASCIIString\n",
       "```\n"
      ],
      "text/plain": [
       "No documentation found.\n",
       "\n",
       "**Summary:**\n",
       "\n",
       "```julia\n",
       "immutable MIToS.SIFTS.dbSCOP <: MIToS.SIFTS.DataBase\n",
       "```\n",
       "\n",
       "**Fields:**\n",
       "\n",
       "```julia\n",
       "id     :: ASCIIString\n",
       "number :: ASCIIString\n",
       "name   :: ASCIIString\n",
       "chain  :: ASCIIString\n",
       "```\n"
      ]
     },
     "execution_count": 12,
     "metadata": {},
     "output_type": "execute_result"
    }
   ],
   "source": [
    "?MIToS.SIFTS.dbSCOP"
   ]
  },
  {
   "cell_type": "markdown",
   "metadata": {},
   "source": [
    "<a href=\"#\"><i class=\"fa fa-arrow-up\"></i></a>\n",
    "\n",
    "### Formats"
   ]
  },
  {
   "cell_type": "code",
   "execution_count": 13,
   "metadata": {
    "collapsed": false
   },
   "outputs": [
    {
     "data": {
      "text/latex": [
       "No documentation found.\n",
       "\\textbf{Summary:}\n",
       "\\begin{verbatim}\n",
       "immutable MIToS.SIFTS.SIFTSXML <: MIToS.Utils.Format\n",
       "\\end{verbatim}\n"
      ],
      "text/markdown": [
       "No documentation found.\n",
       "\n",
       "**Summary:**\n",
       "\n",
       "```julia\n",
       "immutable MIToS.SIFTS.SIFTSXML <: MIToS.Utils.Format\n",
       "```\n"
      ],
      "text/plain": [
       "No documentation found.\n",
       "\n",
       "**Summary:**\n",
       "\n",
       "```julia\n",
       "immutable MIToS.SIFTS.SIFTSXML <: MIToS.Utils.Format\n",
       "```\n"
      ]
     },
     "execution_count": 13,
     "metadata": {},
     "output_type": "execute_result"
    }
   ],
   "source": [
    "?MIToS.SIFTS.SIFTSXML"
   ]
  },
  {
   "cell_type": "markdown",
   "metadata": {},
   "source": [
    "<a href=\"#\"><i class=\"fa fa-arrow-up\"></i></a>\n",
    "\n",
    "### Utils"
   ]
  },
  {
   "cell_type": "code",
   "execution_count": 14,
   "metadata": {
    "collapsed": false
   },
   "outputs": [
    {
     "data": {
      "text/latex": [
       "No documentation found.\n",
       "\\textbf{Summary:}\n",
       "\\begin{verbatim}\n",
       "immutable MIToS.Utils.Is{T} <: MIToS.Utils.TestType\n",
       "\\end{verbatim}\n",
       "\\textbf{Fields:}\n",
       "\\begin{verbatim}\n",
       "field :: Symbol\n",
       "value :: T\n",
       "\\end{verbatim}\n"
      ],
      "text/markdown": [
       "No documentation found.\n",
       "\n",
       "**Summary:**\n",
       "\n",
       "```julia\n",
       "immutable MIToS.Utils.Is{T} <: MIToS.Utils.TestType\n",
       "```\n",
       "\n",
       "**Fields:**\n",
       "\n",
       "```julia\n",
       "field :: Symbol\n",
       "value :: T\n",
       "```\n"
      ],
      "text/plain": [
       "No documentation found.\n",
       "\n",
       "**Summary:**\n",
       "\n",
       "```julia\n",
       "immutable MIToS.Utils.Is{T} <: MIToS.Utils.TestType\n",
       "```\n",
       "\n",
       "**Fields:**\n",
       "\n",
       "```julia\n",
       "field :: Symbol\n",
       "value :: T\n",
       "```\n"
      ]
     },
     "execution_count": 14,
     "metadata": {},
     "output_type": "execute_result"
    }
   ],
   "source": [
    "?MIToS.SIFTS.Is"
   ]
  },
  {
   "cell_type": "code",
   "execution_count": 15,
   "metadata": {
    "collapsed": false
   },
   "outputs": [
    {
     "data": {
      "text/latex": [
       "No documentation found.\n",
       "\\textbf{Summary:}\n",
       "\\begin{verbatim}\n",
       "immutable MIToS.Utils.Not{T<:MIToS.Utils.TestType} <: MIToS.Utils.TestOperation\n",
       "\\end{verbatim}\n",
       "\\textbf{Fields:}\n",
       "\\begin{verbatim}\n",
       "test :: T<:MIToS.Utils.TestType\n",
       "\\end{verbatim}\n"
      ],
      "text/markdown": [
       "No documentation found.\n",
       "\n",
       "**Summary:**\n",
       "\n",
       "```julia\n",
       "immutable MIToS.Utils.Not{T<:MIToS.Utils.TestType} <: MIToS.Utils.TestOperation\n",
       "```\n",
       "\n",
       "**Fields:**\n",
       "\n",
       "```julia\n",
       "test :: T<:MIToS.Utils.TestType\n",
       "```\n"
      ],
      "text/plain": [
       "No documentation found.\n",
       "\n",
       "**Summary:**\n",
       "\n",
       "```julia\n",
       "immutable MIToS.Utils.Not{T<:MIToS.Utils.TestType} <: MIToS.Utils.TestOperation\n",
       "```\n",
       "\n",
       "**Fields:**\n",
       "\n",
       "```julia\n",
       "test :: T<:MIToS.Utils.TestType\n",
       "```\n"
      ]
     },
     "execution_count": 15,
     "metadata": {},
     "output_type": "execute_result"
    }
   ],
   "source": [
    "?MIToS.SIFTS.Not"
   ]
  },
  {
   "cell_type": "code",
   "execution_count": 16,
   "metadata": {
    "collapsed": false
   },
   "outputs": [
    {
     "data": {
      "text/latex": [
       "No documentation found.\n",
       "\\textbf{Summary:}\n",
       "\\begin{verbatim}\n",
       "immutable MIToS.Utils.In{T} <: MIToS.Utils.TestType\n",
       "\\end{verbatim}\n",
       "\\textbf{Fields:}\n",
       "\\begin{verbatim}\n",
       "field :: Symbol\n",
       "value :: T\n",
       "\\end{verbatim}\n"
      ],
      "text/markdown": [
       "No documentation found.\n",
       "\n",
       "**Summary:**\n",
       "\n",
       "```julia\n",
       "immutable MIToS.Utils.In{T} <: MIToS.Utils.TestType\n",
       "```\n",
       "\n",
       "**Fields:**\n",
       "\n",
       "```julia\n",
       "field :: Symbol\n",
       "value :: T\n",
       "```\n"
      ],
      "text/plain": [
       "No documentation found.\n",
       "\n",
       "**Summary:**\n",
       "\n",
       "```julia\n",
       "immutable MIToS.Utils.In{T} <: MIToS.Utils.TestType\n",
       "```\n",
       "\n",
       "**Fields:**\n",
       "\n",
       "```julia\n",
       "field :: Symbol\n",
       "value :: T\n",
       "```\n"
      ]
     },
     "execution_count": 16,
     "metadata": {},
     "output_type": "execute_result"
    }
   ],
   "source": [
    "?MIToS.SIFTS.In"
   ]
  },
  {
   "cell_type": "markdown",
   "metadata": {},
   "source": [
    "<a href=\"#\"><i class=\"fa fa-arrow-up\"></i></a>\n",
    "\n",
    "## Methods"
   ]
  },
  {
   "cell_type": "code",
   "execution_count": 17,
   "metadata": {
    "collapsed": false
   },
   "outputs": [
    {
     "data": {
      "text/latex": [
       "Download the gzipped SIFTS xml  for the \\texttt{pdbcode}. The extension of the downloaded file is \\texttt{.xml.gz} by default. The \\texttt{filename} can be changed, but the \\texttt{.gz} at the end is mandatory.\n"
      ],
      "text/markdown": [
       "Download the gzipped SIFTS xml  for the `pdbcode`. The extension of the downloaded file is `.xml.gz` by default. The `filename` can be changed, but the `.gz` at the end is mandatory.\n"
      ],
      "text/plain": [
       "Download the gzipped SIFTS xml  for the `pdbcode`. The extension of the downloaded file is `.xml.gz` by default. The `filename` can be changed, but the `.gz` at the end is mandatory.\n"
      ]
     },
     "execution_count": 17,
     "metadata": {},
     "output_type": "execute_result"
    }
   ],
   "source": [
    "?MIToS.SIFTS.downloadsifts"
   ]
  },
  {
   "cell_type": "code",
   "execution_count": 18,
   "metadata": {
    "collapsed": false
   },
   "outputs": [
    {
     "data": {
      "text/latex": [
       "Parses a SIFTS XML file and returns a \\texttt{Dict} between residue numbers of two \\texttt{DataBase}s  with the given identifiers. A \\texttt{chain} could be specified (\"all\" by default). If \\texttt{missings} is \\texttt{true} (default) all the residues are used, even if they haven’t coordinates in the PDB file.\n"
      ],
      "text/markdown": [
       "Parses a SIFTS XML file and returns a `Dict` between residue numbers of two `DataBase`s  with the given identifiers. A `chain` could be specified (\"all\" by default). If `missings` is `true` (default) all the residues are used, even if they haven’t coordinates in the PDB file.\n"
      ],
      "text/plain": [
       "Parses a SIFTS XML file and returns a `Dict` between residue numbers of two `DataBase`s  with the given identifiers. A `chain` could be specified (\"all\" by default). If `missings` is `true` (default) all the residues are used, even if they haven’t coordinates in the PDB file.\n"
      ]
     },
     "execution_count": 18,
     "metadata": {},
     "output_type": "execute_result"
    }
   ],
   "source": [
    "?MIToS.SIFTS.siftsmapping"
   ]
  },
  {
   "cell_type": "markdown",
   "metadata": {},
   "source": [
    "<a href=\"#\"><i class=\"fa fa-arrow-up\"></i></a>\n",
    "\n",
    "### Imported from MIToS.Utils"
   ]
  },
  {
   "cell_type": "code",
   "execution_count": 19,
   "metadata": {
    "collapsed": false
   },
   "outputs": [
    {
     "data": {
      "text/latex": [
       "Returns a \\texttt{Nullable} of the \\texttt{field}. The object is \\texttt{null} if any test fails\n",
       "Returns \\texttt{nothing} if the DataBase to test or capture is null in the SIFTSResidue\n"
      ],
      "text/markdown": [
       "Returns a `Nullable` of the `field`. The object is `null` if any test fails\n",
       "\n",
       "Returns `nothing` if the DataBase to test or capture is null in the SIFTSResidue\n"
      ],
      "text/plain": [
       "Returns a `Nullable` of the `field`. The object is `null` if any test fails\n",
       "\n",
       "Returns `nothing` if the DataBase to test or capture is null in the SIFTSResidue\n"
      ]
     },
     "execution_count": 19,
     "metadata": {},
     "output_type": "execute_result"
    }
   ],
   "source": [
    "?MIToS.SIFTS.capture"
   ]
  },
  {
   "cell_type": "code",
   "execution_count": 20,
   "metadata": {
    "collapsed": false
   },
   "outputs": [
    {
     "data": {
      "text/latex": [
       "Returns a vector of Nullables with the captures of the \\texttt{field}s. Null if any test fails or the object hasn't the \\texttt{field}.\n",
       "Returns a vector of Nullables with the captures of the \\texttt{field}s. Null if any test fails or the object hasn't the \\texttt{field}.\n"
      ],
      "text/markdown": [
       "Returns a vector of Nullables with the captures of the `field`s. Null if any test fails or the object hasn't the `field`.\n",
       "\n",
       "Returns a vector of Nullables with the captures of the `field`s. Null if any test fails or the object hasn't the `field`.\n"
      ],
      "text/plain": [
       "Returns a vector of Nullables with the captures of the `field`s. Null if any test fails or the object hasn't the `field`.\n",
       "\n",
       "Returns a vector of Nullables with the captures of the `field`s. Null if any test fails or the object hasn't the `field`.\n"
      ]
     },
     "execution_count": 20,
     "metadata": {},
     "output_type": "execute_result"
    }
   ],
   "source": [
    "?MIToS.SIFTS.collectcaptures"
   ]
  },
  {
   "cell_type": "code",
   "execution_count": 21,
   "metadata": {
    "collapsed": false
   },
   "outputs": [
    {
     "data": {
      "text/latex": [
       "Returns \\texttt{true} if all the tests are satisfied\n"
      ],
      "text/markdown": [
       "Returns `true` if all the tests are satisfied\n"
      ],
      "text/plain": [
       "Returns `true` if all the tests are satisfied\n"
      ]
     },
     "execution_count": 21,
     "metadata": {},
     "output_type": "execute_result"
    }
   ],
   "source": [
    "?MIToS.SIFTS.isobject"
   ]
  },
  {
   "cell_type": "code",
   "execution_count": 22,
   "metadata": {
    "collapsed": false
   },
   "outputs": [
    {
     "data": {
      "text/latex": [
       "Returns a vector of the indexes for which \\texttt{isobject} is true.\n"
      ],
      "text/markdown": [
       "Returns a vector of the indexes for which `isobject` is true.\n"
      ],
      "text/plain": [
       "Returns a vector of the indexes for which `isobject` is true.\n"
      ]
     },
     "execution_count": 22,
     "metadata": {},
     "output_type": "execute_result"
    }
   ],
   "source": [
    "?MIToS.SIFTS.findobjects"
   ]
  },
  {
   "cell_type": "code",
   "execution_count": 23,
   "metadata": {
    "collapsed": false
   },
   "outputs": [
    {
     "data": {
      "text/latex": [
       "Returns a vector with the objects for which \\texttt{isobject} is true given the Tests.\n"
      ],
      "text/markdown": [
       "Returns a vector with the objects for which `isobject` is true given the Tests.\n"
      ],
      "text/plain": [
       "Returns a vector with the objects for which `isobject` is true given the Tests.\n"
      ]
     },
     "execution_count": 23,
     "metadata": {},
     "output_type": "execute_result"
    }
   ],
   "source": [
    "?MIToS.SIFTS.collectobjects"
   ]
  },
  {
   "cell_type": "markdown",
   "metadata": {},
   "source": [
    "<a href=\"#\"><i class=\"fa fa-arrow-up\"></i></a>\n",
    "\n",
    "### Imported from Base"
   ]
  },
  {
   "cell_type": "code",
   "execution_count": 24,
   "metadata": {
    "collapsed": false
   },
   "outputs": [
    {
     "data": {
      "text/latex": [
       "\\begin{verbatim}\n",
       "parse(str, start; greedy=true, raise=true)\n",
       "\\end{verbatim}\n",
       "Parse the expression string and return an expression (which could later be passed to eval for execution). \\texttt{start} is the index of the first character to start parsing. If \\texttt{greedy} is \\texttt{true} (default), \\texttt{parse} will try to consume as much input as it can; otherwise, it will stop as soon as it has parsed a valid expression. Incomplete but otherwise syntactically valid expressions will return \\texttt{Expr(:incomplete, \"(error message)\")}. If \\texttt{raise} is \\texttt{true} (default), syntax errors other than incomplete expressions will raise an error. If \\texttt{raise} is \\texttt{false}, \\texttt{parse} will return an expression that will raise an error upon evaluation.\n",
       "\\begin{verbatim}\n",
       "parse(str; raise=true)\n",
       "\\end{verbatim}\n",
       "Parse the expression string greedily, returning a single expression. An error is thrown if there are additional characters after the first expression. If \\texttt{raise} is \\texttt{true} (default), syntax errors will raise an error; otherwise, \\texttt{parse} will return an expression that will raise an error upon evaluation.\n",
       "\\begin{verbatim}\n",
       "parse(type, str, [base])\n",
       "\\end{verbatim}\n",
       "Parse a string as a number. If the type is an integer type, then a base can be specified (the default is 10). If the type is a floating point type, the string is parsed as a decimal floating point number. If the string does not contain a valid number, an error is raised.\n",
       "\\begin{verbatim}\n",
       "parse(Colorant, desc)\n",
       "\\end{verbatim}\n",
       "Parse a color description.\n",
       "This parses subset of HTML/CSS color specifications. In particular, everything is supported but: \"currentColor\".\n",
       "It does support named colors (though it uses X11 named colors, which are slightly different than W3C named colors in some cases), \"rgb()\", \"hsl()\", \"\\#RGB\", and \"\\#RRGGBB' syntax.\n",
       "Args: - \\texttt{Colorant}: literal \"Colorant\" will parse according to the \\texttt{desc} string (usually returning an \\texttt{RGB}); any more specific choice will return a color of the specified type. - \\texttt{desc}: A color name or description.\n",
       "Returns:   An \\texttt{RGB{U8}} color, unless:     - \"hsl(h,s,l)\" was used, in which case an \\texttt{HSL} color;     - \"rgba(r,g,b,a)\" was used, in which case an \\texttt{RGBA} color;     - \"hsla(h,s,l,a)\" was used, in which case an \\texttt{HSLA} color;     - a specific \\texttt{Colorant} type was specified in the first argument\n",
       "\\texttt{parse(io::Union{IO, AbstractString}, format[, output; generatemapping::Bool=false, useidcoordinates::Bool=false, deletefullgaps::Bool=true ])}\n",
       "The keyword argument \\texttt{generatemapping} (\\texttt{false} by default) indicates if the mapping of the sequences (\"SeqMap\") and columns (\"ColMap\") and the number of columns in the original MSA (\"NCol\") should be generated and saved in the annotations. If \\texttt{useidcoordinates} is \\texttt{true} (default: \\texttt{false}) the sequence IDs of the form \"ID/start-end\" are parsed and used for determining the start and end positions when the mappings are generated. \\texttt{deletefullgaps} (\\texttt{true} by default) indicates if columns 100\\% gaps (generally inserts from a HMM) must be removed from the MSA. By default, the ambiguous or not standard residues are replaced by gaps (i.e. \\texttt{J} for leucine or isoleucine). But, if the keyword argument \\texttt{checkalphabet} is \\texttt{true} (\\texttt{false} by default), the sequences with residues that do not belong to the defined alphabet are deleted.\n",
       "Reads a text file of a PDB entry. Returns a list of PDBResidue (view MIToS.PDB.PDBResidues). Setting \\texttt{chain}, \\texttt{model}, \\texttt{group}, \\texttt{atomname} and \\texttt{onlyheavy} values can be used to select of a subset of all residues. Group can be ATOM or HETATM. If not set, all residues are returned.\n",
       "Reads a LightXML.XMLDocument representing a pdb file. Returns a list of PDBResidue (view MIToS.PDB.PDBResidues). Setting \\texttt{chain}, \\texttt{model}, \\texttt{group}, \\texttt{atomname} and \\texttt{onlyheavy} values can be used to select of a subset of all residues. If not set, all residues are returned.\n"
      ],
      "text/markdown": [
       "```\n",
       "parse(str, start; greedy=true, raise=true)\n",
       "```\n",
       "\n",
       "Parse the expression string and return an expression (which could later be passed to eval for execution). `start` is the index of the first character to start parsing. If `greedy` is `true` (default), `parse` will try to consume as much input as it can; otherwise, it will stop as soon as it has parsed a valid expression. Incomplete but otherwise syntactically valid expressions will return `Expr(:incomplete, \"(error message)\")`. If `raise` is `true` (default), syntax errors other than incomplete expressions will raise an error. If `raise` is `false`, `parse` will return an expression that will raise an error upon evaluation.\n",
       "\n",
       "```\n",
       "parse(str; raise=true)\n",
       "```\n",
       "\n",
       "Parse the expression string greedily, returning a single expression. An error is thrown if there are additional characters after the first expression. If `raise` is `true` (default), syntax errors will raise an error; otherwise, `parse` will return an expression that will raise an error upon evaluation.\n",
       "\n",
       "```\n",
       "parse(type, str, [base])\n",
       "```\n",
       "\n",
       "Parse a string as a number. If the type is an integer type, then a base can be specified (the default is 10). If the type is a floating point type, the string is parsed as a decimal floating point number. If the string does not contain a valid number, an error is raised.\n",
       "\n",
       "```\n",
       "parse(Colorant, desc)\n",
       "```\n",
       "\n",
       "Parse a color description.\n",
       "\n",
       "This parses subset of HTML/CSS color specifications. In particular, everything is supported but: \"currentColor\".\n",
       "\n",
       "It does support named colors (though it uses X11 named colors, which are slightly different than W3C named colors in some cases), \"rgb()\", \"hsl()\", \"#RGB\", and \"#RRGGBB' syntax.\n",
       "\n",
       "Args: - `Colorant`: literal \"Colorant\" will parse according to the `desc` string (usually returning an `RGB`); any more specific choice will return a color of the specified type. - `desc`: A color name or description.\n",
       "\n",
       "Returns:   An `RGB{U8}` color, unless:     - \"hsl(h,s,l)\" was used, in which case an `HSL` color;     - \"rgba(r,g,b,a)\" was used, in which case an `RGBA` color;     - \"hsla(h,s,l,a)\" was used, in which case an `HSLA` color;     - a specific `Colorant` type was specified in the first argument\n",
       "\n",
       "`parse(io::Union{IO, AbstractString}, format[, output; generatemapping::Bool=false, useidcoordinates::Bool=false, deletefullgaps::Bool=true ])`\n",
       "\n",
       "The keyword argument `generatemapping` (`false` by default) indicates if the mapping of the sequences (\"SeqMap\") and columns (\"ColMap\") and the number of columns in the original MSA (\"NCol\") should be generated and saved in the annotations. If `useidcoordinates` is `true` (default: `false`) the sequence IDs of the form \"ID/start-end\" are parsed and used for determining the start and end positions when the mappings are generated. `deletefullgaps` (`true` by default) indicates if columns 100% gaps (generally inserts from a HMM) must be removed from the MSA. By default, the ambiguous or not standard residues are replaced by gaps (i.e. `J` for leucine or isoleucine). But, if the keyword argument `checkalphabet` is `true` (`false` by default), the sequences with residues that do not belong to the defined alphabet are deleted.\n",
       "\n",
       "Reads a text file of a PDB entry. Returns a list of PDBResidue (view MIToS.PDB.PDBResidues). Setting `chain`, `model`, `group`, `atomname` and `onlyheavy` values can be used to select of a subset of all residues. Group can be ATOM or HETATM. If not set, all residues are returned.\n",
       "\n",
       "Reads a LightXML.XMLDocument representing a pdb file. Returns a list of PDBResidue (view MIToS.PDB.PDBResidues). Setting `chain`, `model`, `group`, `atomname` and `onlyheavy` values can be used to select of a subset of all residues. If not set, all residues are returned.\n"
      ],
      "text/plain": [
       "```\n",
       "parse(str, start; greedy=true, raise=true)\n",
       "```\n",
       "\n",
       "Parse the expression string and return an expression (which could later be passed to eval for execution). `start` is the index of the first character to start parsing. If `greedy` is `true` (default), `parse` will try to consume as much input as it can; otherwise, it will stop as soon as it has parsed a valid expression. Incomplete but otherwise syntactically valid expressions will return `Expr(:incomplete, \"(error message)\")`. If `raise` is `true` (default), syntax errors other than incomplete expressions will raise an error. If `raise` is `false`, `parse` will return an expression that will raise an error upon evaluation.\n",
       "\n",
       "```\n",
       "parse(str; raise=true)\n",
       "```\n",
       "\n",
       "Parse the expression string greedily, returning a single expression. An error is thrown if there are additional characters after the first expression. If `raise` is `true` (default), syntax errors will raise an error; otherwise, `parse` will return an expression that will raise an error upon evaluation.\n",
       "\n",
       "```\n",
       "parse(type, str, [base])\n",
       "```\n",
       "\n",
       "Parse a string as a number. If the type is an integer type, then a base can be specified (the default is 10). If the type is a floating point type, the string is parsed as a decimal floating point number. If the string does not contain a valid number, an error is raised.\n",
       "\n",
       "```\n",
       "parse(Colorant, desc)\n",
       "```\n",
       "\n",
       "Parse a color description.\n",
       "\n",
       "This parses subset of HTML/CSS color specifications. In particular, everything is supported but: \"currentColor\".\n",
       "\n",
       "It does support named colors (though it uses X11 named colors, which are slightly different than W3C named colors in some cases), \"rgb()\", \"hsl()\", \"#RGB\", and \"#RRGGBB' syntax.\n",
       "\n",
       "Args: - `Colorant`: literal \"Colorant\" will parse according to the `desc` string (usually returning an `RGB`); any more specific choice will return a color of the specified type. - `desc`: A color name or description.\n",
       "\n",
       "Returns:   An `RGB{U8}` color, unless:     - \"hsl(h,s,l)\" was used, in which case an `HSL` color;     - \"rgba(r,g,b,a)\" was used, in which case an `RGBA` color;     - \"hsla(h,s,l,a)\" was used, in which case an `HSLA` color;     - a specific `Colorant` type was specified in the first argument\n",
       "\n",
       "`parse(io::Union{IO, AbstractString}, format[, output; generatemapping::Bool=false, useidcoordinates::Bool=false, deletefullgaps::Bool=true ])`\n",
       "\n",
       "The keyword argument `generatemapping` (`false` by default) indicates if the mapping of the sequences (\"SeqMap\") and columns (\"ColMap\") and the number of columns in the original MSA (\"NCol\") should be generated and saved in the annotations. If `useidcoordinates` is `true` (default: `false`) the sequence IDs of the form \"ID/start-end\" are parsed and used for determining the start and end positions when the mappings are generated. `deletefullgaps` (`true` by default) indicates if columns 100% gaps (generally inserts from a HMM) must be removed from the MSA. By default, the ambiguous or not standard residues are replaced by gaps (i.e. `J` for leucine or isoleucine). But, if the keyword argument `checkalphabet` is `true` (`false` by default), the sequences with residues that do not belong to the defined alphabet are deleted.\n",
       "\n",
       "Reads a text file of a PDB entry. Returns a list of PDBResidue (view MIToS.PDB.PDBResidues). Setting `chain`, `model`, `group`, `atomname` and `onlyheavy` values can be used to select of a subset of all residues. Group can be ATOM or HETATM. If not set, all residues are returned.\n",
       "\n",
       "Reads a LightXML.XMLDocument representing a pdb file. Returns a list of PDBResidue (view MIToS.PDB.PDBResidues). Setting `chain`, `model`, `group`, `atomname` and `onlyheavy` values can be used to select of a subset of all residues. If not set, all residues are returned.\n"
      ]
     },
     "execution_count": 24,
     "metadata": {},
     "output_type": "execute_result"
    }
   ],
   "source": [
    "?MIToS.SIFTS.parse"
   ]
  }
 ],
 "metadata": {
  "kernelspec": {
   "display_name": "Julia 0.4.1",
   "language": "julia",
   "name": "julia-0.4"
  },
  "language_info": {
   "file_extension": ".jl",
   "mimetype": "application/julia",
   "name": "julia",
   "version": "0.4.1"
  }
 },
 "nbformat": 4,
 "nbformat_minor": 0
}
